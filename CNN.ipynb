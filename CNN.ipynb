{
 "cells": [
  {
   "cell_type": "markdown",
   "metadata": {
    "colab_type": "text",
    "deletable": false,
    "editable": false,
    "id": "ou8e20tzDq-p",
    "nbgrader": {
     "cell_type": "markdown",
     "checksum": "9b6d62fecf0d196f605810add393e68d",
     "grade": false,
     "grade_id": "cell-457fe1958d604284",
     "locked": true,
     "schema_version": 3,
     "solution": false,
     "task": false
    },
    "slideshow": {
     "slide_type": ""
    },
    "tags": []
   },
   "source": [
    "<h1 style=\"color:rgb(0,120,170)\">Assignment 8: Convolutional Neural Networks </h1>"
   ]
  },
  {
   "cell_type": "markdown",
   "metadata": {
    "colab_type": "text",
    "deletable": false,
    "editable": false,
    "id": "bPJ2o5SWDq-u",
    "nbgrader": {
     "cell_type": "markdown",
     "checksum": "3ac3d48c1aafb9b5cee8177523486437",
     "grade": false,
     "grade_id": "cell-9ed57d88f9ce806b",
     "locked": true,
     "schema_version": 3,
     "solution": false,
     "task": false
    },
    "slideshow": {
     "slide_type": ""
    },
    "tags": []
   },
   "source": [
    "<h2 style=\"color:rgb(0,120,170)\">Copyright and Fair Use</h2>\n",
    "\n",
    "This material, no matter whether in printed or electronic form,\n",
    "may be used for personal and non-commercial educational use\n",
    "only. Any reproduction of this material, no matter whether as a\n",
    "whole or in parts, no matter whether in printed or in electronic\n",
    "form, requires explicit prior acceptance of the authors."
   ]
  },
  {
   "cell_type": "markdown",
   "metadata": {
    "deletable": false,
    "editable": false,
    "nbgrader": {
     "cell_type": "markdown",
     "checksum": "cf29b9dd8e2160d6295617816bcf5dec",
     "grade": false,
     "grade_id": "cell-c19ff25097bdde0f",
     "locked": true,
     "schema_version": 3,
     "solution": false,
     "task": false
    },
    "slideshow": {
     "slide_type": ""
    },
    "tags": []
   },
   "source": [
    "<h2 style=\"color:rgb(0,120,170)\">Automatic Testing Guidelines</h2>\n",
    "\n",
    "Automatic unittesting requires you to submit a notebook which contains strictly defined objects.\n",
    "Strictness of definition consists of unified shapes, dtypes, variable names and more.\n",
    "\n",
    "Within the notebook, we provide detailed instruction which you should follow in order to maximise your final grade.\n",
    "\n",
    "**Name your notebook properly**, follow the pattern in the template name:\n",
    "\n",
    "**Assignment_N_NameSurname_matrnumber**\n",
    "<ol>\n",
    "    <li>N - number of assignment</li>\n",
    "    <li>NameSurname - your full name where every part of the name starts with a capital letter, no spaces</li>\n",
    "    <li>matrnumber - you student number on ID card (with k, potentially with a leading zero)</li>\n",
    "</ol>\n",
    "\n",
    "Don't add any cells but use the ones provided by us. All cells have a unique ID so that the unit test can find it, so please do not add or remove any cell!\n",
    "\n",
    "Always make sure that implemented functions have the correct output and given variables contain the correct data type. In the descriptions for every function you can find information on what datatype an output should have and you should stick to that in order to minimize conflicts with the unittest. Don't import any other packages than listed in the cell with the \"imports\" tag.\n",
    "\n",
    "Questions are usually multiple choice (except the task description says otherwise) and can be answered by changing the given variables to either \"True\" or \"False\". \"None\" is counted as a wrong answer in any case!\n",
    "\n",
    "**Note:** Never use variables you defined in another cell in your functions directly; always pass them to the function as a parameter. In the unitest, they won't be available either. If you want to make sure that everything is executable for the unittest, try executing cells/functions individually (instead of running the whole notebook)."
   ]
  },
  {
   "cell_type": "markdown",
   "metadata": {
    "deletable": false,
    "editable": false,
    "nbgrader": {
     "cell_type": "markdown",
     "checksum": "15d87156c5ca23c0fef02fa7ffb5b746",
     "grade": false,
     "grade_id": "cell-0e3b9e318310f1a0",
     "locked": true,
     "schema_version": 3,
     "solution": false,
     "task": false
    }
   },
   "source": [
    "<h2 style=\"color:rgb(0,120,170)\">Task 1: Explicit Computation of CNNs</h2>\n",
    "\n",
    "In this task, you should do some computuations for CNNs explicitly to gain further understanding how the corresponding operations work. \n",
    "\n",
    "<b>Your are not allowed to use any other modules than numpy for all the problems in Task 1.</b>\n",
    "\n",
    "Assume you are given an input image, for example $\\mathbf{x}=\\begin{pmatrix} 1 & 0 & 1 & 1 & 0 & 0 \\\\ 0 & 1 & 1 & 0 & 0 & 0 \\\\ 0 & 1 & 0 & 1 & 1 & 0 \\\\ 1 & 1 & 0 & 1 & 1 & 1 \\\\ 0 & 1 & 1 & 1 & 0 & 0 \\\\ 1 & 1 & 1 & 0 & 0 & 1  \\end{pmatrix}$, and a kernel $\\mathbf{W}=\\begin{pmatrix} 1 & 1 & 1 \\\\ 0 & 2 & 0 \\\\ 1 & 1 & 1 \\end{pmatrix}$ and compute $\\mathbf{s}=\\mathbf{W} * \\mathbf{x}$.\n",
    "* **Code 1.1**:\n",
    "    * To do this, implement the function `compute_convolution` which computes the result of $\\mathbf{W} * \\mathbf{x}$ without any padding. While you are allowed to use numpy, `np.convolve` is obviously not allowed for this exercise (you might want to still look up its documentation).\n",
    "    * Also, consider the functionality of using the stride parameter in the function.\n",
    "      \n",
    "After convolution layers, you usually find pooling layers in CNNs to reduce the input size for further layers. To this end, we ask you to implement your own pooling function as well.\n",
    "* **Code 1.2**:\n",
    "    * Implement the function `pooling` which applies one of the following 3 pooling methods, given as the input string parameter `pooling_type`:\n",
    "        1. `\"max-pooling\"` applies max-pooling - using the maximum of all values in the pooling window.\n",
    "        2. `\"mean-pooling\"` applies mean-pooling - using the mean of all values in the pooling window.\n",
    "        3. `\"n-max-pooling\"` applies n-max-pooling for a given optional parameter `n_max: int` - using the mean of the \"n\" maximum values in the\n",
    "        pooling window (defaults to `n_max=1`, i.e. max-pooling). Refer to the lecture material for more elaborate definitions.\n",
    "        4. Raise a `ValueError` if `pooling_type` is not one of those 3 or `n_max` is larger than the maximum of values in the pooling window in n-max pooling.\n",
    "        5. Again, while numpy is allowed, the respective functions like `np.MaxPool2D` and so on are not allowed (still, it might be useful to look at their documentation)!\n",
    "    * **Hint:** You can probably reuse big parts of the previous task for this. Assume that `stride=pooling_size` for the pooling operation e.g. pooling with non-overlapping windows (like shown in the lecture slides of Unit 7 p.15).\n",
    " \n",
    "Right now, our implementation for the convolution will decrease the image size in any case, but often one wants to end up with a specific dimension in the end. Therefore we need to manipulate the given image in order to be able to apply the convolution in a way that delivers the desired output.\n",
    "\n",
    "* **Code 1.3**:\n",
    "    * Implement the function `compute_padding_size` which calculates the needed padding size given the original size, kernel size and a stride parameter to end up with some desired size of the feature map in the end. You can assume that height = width for all entities. Keep in mind that only a non-negative integer solution will make sense in this case, so if the result is not an integer or smaller than 0 raise a `ValueError`.\n",
    "* **Code 1.4**:\n",
    "    * Implement the function `padding` which applies one of the two following padding-operations: \n",
    "        1. Zero-padding: `pad_type=\"zero\"` - Image is padded with `pad_size` number of zeros on all four sides.\n",
    "        Example: $\\begin{pmatrix} 0 & 1 & 1 \\\\ 0 & 2 & 0 \\\\ 1 & 1 & 1 \\end{pmatrix} \\rightarrow$ pad-size = 1, pad_type = \"zero\": $\\begin{pmatrix} 0 & 0 & 0 & 0 & 0 \\\\ 0 & 0 & 1 & 1 & 0 \\\\ 0 & 0 & 2 & 0 & 0\\\\ 0& 1 & 1 & 1 & 0 \\\\ 0& 0 & 0 & 0 & 0\\end{pmatrix}$\n",
    "    \n",
    "        2. Repeat-padding: `pad_type=\"repeat\"` - Also \"Replication-\" or \"Reflection-padding\", Values at the borders of the image are used to pad the image. Use only the outer-most values, in the corners repeat the value in the corner 3 times for each padding layer.     Example: $\\begin{pmatrix} 0 & 1 & 1 \\\\ 0 & 2 & 0 \\\\ 1 & 1 & \\color{red}1 \\end{pmatrix} \\rightarrow$ pad-size = 1, pad_type = \"repeat\": $\\begin{pmatrix} 0 & 0 & 1 & 1 & 1 \\\\ 0 & 0 & 1 & 1 & 1 \\\\ 0 & 0 & 2 & 0 & 0\\\\ 1& 1 & 1 & \\color{pink}1 & \\color{red}1 \\\\ 1& 1 & 1 & \\color{red}1 & \\color{red}1\\end{pmatrix}$\n",
    "     \n",
    "    * Again, do not use the function `np.pad` (but maybe look it up).\n",
    "Now everything should be in place and we can combine the implemented solution into one pipeline.\n",
    "\n",
    "* **Code 1.5**:\n",
    "    * Implement the function `process_image(...)` which takes an image, output size, filter, a stride parameter and all other necessary inputs for the sub-functions as input and first computes the convolution followed by pooling. \n",
    "Keep in mind, that the image might have to be padded before application of the convolution to get the desired output shape.\n",
    "\n",
    "    * **Note:** You can still assume that both image and kernel are quadratic (i.e. height = width)."
   ]
  },
  {
   "cell_type": "markdown",
   "metadata": {
    "colab_type": "text",
    "deletable": false,
    "editable": false,
    "id": "nFiR4YBCDq-w",
    "nbgrader": {
     "cell_type": "markdown",
     "checksum": "efb39fbf379b191a3b7a68facad2894f",
     "grade": false,
     "grade_id": "cell-f7fd2014b1d3bfe5",
     "locked": true,
     "schema_version": 3,
     "solution": false,
     "task": false
    },
    "slideshow": {
     "slide_type": ""
    },
    "tags": []
   },
   "source": [
    "<h3 style=\"color:rgb(208,90,80)\">Code 1.1 (20 Points)</h3>"
   ]
  },
  {
   "cell_type": "code",
   "execution_count": 1,
   "metadata": {
    "deletable": false,
    "editable": false,
    "nbgrader": {
     "cell_type": "code",
     "checksum": "f2fa450527e4e505e80fbcbd60d671dc",
     "grade": false,
     "grade_id": "cell-01d8e3f17daa715c",
     "locked": true,
     "schema_version": 3,
     "solution": false,
     "task": false
    },
    "slideshow": {
     "slide_type": ""
    },
    "tags": []
   },
   "outputs": [],
   "source": [
    "# Nothing to do here, just run the cell.\n",
    "# Only numpy is allowed in Task 1!\n",
    "import numpy as np"
   ]
  },
  {
   "cell_type": "code",
   "execution_count": 2,
   "metadata": {
    "deletable": false,
    "editable": true,
    "nbgrader": {
     "cell_type": "code",
     "checksum": "b106e3eb1ac9a73a88c21e8a0cc6b670",
     "grade": false,
     "grade_id": "convolution",
     "locked": false,
     "schema_version": 3,
     "solution": true,
     "task": false
    },
    "slideshow": {
     "slide_type": ""
    },
    "tags": []
   },
   "outputs": [],
   "source": [
    "def compute_convolution(image: np.ndarray, kernel: np.ndarray, stride: int) -> np.ndarray:\n",
    "    \"\"\"Function that computes the convolution of an image array with a given filter.\n",
    "    \n",
    "    Parameters\n",
    "    ----------\n",
    "    image : (H, W) np.ndarray\n",
    "        Input image.\n",
    "    kernel : (K, K) np.ndarray\n",
    "        Convolution kernel.\n",
    "    stride : int\n",
    "        Stride parameter for the convolution operation.\n",
    "\n",
    "    Returns\n",
    "    -------\n",
    "    convolved : np.ndarray\n",
    "        Convoluted image.\n",
    "    \"\"\"\n",
    "    # YOUR CODE HERE\n",
    "    # Get dimensions\n",
    "    img_height, img_width = image.shape\n",
    "    kernel_size = kernel.shape[0]\n",
    "    \n",
    "    # Calculate output dimensions based on stride\n",
    "    out_height = ((img_height - kernel_size) // stride) + 1\n",
    "    out_width = ((img_width - kernel_size) // stride) + 1\n",
    "    \n",
    "    # Initialize output array\n",
    "    output = np.zeros((out_height, out_width))\n",
    "    \n",
    "    # Compute convolution\n",
    "    for i in range(0, out_height):\n",
    "        for j in range(0, out_width):\n",
    "            # Extract the current window based on stride\n",
    "            window = image[i*stride:i*stride + kernel_size, \n",
    "                         j*stride:j*stride + kernel_size]\n",
    "            # Element-wise multiplication and sum\n",
    "            output[i, j] = np.sum(window * kernel)\n",
    "            \n",
    "    return output"
   ]
  },
  {
   "cell_type": "code",
   "execution_count": 3,
   "metadata": {
    "deletable": false,
    "editable": false,
    "nbgrader": {
     "cell_type": "code",
     "checksum": "d476ed716705adaa8b36a0d1082f3649",
     "grade": true,
     "grade_id": "convolution_test_stride_1",
     "locked": true,
     "points": 10,
     "schema_version": 3,
     "solution": false,
     "task": false
    },
    "slideshow": {
     "slide_type": ""
    },
    "tags": []
   },
   "outputs": [
    {
     "name": "stdout",
     "output_type": "stream",
     "text": [
      "Image:\n",
      "[[1 0 1 1 0 0]\n",
      " [0 1 1 0 0 0]\n",
      " [0 1 0 1 1 0]\n",
      " [1 1 0 1 1 1]\n",
      " [0 1 1 1 0 0]\n",
      " [1 1 1 0 0 1]]\n",
      "\n",
      "Kernel:\n",
      "[[1 1 1]\n",
      " [0 2 0]\n",
      " [1 1 1]]\n",
      "\n",
      "Convolved image with stride 1:\n",
      "[[5. 6. 4. 3.]\n",
      " [6. 4. 5. 5.]\n",
      " [5. 5. 6. 5.]\n",
      " [7. 6. 5. 4.]]\n"
     ]
    }
   ],
   "source": [
    "# DO NOT DELETE OR EDIT THIS CELL!\n",
    "image = np.array([[1,0,1,1,0,0],[0,1,1,0,0,0],[0,1,0,1,1,0],[1,1,0,1,1,1],[0,1,1,1,0,0],[1,1,1,0,0,1]])\n",
    "kernel = np.array([[1,1,1],[0,2,0],[1,1,1]])\n",
    "print(f\"Image:\\n{image}\\n\")\n",
    "print(f\"Kernel:\\n{kernel}\\n\")\n",
    "\n",
    "stride_1 = compute_convolution(image, kernel, 1)\n",
    "assert isinstance(stride_1, np.ndarray), \"Convolved image is not a np.ndarray!\"\n",
    "assert stride_1.shape == (4, 4), \"Expected shape for stride = 1: 4x4\"\n",
    "np.testing.assert_array_equal(stride_1, np.array([[5, 6, 4, 3], [6, 4, 5, 5], [5, 5, 6, 5], [7, 6, 5 ,4]]))\n",
    "print(f\"Convolved image with stride 1:\\n{stride_1}\")"
   ]
  },
  {
   "cell_type": "code",
   "execution_count": 4,
   "metadata": {
    "deletable": false,
    "editable": false,
    "nbgrader": {
     "cell_type": "code",
     "checksum": "d0048f019054cc8728ff4132c0a767d3",
     "grade": true,
     "grade_id": "convolution_test_stride_3",
     "locked": true,
     "points": 10,
     "schema_version": 3,
     "solution": false,
     "task": false
    }
   },
   "outputs": [
    {
     "name": "stdout",
     "output_type": "stream",
     "text": [
      "Convolved image with stride 3:\n",
      "[[5. 3.]\n",
      " [7. 4.]]\n"
     ]
    }
   ],
   "source": [
    "# DO NOT DELETE OR EDIT THIS CELL!\n",
    "stride_3 = compute_convolution(image, kernel, 3)\n",
    "\n",
    "assert stride_3.shape == (2, 2), \"Expected shape for stride = 3: 2x2\"\n",
    "np.testing.assert_array_equal(stride_3, np.array([[5, 3], [7, 4]]))\n",
    "print(f\"Convolved image with stride 3:\\n{stride_3}\")"
   ]
  },
  {
   "cell_type": "markdown",
   "metadata": {
    "deletable": false,
    "editable": false,
    "nbgrader": {
     "cell_type": "markdown",
     "checksum": "07644bc165da62019a4f8ac75e90bead",
     "grade": false,
     "grade_id": "cell-1670b8d6bc7ddce6",
     "locked": true,
     "schema_version": 3,
     "solution": false,
     "task": false
    },
    "slideshow": {
     "slide_type": ""
    },
    "tags": []
   },
   "source": [
    "<h3 style=\"color:rgb(208,90,80)\">Code 1.2 (20 Points)</h3>"
   ]
  },
  {
   "cell_type": "code",
   "execution_count": 5,
   "metadata": {
    "deletable": false,
    "editable": true,
    "nbgrader": {
     "cell_type": "code",
     "checksum": "6ba7368a6846762eb860403bf809323c",
     "grade": false,
     "grade_id": "pooling",
     "locked": false,
     "schema_version": 3,
     "solution": true,
     "task": false
    },
    "slideshow": {
     "slide_type": ""
    },
    "tags": []
   },
   "outputs": [],
   "source": [
    "def pooling(image: np.ndarray, pooling_size: int, pooling_type: str, n_max: int = 1) -> np.ndarray:\n",
    "    \"\"\"Function that applies desired pooling-type on an image.\n",
    "\n",
    "    Hint: Assume stride = pooling_size, so no overlapping pooling windows.\n",
    "    \n",
    "    Parameters\n",
    "    ----------\n",
    "    image : (H, W) np.ndarray\n",
    "        Input image.\n",
    "    pooling_size : int\n",
    "        Size of pooling window (pooling_size X pooling_size).\n",
    "    pooling_type : str\n",
    "        Type of pooling that should be applied, choose from \"max-pooling\", \"mean-pooling\", \"n-max-pooling\".\n",
    "    n_max : int, optional\n",
    "        Parameter for n-max-pooling, by default 1.\n",
    "\n",
    "    Returns\n",
    "    -------\n",
    "    pooled : np.ndarray\n",
    "        Pooled image array\n",
    "\n",
    "    Raises\n",
    "    ------\n",
    "    ValueError\n",
    "        If the desired pooling type does not exist of if pooling_type=\"n_max\" and n_max is larger than there are elements in the pooling window.\n",
    "    \"\"\"\n",
    "    # YOUR CODE HERE\n",
    "    # Get image dimensions\n",
    "    img_height, img_width = image.shape\n",
    "    \n",
    "    # Calculate output dimensions\n",
    "    out_height = img_height // pooling_size\n",
    "    out_width = img_width // pooling_size\n",
    "    \n",
    "    # Initialize output array\n",
    "    output = np.zeros((out_height, out_width))\n",
    "    \n",
    "    # Validate pooling type\n",
    "    valid_types = [\"max-pooling\", \"mean-pooling\", \"n-max-pooling\"]\n",
    "    if pooling_type not in valid_types:\n",
    "        raise ValueError(f\"Invalid pooling type. Must be one of {valid_types}\")\n",
    "    \n",
    "    # Apply pooling\n",
    "    for i in range(out_height):\n",
    "        for j in range(out_width):\n",
    "            # Extract current window\n",
    "            window = image[i*pooling_size:(i+1)*pooling_size, \n",
    "                         j*pooling_size:(j+1)*pooling_size]\n",
    "            \n",
    "            if pooling_type == \"max-pooling\":\n",
    "                output[i, j] = np.max(window)\n",
    "            elif pooling_type == \"mean-pooling\":\n",
    "                output[i, j] = np.mean(window)\n",
    "            else:  # n-max-pooling\n",
    "                if n_max > window.size:\n",
    "                    raise ValueError(\"n_max cannot be larger than window size\")\n",
    "                # Get mean of n largest values\n",
    "                output[i, j] = np.mean(np.sort(window.flatten())[-n_max:])\n",
    "                \n",
    "    return output"
   ]
  },
  {
   "cell_type": "code",
   "execution_count": 6,
   "metadata": {
    "deletable": false,
    "editable": false,
    "nbgrader": {
     "cell_type": "code",
     "checksum": "e51b9afe825bd4916b36dd30ba7441ec",
     "grade": true,
     "grade_id": "pooling_test_valueerror_1",
     "locked": true,
     "points": 4,
     "schema_version": 3,
     "solution": false,
     "task": false
    }
   },
   "outputs": [],
   "source": [
    "# DO NOT DELETE OR EDIT THIS CELL!\n",
    "image = np.array([[5, 6, 4, 3], [6, 4, 5, 5], [5, 5, 6, 5], [7, 6, 5 ,4]])\n",
    "\n",
    "try:\n",
    "    pooling(image, 2, \"poolbilliard\")\n",
    "except ValueError:\n",
    "    pass\n",
    "else:\n",
    "    raise AssertionError(\"ValueError not raised for invalid pooling_type!\")"
   ]
  },
  {
   "cell_type": "code",
   "execution_count": 7,
   "metadata": {
    "deletable": false,
    "editable": false,
    "nbgrader": {
     "cell_type": "code",
     "checksum": "3352aefd21106a86125dd1fdd425a9a2",
     "grade": true,
     "grade_id": "pooling_test_valueerror_2",
     "locked": true,
     "points": 4,
     "schema_version": 3,
     "solution": false,
     "task": false
    }
   },
   "outputs": [],
   "source": [
    "# DO NOT DELETE OR EDIT THIS CELL!\n",
    "try:\n",
    "    pooling(image, 2, \"n-max-pooling\", 20)\n",
    "except ValueError:\n",
    "    pass\n",
    "else:\n",
    "    raise AssertionError(\"ValueError not raised when n_max is too large!\")"
   ]
  },
  {
   "cell_type": "code",
   "execution_count": 8,
   "metadata": {
    "deletable": false,
    "editable": false,
    "nbgrader": {
     "cell_type": "code",
     "checksum": "965d40825c105069e225b2883990cde5",
     "grade": true,
     "grade_id": "pooling_test_max-pooling",
     "locked": true,
     "points": 4,
     "schema_version": 3,
     "solution": false,
     "task": false
    }
   },
   "outputs": [
    {
     "name": "stdout",
     "output_type": "stream",
     "text": [
      "Image:\n",
      "[[5 6 4 3]\n",
      " [6 4 5 5]\n",
      " [5 5 6 5]\n",
      " [7 6 5 4]]\n",
      "\n",
      "Max-pooled:\n",
      "[[6. 5.]\n",
      " [7. 6.]]\n"
     ]
    }
   ],
   "source": [
    "# DO NOT DELETE OR EDIT THIS CELL!\n",
    "max_pooled = pooling(image, 2, \"max-pooling\")\n",
    "\n",
    "assert isinstance(max_pooled, np.ndarray), \"The pooled image is not a np.ndarray!\"\n",
    "np.testing.assert_array_equal(max_pooled, np.array([[6, 5], [7, 6]]))\n",
    "print(f\"Image:\\n{image}\\n\")\n",
    "print(f\"Max-pooled:\\n{max_pooled}\")"
   ]
  },
  {
   "cell_type": "code",
   "execution_count": 9,
   "metadata": {
    "deletable": false,
    "editable": false,
    "nbgrader": {
     "cell_type": "code",
     "checksum": "1619d0a7b512167bc76e5f4d08af8283",
     "grade": true,
     "grade_id": "pooling_test_mean-pooling",
     "locked": true,
     "points": 4,
     "schema_version": 3,
     "solution": false,
     "task": false
    }
   },
   "outputs": [
    {
     "name": "stdout",
     "output_type": "stream",
     "text": [
      "Image:\n",
      "[[5 6 4 3]\n",
      " [6 4 5 5]\n",
      " [5 5 6 5]\n",
      " [7 6 5 4]]\n",
      "\n",
      "Mean-pooled:\n",
      "[[5.25 4.25]\n",
      " [5.75 5.  ]]\n"
     ]
    }
   ],
   "source": [
    "# DO NOT DELETE OR EDIT THIS CELL!\n",
    "mean_pooled = pooling(image, 2, \"mean-pooling\")\n",
    "\n",
    "np.testing.assert_array_almost_equal(mean_pooled, np.array([[5.25, 4.25], [5.75, 5.]]), 2)\n",
    "print(f\"Image:\\n{image}\\n\")\n",
    "print(f\"Mean-pooled:\\n{mean_pooled}\")"
   ]
  },
  {
   "cell_type": "code",
   "execution_count": 10,
   "metadata": {
    "deletable": false,
    "editable": false,
    "nbgrader": {
     "cell_type": "code",
     "checksum": "0cec11660b550b97bf8e92b823480ef3",
     "grade": true,
     "grade_id": "pooling_test_n-max-pooling",
     "locked": true,
     "points": 4,
     "schema_version": 3,
     "solution": false,
     "task": false
    }
   },
   "outputs": [
    {
     "name": "stdout",
     "output_type": "stream",
     "text": [
      "Image:\n",
      "[[5 6 4 3]\n",
      " [6 4 5 5]\n",
      " [5 5 6 5]\n",
      " [7 6 5 4]]\n",
      "\n",
      "3-Max-pooled:\n",
      "[[5.66666667 4.66666667]\n",
      " [6.         5.33333333]]\n"
     ]
    }
   ],
   "source": [
    "# DO NOT DELETE OR EDIT THIS CELL!\n",
    "n_max_pooled = pooling(stride_1, 2, \"n-max-pooling\", 3)\n",
    "\n",
    "np.testing.assert_array_almost_equal(n_max_pooled, np.array([[5.67, 4.67], [6, 5.33]]), 2)\n",
    "print(f\"Image:\\n{image}\\n\")\n",
    "print(f\"3-Max-pooled:\\n{n_max_pooled}\")"
   ]
  },
  {
   "cell_type": "markdown",
   "metadata": {
    "deletable": false,
    "editable": false,
    "nbgrader": {
     "cell_type": "markdown",
     "checksum": "eacaeb288e4f5d5527ddbcb4c9ba8bbf",
     "grade": false,
     "grade_id": "cell-1fc118723b603529",
     "locked": true,
     "schema_version": 3,
     "solution": false,
     "task": false
    },
    "slideshow": {
     "slide_type": ""
    },
    "tags": []
   },
   "source": [
    "<h3 style=\"color:rgb(208,90,80)\">Code 1.3 (10 Points)</h3>"
   ]
  },
  {
   "cell_type": "code",
   "execution_count": 14,
   "metadata": {
    "deletable": false,
    "editable": true,
    "nbgrader": {
     "cell_type": "code",
     "checksum": "a5c3f45c653626ffbcff81ab9b349b73",
     "grade": false,
     "grade_id": "compute_padding",
     "locked": false,
     "schema_version": 3,
     "solution": true,
     "task": false
    },
    "slideshow": {
     "slide_type": ""
    },
    "tags": []
   },
   "outputs": [],
   "source": [
    "def compute_padding(input_size: int, output_size: int, kernel_size: int, stride: int) -> int: \n",
    "    \"\"\"Function that computes necessary padding to receive desired image shape after convolution.\n",
    "    \n",
    "    Remember that padding is usually done before the convolution, for simplicity ignore possible pooling afterwards.\n",
    "    It is possible that invalid input parameters lead to \"half-integer\" results, or negative values.\n",
    "    For such outcomes, the function should raise a ValueError.\n",
    "    \n",
    "    Parameters\n",
    "    ----------\n",
    "    input_size : int\n",
    "        Size of input image.\n",
    "    output_size : int\n",
    "        Desired size of final output.\n",
    "    kernel_size : int\n",
    "        Filter size of convolution.\n",
    "    stride : int\n",
    "        Stride of convolution.\n",
    "\n",
    "    Returns\n",
    "    -------\n",
    "    padding: int\n",
    "        The required padding size as integer is returned if input parameters are valid (can be 0)\n",
    "\n",
    "    Raises\n",
    "    ------\n",
    "    ValueError\n",
    "        If the computed padding size is not an integer or negative.\n",
    "    \"\"\"\n",
    "    # YOUR CODE HERE\n",
    "    # Using the formula: output_size = (input_size + 2*padding - kernel_size)/stride + 1\n",
    "    # Solve for padding\n",
    "    padding = ((output_size - 1) * stride + kernel_size - input_size) / 2\n",
    "    \n",
    "    # Check if padding is integer and non-negative\n",
    "    if padding != int(padding) or padding < 0:\n",
    "        raise ValueError(\"Invalid parameters: No valid padding possible\")\n",
    "        \n",
    "    return int(padding)"
   ]
  },
  {
   "cell_type": "code",
   "execution_count": 15,
   "metadata": {
    "deletable": false,
    "editable": false,
    "nbgrader": {
     "cell_type": "code",
     "checksum": "8b5f5b313e4909c8ff8219470967569a",
     "grade": true,
     "grade_id": "comput_padding_test_valueerror",
     "locked": true,
     "points": 5,
     "schema_version": 3,
     "solution": false,
     "task": false
    }
   },
   "outputs": [],
   "source": [
    "# DO NOT DELETE OR EDIT THIS CELL!\n",
    "try:\n",
    "    compute_padding(4, 4, 3, 2)\n",
    "except ValueError:\n",
    "    pass\n",
    "else:\n",
    "    raise AssertionError(\"ValueError is not raised!\")"
   ]
  },
  {
   "cell_type": "code",
   "execution_count": 16,
   "metadata": {
    "deletable": false,
    "editable": false,
    "nbgrader": {
     "cell_type": "code",
     "checksum": "d5c05e5e90b5365a031b94c087a67247",
     "grade": true,
     "grade_id": "comput_padding_test",
     "locked": true,
     "points": 5,
     "schema_version": 3,
     "solution": false,
     "task": false
    },
    "slideshow": {
     "slide_type": ""
    },
    "tags": []
   },
   "outputs": [],
   "source": [
    "# DO NOT DELETE OR EDIT THIS CELL!\n",
    "padding_size = compute_padding(4, 6, 2, 2)\n",
    "\n",
    "assert isinstance(padding_size, int), \"The computed padding size is not an integer!\"\n",
    "assert padding_size == 4, \"Wrong padding size!\""
   ]
  },
  {
   "cell_type": "markdown",
   "metadata": {},
   "source": [
    "<h3 style=\"color:rgb(208,90,80)\">Code 1.4 (20 Points)</h3>"
   ]
  },
  {
   "cell_type": "code",
   "execution_count": 17,
   "metadata": {
    "deletable": false,
    "editable": true,
    "nbgrader": {
     "cell_type": "code",
     "checksum": "2063b04d8ab4f370d1e592c7302c83ce",
     "grade": false,
     "grade_id": "padding",
     "locked": false,
     "schema_version": 3,
     "solution": true,
     "task": false
    },
    "slideshow": {
     "slide_type": ""
    },
    "tags": []
   },
   "outputs": [],
   "source": [
    "def padding(image: np.ndarray, pad_size: int, pad_type: str) -> np.ndarray:\n",
    "    \"\"\"Function that pads an Image with either zero-padding or repeat-padding.\n",
    "    Parameters\n",
    "    ----------\n",
    "    image : (H, H) np.ndarray\n",
    "        Input image.\n",
    "    pad_size : int\n",
    "        How much padding should be applied on either side of the image, should also work with pad_size = 0.\n",
    "    pad_type : str\n",
    "        Type of padding: \"zero\" or \"repeat\" \n",
    "\n",
    "    Returns\n",
    "    -------\n",
    "    padded : np.ndarray\n",
    "        Padded image.\n",
    "\n",
    "    Raises\n",
    "    ------\n",
    "    ValueError\n",
    "        Raises ValueError for inputs other than \"zero\" or \"repeat\" for pad_type or if pad_size is smaller than 0.\n",
    "    \"\"\"\n",
    "    # YOUR CODE HERE\n",
    "    # Validate inputs\n",
    "    if pad_size < 0:\n",
    "        raise ValueError(\"Padding size must be non-negative\")\n",
    "    if pad_type not in [\"zero\", \"repeat\"]:\n",
    "        raise ValueError(\"Padding type must be 'zero' or 'repeat'\")\n",
    "    \n",
    "    # Get original dimensions    \n",
    "    height, width = image.shape\n",
    "    \n",
    "    # Create padded array\n",
    "    padded = np.zeros((height + 2*pad_size, width + 2*pad_size))\n",
    "    \n",
    "    # Copy original image to center\n",
    "    padded[pad_size:pad_size+height, pad_size:pad_size+width] = image\n",
    "    \n",
    "    if pad_type == \"repeat\":\n",
    "        # Pad edges\n",
    "        for i in range(pad_size):\n",
    "            # Top and bottom\n",
    "            padded[i, pad_size:pad_size+width] = image[0, :]\n",
    "            padded[-(i+1), pad_size:pad_size+width] = image[-1, :]\n",
    "            # Left and right\n",
    "            padded[pad_size:pad_size+height, i] = image[:, 0]\n",
    "            padded[pad_size:pad_size+height, -(i+1)] = image[:, -1]\n",
    "            \n",
    "        # Pad corners\n",
    "        for i in range(pad_size):\n",
    "            for j in range(pad_size):\n",
    "                padded[i, j] = image[0, 0]  # Top-left\n",
    "                padded[i, -(j+1)] = image[0, -1]  # Top-right\n",
    "                padded[-(i+1), j] = image[-1, 0]  # Bottom-left\n",
    "                padded[-(i+1), -(j+1)] = image[-1, -1]  # Bottom-right\n",
    "                \n",
    "    return padded"
   ]
  },
  {
   "cell_type": "code",
   "execution_count": 18,
   "metadata": {
    "deletable": false,
    "editable": false,
    "nbgrader": {
     "cell_type": "code",
     "checksum": "a617490cdd86fea4b90a6f954efbb2b8",
     "grade": true,
     "grade_id": "padding_test_valueerror",
     "locked": true,
     "points": 10,
     "schema_version": 3,
     "solution": false,
     "task": false
    }
   },
   "outputs": [],
   "source": [
    "# DO NOT DELETE OR EDIT THIS CELL!\n",
    "image_test = np.array([[0,0,1,1],[0,1,1,0],[0,1,0,1],[1,1,0,1]])\n",
    "\n",
    "try:\n",
    "    padding(image_test, -1, \"zero\")\n",
    "    padding(image_test, 2, \"from_zero_to_hero\")\n",
    "except ValueError:\n",
    "    pass\n",
    "else:\n",
    "    raise AssertionError(\"ValueError is not raised!\")"
   ]
  },
  {
   "cell_type": "code",
   "execution_count": 19,
   "metadata": {
    "deletable": false,
    "editable": false,
    "nbgrader": {
     "cell_type": "code",
     "checksum": "9009928156a5094a8e1edca46995bc98",
     "grade": true,
     "grade_id": "padding_test",
     "locked": true,
     "points": 10,
     "schema_version": 3,
     "solution": false,
     "task": false
    },
    "slideshow": {
     "slide_type": ""
    },
    "tags": []
   },
   "outputs": [
    {
     "name": "stdout",
     "output_type": "stream",
     "text": [
      "Image:\n",
      "[[0 0 1 1]\n",
      " [0 1 1 0]\n",
      " [0 1 0 1]\n",
      " [1 1 0 1]]\n",
      "\n",
      "Image after zero-padding with padding size 3:\n",
      "[[0. 0. 0. 0. 0. 0. 0. 0. 0. 0.]\n",
      " [0. 0. 0. 0. 0. 0. 0. 0. 0. 0.]\n",
      " [0. 0. 0. 0. 0. 0. 0. 0. 0. 0.]\n",
      " [0. 0. 0. 0. 0. 1. 1. 0. 0. 0.]\n",
      " [0. 0. 0. 0. 1. 1. 0. 0. 0. 0.]\n",
      " [0. 0. 0. 0. 1. 0. 1. 0. 0. 0.]\n",
      " [0. 0. 0. 1. 1. 0. 1. 0. 0. 0.]\n",
      " [0. 0. 0. 0. 0. 0. 0. 0. 0. 0.]\n",
      " [0. 0. 0. 0. 0. 0. 0. 0. 0. 0.]\n",
      " [0. 0. 0. 0. 0. 0. 0. 0. 0. 0.]]\n",
      "\n",
      "Image after repeat-padding with padding size 3:\n",
      "[[0. 0. 0. 0. 0. 1. 1. 1. 1. 1.]\n",
      " [0. 0. 0. 0. 0. 1. 1. 1. 1. 1.]\n",
      " [0. 0. 0. 0. 0. 1. 1. 1. 1. 1.]\n",
      " [0. 0. 0. 0. 0. 1. 1. 1. 1. 1.]\n",
      " [0. 0. 0. 0. 1. 1. 0. 0. 0. 0.]\n",
      " [0. 0. 0. 0. 1. 0. 1. 1. 1. 1.]\n",
      " [1. 1. 1. 1. 1. 0. 1. 1. 1. 1.]\n",
      " [1. 1. 1. 1. 1. 0. 1. 1. 1. 1.]\n",
      " [1. 1. 1. 1. 1. 0. 1. 1. 1. 1.]\n",
      " [1. 1. 1. 1. 1. 0. 1. 1. 1. 1.]]\n"
     ]
    }
   ],
   "source": [
    "# DO NOT DELETE OR EDIT THIS CELL!\n",
    "padded_zero = padding(image_test, 3, \"zero\")\n",
    "padded_repeat = padding(image_test, 3, \"repeat\")\n",
    "padded_correct_zero = np.array([\n",
    "    [0, 0, 0, 0, 0, 0, 0, 0, 0, 0,],\n",
    "    [0, 0, 0, 0, 0, 0, 0, 0, 0, 0,],\n",
    "    [0, 0, 0, 0, 0, 0, 0, 0, 0, 0,],\n",
    "    [0, 0, 0, 0, 0, 1, 1, 0, 0, 0,],\n",
    "    [0, 0, 0, 0, 1, 1, 0, 0, 0, 0,],\n",
    "    [0, 0, 0, 0, 1, 0, 1, 0, 0, 0,],\n",
    "    [0, 0, 0, 1, 1, 0, 1, 0, 0, 0,],\n",
    "    [0, 0, 0, 0, 0, 0, 0, 0, 0, 0,],\n",
    "    [0, 0, 0, 0, 0, 0, 0, 0, 0, 0,],\n",
    "    [0, 0, 0, 0, 0, 0, 0, 0, 0, 0,]\n",
    "])\n",
    "padded_correct_repeat = np.array([\n",
    "    [0, 0, 0, 0, 0, 1, 1, 1, 1, 1],\n",
    "    [0, 0, 0, 0, 0, 1, 1, 1, 1, 1],\n",
    "    [0, 0, 0, 0, 0, 1, 1, 1, 1, 1],\n",
    "    [0, 0, 0, 0, 0, 1, 1, 1, 1, 1],\n",
    "    [0, 0, 0, 0, 1, 1, 0, 0, 0, 0],\n",
    "    [0, 0, 0, 0, 1, 0, 1, 1, 1, 1],\n",
    "    [1, 1, 1, 1, 1, 0, 1, 1, 1, 1],\n",
    "    [1, 1, 1, 1, 1, 0, 1, 1, 1, 1],\n",
    "    [1, 1, 1, 1, 1, 0, 1, 1, 1, 1],\n",
    "    [1, 1, 1, 1, 1, 0, 1, 1, 1, 1]\n",
    "])\n",
    "\n",
    "assert isinstance(padded_zero, np.ndarray), \"The resulting padded image is not a np.ndarray!\"\n",
    "np.testing.assert_array_equal(padded_correct_zero, padded_zero)\n",
    "print(f\"Image:\\n{image_test}\\n\")\n",
    "print(f\"Image after zero-padding with padding size 3:\\n{padded_zero}\\n\")\n",
    "np.testing.assert_array_equal(padded_correct_repeat, padded_repeat)\n",
    "print(f\"Image after repeat-padding with padding size 3:\\n{padded_repeat}\")"
   ]
  },
  {
   "cell_type": "markdown",
   "metadata": {
    "deletable": false,
    "editable": false,
    "nbgrader": {
     "cell_type": "markdown",
     "checksum": "9fe110f2086316008febaf969a28416b",
     "grade": false,
     "grade_id": "cell-287fcdd32e331ff0",
     "locked": true,
     "schema_version": 3,
     "solution": false,
     "task": false
    },
    "slideshow": {
     "slide_type": ""
    },
    "tags": []
   },
   "source": [
    "<h3 style=\"color:rgb(208,90,80)\">Code 1.5 (5 Points)</h3>"
   ]
  },
  {
   "cell_type": "code",
   "execution_count": 20,
   "metadata": {
    "deletable": false,
    "editable": true,
    "nbgrader": {
     "cell_type": "code",
     "checksum": "0e692506502bb0224f28ab65f6cb4f9a",
     "grade": false,
     "grade_id": "process_image",
     "locked": false,
     "schema_version": 3,
     "solution": true,
     "task": false
    },
    "slideshow": {
     "slide_type": ""
    },
    "tags": []
   },
   "outputs": [],
   "source": [
    "def process_image(\n",
    "    image: np.ndarray,\n",
    "    output_size: int,\n",
    "    kernel: np.ndarray,\n",
    "    stride: int,\n",
    "    pooling_size: int,\n",
    "    pooling_type: str,\n",
    "    padding_type: str,\n",
    "    compute_padding_size_fn: callable,\n",
    "    padding_fn: callable,\n",
    "    compute_convolution_fn: callable,\n",
    "    pooling_fn: callable,\n",
    "    n_max: int = 1\n",
    ") -> np.ndarray:\n",
    "    \"\"\"Function that processes an image array. It first calculates the necessary padding, if padding is possible it performs the padding, followed by convolution and pooling.\n",
    "    \n",
    "    Your previously implemented functions will be fed to this function.\n",
    "    Make sure to only use the functions and their respective names provided inside this function!\n",
    "\n",
    "    Parameters\n",
    "    ----------\n",
    "    image : (H, H) np.ndarray\n",
    "        Input image.\n",
    "    output_size : int\n",
    "        Desired shape after convolution.\n",
    "    kernel : np.ndarray\n",
    "        Kernel applied during convolution.\n",
    "    stride : int\n",
    "        stride parameter of convolution\n",
    "    pooling_size : int\n",
    "        Pooling size.\n",
    "    pooling_type : str\n",
    "        Type of pooling (mean-, max- or n-max-pooling).\n",
    "    padding_type : str\n",
    "        Type of padding (zero or repeat).\n",
    "    compute_padding_size_fn : callable\n",
    "        the compute padding size function implemented by you, use is to compute the padding size\n",
    "    padding_fn : callable\n",
    "        The padding function, use it to pad the input image.\n",
    "    compute_convolution_fn : callable\n",
    "        The convolution function, use it to convolve the (padded) input image.\n",
    "    pooling_fn : callable\n",
    "        The pooling function, use it to apply pooling on your convolved image.\n",
    "    n_max: int, optional\n",
    "        n_max parameter for n-max-pooling if applied, defaults to 1.\n",
    "\n",
    "    Returns\n",
    "    -------\n",
    "    processed_image : np.ndarray\n",
    "        Returns processed image if inputs are valid and padding is possible (also if padding is just 0!)\n",
    "\n",
    "    Raises\n",
    "    ------\n",
    "    ValueError\n",
    "        If padding is impossible due to invalid inputs.\n",
    "    \"\"\"\n",
    "    # YOUR CODE HERE\n",
    "    try:\n",
    "        # Calculate required padding\n",
    "        pad_size = compute_padding_size_fn(\n",
    "            image.shape[0], output_size, kernel.shape[0], stride\n",
    "        )\n",
    "        \n",
    "        # Apply padding\n",
    "        padded_image = padding_fn(image, pad_size, padding_type)\n",
    "        \n",
    "        # Apply convolution\n",
    "        convolved = compute_convolution_fn(padded_image, kernel, stride)\n",
    "        \n",
    "        # Apply pooling\n",
    "        result = pooling_fn(convolved, pooling_size, pooling_type, n_max)\n",
    "        \n",
    "        return result\n",
    "        \n",
    "    except ValueError as e:\n",
    "        raise ValueError(\"Invalid parameters for image processing pipeline\") from e"
   ]
  },
  {
   "cell_type": "code",
   "execution_count": 21,
   "metadata": {
    "deletable": false,
    "editable": false,
    "nbgrader": {
     "cell_type": "code",
     "checksum": "fdef3f34adf16465ade78ca37f66dc21",
     "grade": true,
     "grade_id": "process_image_test",
     "locked": true,
     "points": 5,
     "schema_version": 3,
     "solution": false,
     "task": false
    },
    "slideshow": {
     "slide_type": ""
    },
    "tags": []
   },
   "outputs": [
    {
     "name": "stdout",
     "output_type": "stream",
     "text": [
      "Image:\n",
      "[[0 0 1 1]\n",
      " [0 1 1 0]\n",
      " [0 1 0 1]\n",
      " [1 1 0 1]]\n",
      "\n",
      "Kernel:\n",
      "[[1 1]\n",
      " [0 2]]\n",
      "\n",
      "Processed image:\n",
      "[[0. 4. 4.]\n",
      " [2. 3. 4.]\n",
      " [4. 4. 4.]]\n"
     ]
    }
   ],
   "source": [
    "# DO NOT DELETE OR EDIT THIS CELL!\n",
    "kernel_test = np.array([[1, 1], [0, 2]])\n",
    "processed_correct = np.array([[0, 4, 4], [2, 3, 4], [4, 4, 4]])\n",
    "res = process_image(image_test, 6, kernel_test, 2, 2, \"max-pooling\", \"repeat\", compute_padding, padding, compute_convolution, pooling)\n",
    "np.testing.assert_array_almost_equal(res, processed_correct)\n",
    "try:\n",
    "    process_image(image_test, 4, kernel_test, 3, 2, \"max-pooling\", \"repeat\", compute_padding, padding, compute_convolution, pooling)\n",
    "except ValueError:\n",
    "    pass\n",
    "else:\n",
    "    raise AssertionError(\"ValueError is not raised!\")\n",
    "print(f\"Image:\\n{image_test}\\n\")\n",
    "print(f\"Kernel:\\n{kernel_test}\\n\")\n",
    "print(f\"Processed image:\\n{res}\")"
   ]
  },
  {
   "cell_type": "markdown",
   "metadata": {
    "colab_type": "text",
    "deletable": false,
    "editable": false,
    "id": "ThpuXicXDq-x",
    "nbgrader": {
     "cell_type": "markdown",
     "checksum": "6d54dc567a5857d33b66d3fd482a4ef1",
     "grade": false,
     "grade_id": "cell-bfa3b503328dc53c",
     "locked": true,
     "schema_version": 3,
     "solution": false,
     "task": false
    },
    "slideshow": {
     "slide_type": ""
    },
    "tags": []
   },
   "source": [
    "<h2 style=\"color:rgb(0,120,170)\">Task 2: CNNs vs. the Rest</h2>\n",
    "In this task, you can carry out a comparison of several classifiers on different portions of the FashionMNIST data set. From the whole training data we create smaller training sets that have $[0.05,0.10,0.25, 0.50, 1.00]$ times the the size of the total set. Compared to the previous assignment, the data loader is modified a little so that it outputs different formats for the computations with PyTorch, where we use tensors, and sklearn, where we use numpy arrays.\n",
    "We make our comparison based on three metrics:\n",
    "\n",
    "1. Accuracy: The standard (but not necessarily best) metric for evaluating the performance of a model in predicting the labels of unseen samples (correct predictions divided by number of samples in test set).\n",
    "2. Training Time: For RandomForest and SVM this is the time measured for fitting the model on the training data, for the CNNs it's the time measured from initialization of the model until the end of the last training epoch (sum over all epochs).\n",
    "3. Inference Time: Time measured for the model to calculate predictions on the test data, for CNNs it's the mean of the time taken to calculate predictions over all epochs.\n",
    "\n",
    "**Important:** To save computation time for unit testing, you may simply use the hard-coded experiment results given below. If you decide to try to run the experiments yourself, please change the variable `i_cant_wait` to `True` before submitting your assignment. This saves the tutors quite some time :D\n",
    "* **Plot 2.1**:\n",
    "    * As a final task, create the following three plots:\n",
    "        - Accuracies against fraction of the dataset used for training\n",
    "        - Inference times against fraction of the dataset used for training\n",
    "        - Training times against fraction of the dataset used for training\n",
    "    * Compare the performance of all models in each of these three plots and don't forget to label the plots appropriately!\n",
    "* **Question 2.2**:\n",
    "    *  Finally, answer some questions about the results."
   ]
  },
  {
   "cell_type": "code",
   "execution_count": 22,
   "metadata": {
    "colab": {},
    "colab_type": "code",
    "deletable": false,
    "editable": false,
    "id": "h6-awJvdDq-x",
    "nbgrader": {
     "cell_type": "code",
     "checksum": "b8ba53b45177871e0589d7c632a1f1de",
     "grade": false,
     "grade_id": "cell-ed2de9517e71cbf8",
     "locked": true,
     "schema_version": 3,
     "solution": false,
     "task": false
    },
    "slideshow": {
     "slide_type": ""
    },
    "tags": []
   },
   "outputs": [],
   "source": [
    "# Nothing to do here, just run the cell.\n",
    "import torch\n",
    "import torch.nn as nn\n",
    "import torch.nn.functional as F\n",
    "import torch.optim as optim\n",
    "from torchvision import datasets, transforms\n",
    "import matplotlib.pyplot as plt\n",
    "import os\n",
    "import time\n",
    "from sklearn.svm import SVC\n",
    "from sklearn.tree import DecisionTreeClassifier\n",
    "from sklearn.ensemble import RandomForestClassifier"
   ]
  },
  {
   "cell_type": "code",
   "execution_count": 23,
   "metadata": {
    "colab": {},
    "colab_type": "code",
    "deletable": false,
    "editable": false,
    "id": "PPJI5ZnxDq-z",
    "nbgrader": {
     "cell_type": "code",
     "checksum": "a6b2253e1f3bfe26a37943da183bcb68",
     "grade": false,
     "grade_id": "cell-495a996b06038bb7",
     "locked": true,
     "schema_version": 3,
     "solution": false,
     "task": false
    },
    "slideshow": {
     "slide_type": ""
    },
    "tags": []
   },
   "outputs": [
    {
     "name": "stderr",
     "output_type": "stream",
     "text": [
      "/Library/Frameworks/Python.framework/Versions/3.12/lib/python3.12/site-packages/torch/backends/mps/__init__.py:22: UserWarning: Skipping device NVIDIA GeForce GT 750M that does not support Metal 2.0 (Triggered internally at /Users/runner/work/pytorch/pytorch/pytorch/aten/src/ATen/mps/MPSDevice.mm:101.)\n",
      "  return torch._C._mps_is_available()\n"
     ]
    }
   ],
   "source": [
    "# Nothing to do here, just run the cell.\n",
    "int_classes = int \n",
    "seed = 42\n",
    "torch.manual_seed(seed)\n",
    "np.random.seed(seed)\n",
    "use_cuda = torch.cuda.is_available()\n",
    "use_mps = torch.backends.mps.is_available()\n",
    "device = torch.device('cuda' if use_cuda else 'mps' if use_mps else 'cpu')"
   ]
  },
  {
   "cell_type": "code",
   "execution_count": 24,
   "metadata": {
    "colab": {
     "base_uri": "https://localhost:8080/",
     "height": 275
    },
    "colab_type": "code",
    "deletable": false,
    "editable": false,
    "id": "9IVEE1WYDq-1",
    "nbgrader": {
     "cell_type": "code",
     "checksum": "1b09bb5a2aeabaa3f259a0955c4fe61b",
     "grade": false,
     "grade_id": "cell-752873ac4d727921",
     "locked": true,
     "schema_version": 3,
     "solution": false,
     "task": false
    },
    "outputId": "cb55cb33-b398-4390-ade8-cb4a68b07aa0",
    "slideshow": {
     "slide_type": ""
    },
    "tags": []
   },
   "outputs": [],
   "source": [
    "# Nothing to do here, just run the cell.\n",
    "# Use Pytorch dataloader with a subset of the training data.\n",
    "def get_sampler(N_samples):  \n",
    "    mask = list(np.arange(N_samples))  ## list of valid sample_ids\n",
    "    return torch.utils.data.RandomSampler(mask) ## random order\n",
    "\n",
    "def get_data_loader(use_cuda, batch_size=64,train=True,get_all=False,sampler=None):\n",
    "    kwargs = {'num_workers': 1, 'pin_memory': True} if use_cuda else {}\n",
    "    loader = torch.utils.data.DataLoader(\n",
    "        datasets.FashionMNIST(os.path.join(os.path.expanduser(\"~\"), '.FashionMNIST')\n",
    "                            ,train=train, download=True,\n",
    "                       transform=transforms.Compose([\n",
    "                           transforms.ToTensor(),\n",
    "                           transforms.Normalize((0.2859,), (0.3530,))\n",
    "                       ])), shuffle=False, sampler=sampler, batch_size=batch_size,**kwargs)\n",
    "    # Return numpy arrays of the dataset.\n",
    "    if get_all: \n",
    "        for _, (train_samples, train_labels) in enumerate(loader):\n",
    "            return train_samples.numpy().reshape(-1,28*28),train_labels.numpy()\n",
    "    # Return loader to provide minibatches.\n",
    "    else:\n",
    "        return loader"
   ]
  },
  {
   "cell_type": "markdown",
   "metadata": {
    "colab_type": "text",
    "deletable": false,
    "editable": false,
    "id": "aqjz-K2QYLSr",
    "nbgrader": {
     "cell_type": "markdown",
     "checksum": "ff5c837b0dacf476e44ac2302fa34fb6",
     "grade": false,
     "grade_id": "cell-f9d3d290fcacd9b0",
     "locked": true,
     "schema_version": 3,
     "solution": false,
     "task": false
    },
    "slideshow": {
     "slide_type": ""
    },
    "tags": []
   },
   "source": [
    "Now we want to apply different models to our prepared data. We also want to print and store accuracy, training time and inference time, so these should be our results. In the dictionary \"experiments\", we want to store these informations in an array for the different models and different training data sizes. Just run the code in oder to understand better what is meant exactly."
   ]
  },
  {
   "cell_type": "code",
   "execution_count": 25,
   "metadata": {},
   "outputs": [
    {
     "data": {
      "text/plain": [
       "{'percentages': array([0.05, 0.1 , 0.25, 0.5 , 1.  ]),\n",
       " 'N_samples': array([ 3000,  6000, 15000, 30000, 60000]),\n",
       " 'RF_100': {'accuracy': array([81.95, 83.16, 83.97, 84.2 , 84.22]),\n",
       "  'training_time': array([ 3.88,  7.04, 14.97, 26.81, 48.92]),\n",
       "  'inference_time': array([0.32, 0.35, 0.35, 0.35, 0.36])},\n",
       " 'RF_500': {'accuracy': array([82.02, 83.38, 84.17, 84.33, 84.54]),\n",
       "  'training_time': array([ 19.58,  35.38,  75.22, 136.4 , 248.76]),\n",
       "  'inference_time': array([1.63, 1.69, 1.74, 1.81, 1.82])},\n",
       " 'SVM': {'accuracy': array([81.34, 83.63, 86.07, 87.9 , 89.21]),\n",
       "  'training_time': array([  0.67,   2.05,  25.23,  87.59, 285.24]),\n",
       "  'inference_time': array([ 2.1 ,  7.13, 20.22, 36.  , 63.75])},\n",
       " 'CNN_simple': {'accuracy': array([61.28, 70.95, 75.11, 77.88, 81.79]),\n",
       "  'training_time': array([ 4.75,  9.35, 23.41, 47.32, 94.26]),\n",
       "  'inference_time': array([2.11, 2.08, 2.09, 2.1 , 2.1 ])},\n",
       " 'CNN_wide': {'accuracy': array([74.97, 73.27, 81.03, 80.41, 86.37]),\n",
       "  'training_time': array([  8.74,  17.56,  43.59,  87.59, 176.37]),\n",
       "  'inference_time': array([3.13, 3.13, 3.1 , 3.11, 3.11])},\n",
       " 'CNN_deep': {'accuracy': array([68.77, 77.11, 83.79, 85.49, 90.01]),\n",
       "  'training_time': array([  8.82,  17.75,  43.92,  87.58, 176.93]),\n",
       "  'inference_time': array([2.66, 2.66, 2.68, 2.66, 2.68])},\n",
       " 'CNN_wide_max': {'accuracy': array([83.38, 86.06, 87.44, 89.61, 91.11]),\n",
       "  'training_time': array([  9.16,  18.65,  45.46,  90.35, 182.02]),\n",
       "  'inference_time': array([3.28, 3.26, 3.27, 3.24, 3.18])}}"
      ]
     },
     "execution_count": 25,
     "metadata": {},
     "output_type": "execute_result"
    }
   ],
   "source": [
    "# If you dont want to wait, or dont trust your results, you can use these hard-coded values, just let the variable on True and all the following cells will be skipped.\n",
    "# Set the variable to False to really try out different models yourself.\n",
    "\n",
    "### IMPORTANT ###\n",
    "# Set this variable to True before submitting your notebook.\n",
    "i_cant_wait = True\n",
    "### IMPORTANT ###\n",
    "\n",
    "if i_cant_wait:\n",
    "    models = [\"RF_100\", \"RF_500\",\"SVM\", \"CNN_simple\", \"CNN_wide\", \"CNN_deep\", \"CNN_wide_max\"]\n",
    "    experiments ={\n",
    "        'percentages': np.array([0.05, 0.1 , 0.25, 0.5 , 1.  ]),\n",
    "        'N_samples': np.array([ 3000,  6000, 15000, 30000, 60000]),\n",
    "        'RF_100': {'accuracy': np.array([81.95, 83.16, 83.97, 84.2 , 84.22]),\n",
    "        'training_time': np.array([ 3.88,  7.04, 14.97, 26.81, 48.92]),\n",
    "        'inference_time': np.array([0.32, 0.35, 0.35, 0.35, 0.36])},\n",
    "        'RF_500': {'accuracy': np.array([82.02, 83.38, 84.17, 84.33, 84.54]),\n",
    "        'training_time': np.array([ 19.58,  35.38,  75.22, 136.4 , 248.76]),\n",
    "        'inference_time': np.array([1.63, 1.69, 1.74, 1.81, 1.82])},\n",
    "        'SVM': {'accuracy': np.array([81.34, 83.63, 86.07, 87.9 , 89.21]),\n",
    "        'training_time': np.array([  0.67,   2.05,  25.23,  87.59, 285.24]),\n",
    "        'inference_time': np.array([ 2.1 ,  7.13, 20.22, 36.  , 63.75])},\n",
    "        'CNN_simple': {'accuracy': np.array([61.28, 70.95, 75.11, 77.88, 81.79]),\n",
    "        'training_time': np.array([ 4.75,  9.35, 23.41, 47.32, 94.26]),\n",
    "        'inference_time': np.array([2.11, 2.08, 2.09, 2.1 , 2.1 ])},\n",
    "        'CNN_wide': {'accuracy': np.array([74.97, 73.27, 81.03, 80.41, 86.37]),\n",
    "        'training_time': np.array([  8.74,  17.56,  43.59,  87.59, 176.37]),\n",
    "        'inference_time': np.array([3.13, 3.13, 3.1 , 3.11, 3.11])},\n",
    "        'CNN_deep': {'accuracy': np.array([68.77, 77.11, 83.79, 85.49, 90.01]),\n",
    "        'training_time': np.array([  8.82,  17.75,  43.92,  87.58, 176.93]),\n",
    "        'inference_time': np.array([2.66, 2.66, 2.68, 2.66, 2.68])},\n",
    "        'CNN_wide_max': {'accuracy': np.array([83.38, 86.06, 87.44, 89.61, 91.11]),\n",
    "        'training_time': np.array([  9.16,  18.65,  45.46,  90.35, 182.02]),\n",
    "        'inference_time': np.array([3.28, 3.26, 3.27, 3.24, 3.18])}\n",
    "    }\n",
    "else:\n",
    "    # Prepare data.\n",
    "    train_samples, train_labels = get_data_loader(use_cuda,batch_size=6*10**4,train=True,get_all = True)\n",
    "    test_samples, test_labels = get_data_loader(use_cuda,batch_size=10**4,train=False,get_all = True)\n",
    "    \n",
    "    models = [\"RF_100\", \"RF_500\",\"SVM\", \"CNN_simple\", \"CNN_wide\", \"CNN_deep\", \"CNN_wide_max\"]\n",
    "    results = [\"accuracy\",\"training_time\",\"inference_time\"]\n",
    "    experiments = {}\n",
    "    experiments[\"percentages\"] = np.array([0.05,0.10,0.25,0.50,1.00])\n",
    "    experiments[\"N_samples\"] = (60000 * experiments[\"percentages\"]).astype(int)\n",
    "    \n",
    "    for k in models:\n",
    "        experiments[k] = {}\n",
    "        for l in results:\n",
    "            experiments[k][l] = np.zeros([len(experiments[\"N_samples\"])])\n",
    "\n",
    "experiments"
   ]
  },
  {
   "cell_type": "markdown",
   "metadata": {
    "colab_type": "text",
    "editable": true,
    "id": "gIz9FAWwYLSu",
    "slideshow": {
     "slide_type": ""
    },
    "tags": []
   },
   "source": [
    "Next, we want to apply this routine to the sklearn models first (i.e RFs and SVMs) for the different sizes of the data set. \n",
    "We implemented the routine for Random Forest with 100 estimators, with 500 estimators and for SVM:"
   ]
  },
  {
   "cell_type": "code",
   "execution_count": 26,
   "metadata": {
    "colab": {
     "base_uri": "https://localhost:8080/",
     "height": 289
    },
    "colab_type": "code",
    "editable": true,
    "id": "c_XUfWb1Dq-9",
    "outputId": "c596d7a8-cb2e-4bf9-c734-7dddb943c500",
    "slideshow": {
     "slide_type": ""
    },
    "tags": []
   },
   "outputs": [],
   "source": [
    "# Nothing to do here, just run the cell.\n",
    "if not i_cant_wait:\n",
    "    print(\"RF_100:\")\n",
    "    for i,n_samples in enumerate(experiments[\"N_samples\"]):\n",
    "        print(\"Subset consists of {} samples\".format(n_samples))\n",
    "        model = RandomForestClassifier(n_estimators=100, max_depth=10, random_state=seed)\n",
    "        \n",
    "        start_train= time.time()\n",
    "        model.fit(train_samples[:n_samples],train_labels[:n_samples])\n",
    "        end_train = time.time()\n",
    "        train_time = np.round(end_train-start_train,decimals=2)\n",
    "        experiments[\"RF_100\"][\"training_time\"][i] = train_time \n",
    "        print(\"Training took {:.2f} seconds\".format(train_time))\n",
    "        \n",
    "        start_infer= time.time()\n",
    "        pred = model.predict(test_samples)\n",
    "        end_infer = time.time()\n",
    "        infer_time = np.round(end_infer-start_infer,decimals=2)\n",
    "        experiments[\"RF_100\"][\"inference_time\"][i] = infer_time\n",
    "        print(\"Inference took {:.2f} seconds\".format(infer_time))\n",
    "        \n",
    "        accuracy = np.round(sum((pred-test_labels)==0)/len(test_labels)*100,\n",
    "                            decimals=2)\n",
    "        print(\"Test accuracy: {:.2f} percent\".format(accuracy))\n",
    "        experiments[\"RF_100\"][\"accuracy\"][i] = accuracy\n",
    "        print(\"=\"*30)"
   ]
  },
  {
   "cell_type": "code",
   "execution_count": 27,
   "metadata": {
    "colab": {
     "base_uri": "https://localhost:8080/",
     "height": 289
    },
    "colab_type": "code",
    "editable": true,
    "id": "c_XUfWb1Dq-9",
    "outputId": "c596d7a8-cb2e-4bf9-c734-7dddb943c500",
    "slideshow": {
     "slide_type": ""
    },
    "tags": []
   },
   "outputs": [],
   "source": [
    "# Nothing to do here, just run the cell.\n",
    "if not i_cant_wait:\n",
    "    print(\"RF_500:\")\n",
    "    for i,n_samples in enumerate(experiments[\"N_samples\"]):\n",
    "        print(\"Subset consists of {} samples\".format(n_samples))\n",
    "        model = RandomForestClassifier(n_estimators=500,max_depth=10,random_state=seed)\n",
    "        \n",
    "        start_train= time.time()\n",
    "        model.fit(train_samples[:n_samples],train_labels[:n_samples])\n",
    "        end_train = time.time()\n",
    "        train_time = np.round(end_train-start_train,decimals=2)\n",
    "        experiments[\"RF_500\"][\"training_time\"][i] = train_time \n",
    "        print(\"Training took {:.2f} seconds\".format(train_time))\n",
    "        \n",
    "        start_infer= time.time()\n",
    "        pred = model.predict(test_samples)\n",
    "        end_infer = time.time()\n",
    "        infer_time = np.round(end_infer-start_infer,decimals=2)\n",
    "        experiments[\"RF_500\"][\"inference_time\"][i] = infer_time\n",
    "        print(\"Inference took {:.2f} seconds\".format(infer_time))\n",
    "        \n",
    "        accuracy = np.round(sum((pred-test_labels)==0)/len(test_labels)*100,\n",
    "                            decimals=2)\n",
    "        print(\"Test accuracy: {:.2f} percent\".format(accuracy))\n",
    "        experiments[\"RF_500\"][\"accuracy\"][i] = accuracy\n",
    "        print(\"=\"*30)"
   ]
  },
  {
   "cell_type": "code",
   "execution_count": 28,
   "metadata": {
    "cellView": "both",
    "colab": {
     "base_uri": "https://localhost:8080/",
     "height": 289
    },
    "colab_type": "code",
    "editable": true,
    "id": "xhoMss4xYLS0",
    "outputId": "bcc2cf4c-94c0-4ea9-9213-8bece5998771",
    "slideshow": {
     "slide_type": ""
    },
    "tags": []
   },
   "outputs": [],
   "source": [
    "# Nothing to do here, just run the cell.\n",
    "if not i_cant_wait:\n",
    "    print(\"SVM:\")\n",
    "    for i,n_samples in enumerate(experiments[\"N_samples\"]):\n",
    "        print(\"Subset consists of {} samples\".format(n_samples))\n",
    "        model = SVC(gamma=0.1,kernel='poly',degree=5,random_state=seed)\n",
    "        \n",
    "        start_train= time.time()\n",
    "        model.fit(train_samples[:n_samples],train_labels[:n_samples])\n",
    "        end_train = time.time()\n",
    "        train_time = np.round(end_train-start_train,decimals=2)\n",
    "        experiments[\"SVM\"][\"training_time\"][i] = train_time \n",
    "        print(\"Training took {:.2f} seconds\".format(train_time))\n",
    "        \n",
    "        start_infer= time.time()\n",
    "        pred = model.predict(test_samples)\n",
    "        end_infer = time.time()\n",
    "        infer_time = np.round(end_infer-start_infer,decimals=2)\n",
    "        experiments[\"SVM\"][\"inference_time\"][i] = infer_time\n",
    "        print(\"Inference took {:.2f} seconds\".format(infer_time))\n",
    "        \n",
    "        accuracy = np.round(sum((pred-test_labels)==0)/len(test_labels)*100,\n",
    "                            decimals=2)\n",
    "        print(\"Test accuracy: {:.2f} percent\".format(accuracy))\n",
    "        experiments[\"SVM\"][\"accuracy\"][i] = accuracy\n",
    "        print(\"=\"*30)"
   ]
  },
  {
   "cell_type": "markdown",
   "metadata": {
    "colab_type": "text",
    "editable": true,
    "id": "H7WOSvBaDq_A",
    "slideshow": {
     "slide_type": ""
    },
    "tags": []
   },
   "source": [
    "Now we want to run similar experiments with four different CNN models. Feel free to experiment with the networks. \n",
    "We first provide the training and test routine for the CNNs."
   ]
  },
  {
   "cell_type": "code",
   "execution_count": 29,
   "metadata": {
    "colab": {},
    "colab_type": "code",
    "editable": true,
    "id": "F2zYlWcKDq_A",
    "slideshow": {
     "slide_type": ""
    },
    "tags": []
   },
   "outputs": [],
   "source": [
    "# Nothing to do here, just run the cell.\n",
    "def train(model, train_loader, optimizer, epoch):\n",
    "    device = next(model.parameters()).device\n",
    "    model.train() \n",
    "    correct=0\n",
    "    total = 0\n",
    "    for batch_idx, (data, target) in enumerate(train_loader):\n",
    "        data, target = data.to(device), target.to(device)\n",
    "        optimizer.zero_grad()\n",
    "        output = model(data)\n",
    "        loss = F.cross_entropy(output, target)\n",
    "        loss.backward()\n",
    "        optimizer.step()\n",
    "        pred = output.max(1, keepdim=True)[1]\n",
    "        correct += pred.eq(target.view_as(pred)).sum().item()\n",
    "        total += target.shape[0]\n",
    "    print('Epoch {} \\nTraining Accuracy: {}/{} ({:.2f}%)'.format(epoch, correct, total, 100*correct/total)) \n",
    "    \n",
    "def test(model, test_loader):\n",
    "    device = next(model.parameters()).device\n",
    "    model.eval()\n",
    "    correct = 0\n",
    "    with torch.inference_mode():\n",
    "        for data, target in test_loader:\n",
    "            data, target = data.to(device), target.to(device)\n",
    "            output = model(data)\n",
    "            pred = output.max(1, keepdim=True)[1]\n",
    "            correct += pred.eq(target.view_as(pred)).sum().item()\n",
    "            \n",
    "        accuracy = np.round(100. * correct / len(test_loader.dataset),decimals=2)\n",
    "        print('Test Accuracy: {}/{} ({:.2f}%)'.format(correct, len(test_loader.dataset), accuracy)) \n",
    "    \n",
    "    return accuracy"
   ]
  },
  {
   "cell_type": "markdown",
   "metadata": {
    "colab_type": "text",
    "editable": true,
    "id": "fw6d1K-DYLS-",
    "slideshow": {
     "slide_type": ""
    },
    "tags": []
   },
   "source": [
    "Here we provide a routine that creates CNN models. It takes as inputs the hyper-parameters of the CNNs. It's not necessary to fully understand this routine at this stage, as this will be a main topic in further courses (e.g. Deep Learning and Neural Networks 1&2)."
   ]
  },
  {
   "cell_type": "code",
   "execution_count": 30,
   "metadata": {
    "colab": {},
    "colab_type": "code",
    "editable": true,
    "id": "_NRK1hMDDq_C",
    "slideshow": {
     "slide_type": ""
    },
    "tags": []
   },
   "outputs": [],
   "source": [
    "# Nothing to do here, just run the cell.\n",
    "class CNN(nn.Module):\n",
    "    def __init__(self,use_batch_norm=True,n_blocks=3,n_layers=3,channels = 32, multiply_channels=2, global_max = True):\n",
    "        super().__init__(),\n",
    "        self.use_batch_norm = use_batch_norm\n",
    "        self.n_blocks = n_blocks\n",
    "        self.n_layers = n_layers\n",
    "        self.channels = channels\n",
    "        self.multiply_channels = multiply_channels\n",
    "        self.global_max = global_max\n",
    "\n",
    "        ## feature extraction CNN => linear layer (N_channels to N_classes)\n",
    "        self.cnn_module = self.build_model() \n",
    "        self.fc_module = nn.Sequential(\n",
    "            nn.Linear(channels*multiply_channels**(n_blocks-1), 10)) \n",
    "        \n",
    "    def build_model(self):\n",
    "        channels_per_layer = [1,self.channels]\n",
    "        for i in range(1,self.n_blocks):\n",
    "            channels_per_layer.append(self.channels*self.multiply_channels**i)   \n",
    "        \n",
    "        components = []\n",
    "        for i in range(self.n_blocks):\n",
    "            for j in range(self.n_layers):\n",
    "                if j== 0:\n",
    "                    cur_dims = [channels_per_layer[i],channels_per_layer[i+1]]   ## first layer of the block\n",
    "                else: \n",
    "                    cur_dims = [channels_per_layer[i+1],channels_per_layer[i+1]]\n",
    "\n",
    "                if self.use_batch_norm:        ## no bias needed\n",
    "                    components.append(\n",
    "                        nn.Sequential(nn.Conv2d(cur_dims[0], cur_dims[1], kernel_size = 3,padding=1,bias=False),\n",
    "                                     nn.BatchNorm2d(cur_dims[1], momentum=0.1),\n",
    "                                     nn.ReLU()\n",
    "                                     )\n",
    "                    )\n",
    "                else:                          \n",
    "                    components.append(\n",
    "                        nn.Sequential(nn.Conv2d(cur_dims[0], cur_dims[1], kernel_size = 3,padding=1),\n",
    "                                     nn.ReLU()\n",
    "                                     )\n",
    "                    )\n",
    "            if i == self.n_blocks-1:\n",
    "                if self.global_max:\n",
    "                    components.append(nn.Sequential(nn.AdaptiveMaxPool2d(1)))    ## finish with a global max pooling layer\n",
    "                else:\n",
    "                    components.append(nn.Sequential(nn.AdaptiveAvgPool2d(1)))    ## finish with a global average pooling layer\n",
    "            else: \n",
    "                components.append(nn.Sequential(nn.MaxPool2d(2, stride = 2)))    ## downsampling via max_pooling of stride 2\n",
    "                \n",
    "        return nn.Sequential(*components)\n",
    "        \n",
    "    def forward(self, x):   \n",
    "        x = self.cnn_module(x)    \n",
    "        x = x.view(x.size(0), -1) \n",
    "        x = self.fc_module(x)\n",
    "        \n",
    "        return x"
   ]
  },
  {
   "cell_type": "markdown",
   "metadata": {
    "colab_type": "text",
    "editable": true,
    "id": "j9gtHy6_YLTE",
    "slideshow": {
     "slide_type": ""
    },
    "tags": []
   },
   "source": [
    "Now let us run the different CNN models for the different sizes of the data sets.\n",
    "You should run the experiments with the following four CNN models:\n",
    "- a simple CNN with average pooling, called \"CNN_simple\"\n",
    "- a wide CNN with average pooling, called \"CNN_wide\"\n",
    "- a deep CNN with average pooling, called \"CNN_deep\"\n",
    "- a wide CNN with max pooling, called \"CNN_wide_max\"\n",
    "\n",
    "This is done now in a similar fashion as for the sklearn methods. Again accuracy, training time, and test time are stored in the experiments dictionary for the different sizes of the data sets. The number of trainable parameters for each of the four different CNNs is printed in the begining of the training loop of the corresponding model. This should allow you to get a rough idea of the complexities of these models.\n",
    "\n",
    "<b>This can take up to 1h, depending on your hardware, maybe you go grab a coffee in the meantime..."
   ]
  },
  {
   "cell_type": "code",
   "execution_count": 31,
   "metadata": {
    "colab": {
     "base_uri": "https://localhost:8080/",
     "height": 1000
    },
    "colab_type": "code",
    "editable": true,
    "id": "kAHUquqsDq_I",
    "outputId": "0bffa978-da10-4d0b-e39b-7d9974c23f50",
    "slideshow": {
     "slide_type": ""
    },
    "tags": []
   },
   "outputs": [],
   "source": [
    "# Nothing to do here, just run the cell.\n",
    "if not i_cant_wait:\n",
    "    max_epochs = 5\n",
    "    \n",
    "    for model_tag in [\"CNN_simple\", \"CNN_wide\", \"CNN_deep\", \"CNN_wide_max\"]:\n",
    "        for i,n_samples in enumerate(experiments[\"N_samples\"]):\n",
    "            if  model_tag == \"CNN_simple\":\n",
    "                ## a simple 'CNN with 3 layers with 16 channels each\n",
    "                model = CNN(use_batch_norm=True,n_blocks=3,n_layers=1,channels = 16, multiply_channels=1,global_max=False).to(device)  ## simple\n",
    "            elif model_tag == \"CNN_wide\":\n",
    "                ## a wider version with 3 layers with 16,32 and 64 channels\n",
    "                model = CNN(use_batch_norm=True,n_blocks=3,n_layers=1,channels = 32, multiply_channels=2,global_max=False).to(device)  ## wide\n",
    "            elif model_tag == \"CNN_deep\":\n",
    "                ## a deeper version with 9 layers with 16 channels each\n",
    "                model = CNN(use_batch_norm=True,n_blocks=3,n_layers=3,channels = 16, multiply_channels=1,global_max=False).to(device)  ## deep\n",
    "            elif model_tag == \"CNN_wide_max\":\n",
    "                ## a wider version with 3 layers with 16, 32 and 64 channels, global maximum pooling\n",
    "                model = CNN(use_batch_norm=True,n_blocks=3,n_layers=1,channels = 32, multiply_channels=2,global_max=True).to(device)  ## wide       \n",
    "    \n",
    "            optimizer = optim.Adam(model.parameters())\n",
    "            sampler = get_sampler(experiments[\"N_samples\"][i])\n",
    "            train_loader = get_data_loader(use_cuda,64,train=True,sampler=sampler)\n",
    "            test_loader = get_data_loader(use_cuda,128,train=False)\n",
    "    \n",
    "            if i == 0:\n",
    "                print(model)\n",
    "                print(\"\\nThe model has {} parameters.\\n\".format(sum(p.numel() for p in model.parameters())))\n",
    "                \n",
    "            print(\"Subset consists of {} samples.\".format(n_samples))\n",
    "            epoch_times = []\n",
    "            infer_times = []\n",
    "            accuracies = []\n",
    "            for epoch in range(1,max_epochs+1):\n",
    "                start_epoch=time.time()\n",
    "                train(model, train_loader, optimizer, epoch)\n",
    "                end_epoch=time.time()\n",
    "                epoch_time = np.round(end_epoch-start_epoch,decimals=2)\n",
    "                epoch_times.append(epoch_time)\n",
    "                \n",
    "                print(\"Epoch took {:.2f} seconds.\".format(epoch_time))\n",
    "                start_infer = time.time()\n",
    "                accuracies.append(test(model, test_loader))\n",
    "                end_infer=time.time()\n",
    "                infer_time = np.round(end_infer-start_infer,decimals=2)\n",
    "                infer_times.append(infer_time)\n",
    "                print(\"Inference took {:.2f} seconds\".format(infer_time))\n",
    "                print(\"-\"*30)\n",
    "            \n",
    "            print(\"Finished \" + model_tag + \" with {} samples.\".format(n_samples))\n",
    "            experiments[model_tag][\"accuracy\"][i] = np.round(np.mean(np.array(accuracies[-3:])),decimals=2)  #average over final 3 epochs\n",
    "            experiments[model_tag][\"training_time\"][i] = np.round(np.sum(np.array(epoch_times)),decimals=2)  # sum over all epochs\n",
    "            experiments[model_tag][\"inference_time\"][i] = np.round(np.mean(np.array(infer_times)),decimals=2)  #mean inference time\n",
    "            print(\"=\"*30)\n",
    "            print()\n",
    "            \n",
    "        for k in experiments[model_tag].keys():\n",
    "            print(k, experiments[model_tag][k])"
   ]
  },
  {
   "cell_type": "markdown",
   "metadata": {
    "colab": {
     "base_uri": "https://localhost:8080/",
     "height": 129
    },
    "colab_type": "code",
    "deletable": false,
    "editable": false,
    "id": "_Y7As1-FYLTJ",
    "nbgrader": {
     "cell_type": "markdown",
     "checksum": "b1c393b3a6ddc8cbb4e05d7ea741798b",
     "grade": false,
     "grade_id": "cell-6daf7c53da3b53ca",
     "locked": true,
     "schema_version": 3,
     "solution": false,
     "task": false
    },
    "outputId": "11185453-bcf3-4540-cfa0-4e8457282aa9",
    "slideshow": {
     "slide_type": ""
    },
    "tags": []
   },
   "source": [
    "<h3 style=\"color:rgb(208,90,80)\">Plot 2.1 (15 Points)</h3>"
   ]
  },
  {
   "cell_type": "code",
   "execution_count": 32,
   "metadata": {
    "colab": {
     "base_uri": "https://localhost:8080/",
     "height": 803
    },
    "colab_type": "code",
    "deletable": false,
    "editable": true,
    "id": "yHLowqaYYLTL",
    "nbgrader": {
     "cell_type": "code",
     "checksum": "3a8d6cdc21d3e74453cae9664fe207b8",
     "grade": true,
     "grade_id": "plot_experiments",
     "locked": false,
     "points": 15,
     "schema_version": 3,
     "solution": true,
     "task": false
    },
    "outputId": "a1fe376c-e688-4f40-ce39-eb5a24daabc3",
    "slideshow": {
     "slide_type": ""
    },
    "tags": []
   },
   "outputs": [],
   "source": [
    "def plot_experiments(experiments: dict, models: list):\n",
    "    \"\"\"Function to plot Accuracies, Inference Times and Training times of the models in \"experiments\" against the fractions of the data used for training.\n",
    "    \n",
    "    Plot all 3 plots on the same figure as subplots.\n",
    "\n",
    "    Parameters\n",
    "    ----------\n",
    "    experiments : dict\n",
    "        Experiment results for all models in a dictionary.\n",
    "    models : list \n",
    "        List of model names, also the keys of the dictionary to access the measured data.\n",
    "    \"\"\"\n",
    "    # YOUR CODE HERE\n",
    "    fig, axes = plt.subplots(1, 3, figsize=(15, 5))\n",
    "    percentages = experiments['percentages']\n",
    "    \n",
    "    metrics = ['accuracy', 'inference_time', 'training_time']\n",
    "    titles = ['Model Accuracy vs Dataset Size', \n",
    "              'Inference Time vs Dataset Size',\n",
    "              'Training Time vs Dataset Size']\n",
    "    \n",
    "    for i, (metric, title) in enumerate(zip(metrics, titles)):\n",
    "        for model in models:\n",
    "            axes[i].plot(percentages, experiments[model][metric], \n",
    "                        marker='o', label=model)\n",
    "            \n",
    "        axes[i].set_xlabel('Dataset Fraction')\n",
    "        axes[i].set_ylabel(metric.replace('_', ' ').title())\n",
    "        axes[i].set_title(title)\n",
    "        axes[i].grid(True)\n",
    "        \n",
    "    plt.legend(bbox_to_anchor=(1.05, 0.5), loc='center left')\n",
    "    plt.tight_layout()\n",
    "    plt.show()"
   ]
  },
  {
   "cell_type": "code",
   "execution_count": 33,
   "metadata": {
    "deletable": false,
    "editable": false,
    "nbgrader": {
     "cell_type": "code",
     "checksum": "6b09550984a6b3174100159cf5f33fa8",
     "grade": false,
     "grade_id": "cell-edbad35fe431c29e",
     "locked": true,
     "schema_version": 3,
     "solution": false,
     "task": false
    },
    "slideshow": {
     "slide_type": ""
    },
    "tags": []
   },
   "outputs": [
    {
     "data": {
      "image/png": "[encoded data removed]",
      "text/plain": [
       "<Figure size 1500x500 with 3 Axes>"
      ]
     },
     "metadata": {},
     "output_type": "display_data"
    }
   ],
   "source": [
    "# Nothing to do here, just run the cell.\n",
    "plot_experiments(experiments, models)"
   ]
  },
  {
   "cell_type": "markdown",
   "metadata": {
    "deletable": false,
    "editable": false,
    "nbgrader": {
     "cell_type": "markdown",
     "checksum": "d7286042679517882dd2302d2215747d",
     "grade": false,
     "grade_id": "cell-9a44a507d81ed225",
     "locked": true,
     "schema_version": 3,
     "solution": false,
     "task": false
    },
    "slideshow": {
     "slide_type": ""
    },
    "tags": []
   },
   "source": [
    "<h3 style=\"color:rgb(210,90,80)\">Question 2.2 (10 Points):</h3>\n",
    "\n",
    "Q: Which statements about the plots are correct?\n",
    "\n",
    "a_) Inference time follows a similar pattern for all but one classifier.<br>\n",
    "b_) All models exhibit a linear relation between training time and data set size.<br>\n",
    "c_) CNN_simple has the lowest accuracy for all dataset sizes.<br>\n",
    "d_) The worst accuracy for a model on any dataset is lower than 40%. <br>\n",
    "e_) The model with the shortest training time for a dataset fraction of 0.25 is a random forest.  <br>\n",
    "f_) All classifiers have an accuracy higher than 80% when being trained on the full dataset.<br>\n",
    "g_) Inference and training times indicate that SVMs might not be as computationally efficient for large data sets as CNN models.<br>\n",
    "h_) A comparison of the performance of any two or more different algorithms is fair as long as they are compared on the same problem, i.e. the same training and test data.<br>\n",
    "i_) A comparison of the performance of any two or more different algorithms should take into account the number of trainable model parameters and the training and inference times.<br>\n",
    "j_) Comparing results for CNN_wide(_max) and CNN_deep, all three are relatively close in accuracy, training and inference time, thus which one is better, really depends on the task at hand and one cannot make a general statement on this matter.\n",
    "\n",
    "To answer the question, assign `True` or `False` boolean values to variables in the next cell. For example, if you think that **a_)** is correct, define a variable `a_` and set it to `True`, the same applies to **b_)** and the other options. A non-correctly answered question as well as no answer (i.e. answer “None”) yields 0 points for a specific question.<br>"
   ]
  },
  {
   "cell_type": "code",
   "execution_count": 34,
   "metadata": {
    "deletable": false,
    "editable": true,
    "nbgrader": {
     "cell_type": "code",
     "checksum": "c9aabdcd1f3fca0ca967a7abd7c683ab",
     "grade": false,
     "grade_id": "question_2_2",
     "locked": false,
     "schema_version": 3,
     "solution": true,
     "task": false
    },
    "slideshow": {
     "slide_type": ""
    },
    "tags": []
   },
   "outputs": [],
   "source": [
    "# YOUR CODE HERE\n",
    "\n",
    "a_ = True  \n",
    "b_ = False \n",
    "c_ = True  \n",
    "d_ = False \n",
    "e_ = False \n",
    "f_ = False \n",
    "g_ = True  \n",
    "h_ = False \n",
    "i_ = True  \n",
    "j_ = True"
   ]
  },
  {
   "cell_type": "code",
   "execution_count": 35,
   "metadata": {
    "deletable": false,
    "editable": false,
    "nbgrader": {
     "cell_type": "code",
     "checksum": "294229afdd13ca812367014fb913ae8b",
     "grade": true,
     "grade_id": "a",
     "locked": true,
     "points": 1,
     "schema_version": 3,
     "solution": false,
     "task": false
    },
    "slideshow": {
     "slide_type": ""
    },
    "tags": []
   },
   "outputs": [],
   "source": [
    "# DO NOT DELETE OR EDIT THIS CELL!\n",
    "assert a_ is not None, \"Store True/False!\"\n",
    "assert a_ in [True, False], \"Invalid Answer!\""
   ]
  },
  {
   "cell_type": "code",
   "execution_count": 36,
   "metadata": {
    "deletable": false,
    "editable": false,
    "nbgrader": {
     "cell_type": "code",
     "checksum": "f54bc73ac4324f00288109d3c5945cee",
     "grade": true,
     "grade_id": "b",
     "locked": true,
     "points": 1,
     "schema_version": 3,
     "solution": false,
     "task": false
    }
   },
   "outputs": [],
   "source": [
    "# DO NOT DELETE OR EDIT THIS CELL!\n",
    "assert b_ is not None, \"Store True/False!\"\n",
    "assert b_ in [True, False], \"Invalid Answer!\""
   ]
  },
  {
   "cell_type": "code",
   "execution_count": 37,
   "metadata": {
    "deletable": false,
    "editable": false,
    "nbgrader": {
     "cell_type": "code",
     "checksum": "7a3de285077c58ab6245d3a5bc0a0c0c",
     "grade": true,
     "grade_id": "c",
     "locked": true,
     "points": 1,
     "schema_version": 3,
     "solution": false,
     "task": false
    }
   },
   "outputs": [],
   "source": [
    "# DO NOT DELETE OR EDIT THIS CELL!\n",
    "assert c_ is not None, \"Store True/False!\"\n",
    "assert c_ in [True, False], \"Invalid Answer!\""
   ]
  },
  {
   "cell_type": "code",
   "execution_count": 38,
   "metadata": {
    "deletable": false,
    "editable": false,
    "nbgrader": {
     "cell_type": "code",
     "checksum": "12efc45de36aee27c038a33a5b2eb1d9",
     "grade": true,
     "grade_id": "d",
     "locked": true,
     "points": 1,
     "schema_version": 3,
     "solution": false,
     "task": false
    }
   },
   "outputs": [],
   "source": [
    "# DO NOT DELETE OR EDIT THIS CELL!\n",
    "assert d_ is not None, \"Store True/False!\"\n",
    "assert d_ in [True, False], \"Invalid Answer!\""
   ]
  },
  {
   "cell_type": "code",
   "execution_count": 39,
   "metadata": {
    "deletable": false,
    "editable": false,
    "nbgrader": {
     "cell_type": "code",
     "checksum": "fe659899ec8b961385a3b951d8df0573",
     "grade": true,
     "grade_id": "e",
     "locked": true,
     "points": 1,
     "schema_version": 3,
     "solution": false,
     "task": false
    }
   },
   "outputs": [],
   "source": [
    "# DO NOT DELETE OR EDIT THIS CELL!\n",
    "assert e_ is not None, \"Store True/False!\"\n",
    "assert e_ in [True, False], \"Invalid Answer!\""
   ]
  },
  {
   "cell_type": "code",
   "execution_count": 40,
   "metadata": {
    "deletable": false,
    "editable": false,
    "nbgrader": {
     "cell_type": "code",
     "checksum": "057445c24e4b90229248499fcff56886",
     "grade": true,
     "grade_id": "f",
     "locked": true,
     "points": 1,
     "schema_version": 3,
     "solution": false,
     "task": false
    }
   },
   "outputs": [],
   "source": [
    "# DO NOT DELETE OR EDIT THIS CELL!\n",
    "assert f_ is not None, \"Store True/False!\"\n",
    "assert f_ in [True, False], \"Invalid Answer!\""
   ]
  },
  {
   "cell_type": "code",
   "execution_count": 41,
   "metadata": {
    "deletable": false,
    "editable": false,
    "nbgrader": {
     "cell_type": "code",
     "checksum": "29bc6aee9415e2dcf043fe224c599fde",
     "grade": true,
     "grade_id": "g",
     "locked": true,
     "points": 1,
     "schema_version": 3,
     "solution": false,
     "task": false
    }
   },
   "outputs": [],
   "source": [
    "# DO NOT DELETE OR EDIT THIS CELL!\n",
    "assert g_ is not None, \"Store True/False!\"\n",
    "assert g_ in [True, False], \"Invalid Answer!\""
   ]
  },
  {
   "cell_type": "code",
   "execution_count": 42,
   "metadata": {
    "deletable": false,
    "editable": false,
    "nbgrader": {
     "cell_type": "code",
     "checksum": "1b437e1c8e92bfffaf84829f2384b3c2",
     "grade": true,
     "grade_id": "h",
     "locked": true,
     "points": 1,
     "schema_version": 3,
     "solution": false,
     "task": false
    }
   },
   "outputs": [],
   "source": [
    "# DO NOT DELETE OR EDIT THIS CELL!\n",
    "assert h_ is not None, \"Store True/False!\"\n",
    "assert h_ in [True, False], \"Invalid Answer!\""
   ]
  },
  {
   "cell_type": "code",
   "execution_count": 43,
   "metadata": {
    "deletable": false,
    "editable": false,
    "nbgrader": {
     "cell_type": "code",
     "checksum": "aa19bf0086b8957e0624d80b4c57dbaa",
     "grade": true,
     "grade_id": "i",
     "locked": true,
     "points": 1,
     "schema_version": 3,
     "solution": false,
     "task": false
    }
   },
   "outputs": [],
   "source": [
    "# DO NOT DELETE OR EDIT THIS CELL!\n",
    "assert i_ is not None, \"Store True/False!\"\n",
    "assert i_ in [True, False], \"Invalid Answer!\""
   ]
  },
  {
   "cell_type": "code",
   "execution_count": 44,
   "metadata": {
    "deletable": false,
    "editable": false,
    "nbgrader": {
     "cell_type": "code",
     "checksum": "26032adb10f0c6f99f7a87d9238bc696",
     "grade": true,
     "grade_id": "j",
     "locked": true,
     "points": 1,
     "schema_version": 3,
     "solution": false,
     "task": false
    }
   },
   "outputs": [],
   "source": [
    "# DO NOT DELETE OR EDIT THIS CELL!\n",
    "assert j_ is not None, \"Store True/False!\"\n",
    "assert j_ in [True, False], \"Invalid Answer!\""
   ]
  },
  {
   "cell_type": "code",
   "execution_count": null,
   "metadata": {},
   "outputs": [],
   "source": []
  },
  {
   "cell_type": "code",
   "execution_count": null,
   "metadata": {},
   "outputs": [],
   "source": []
  }
 ],
 "metadata": {
  "accelerator": "GPU",
  "colab": {
   "collapsed_sections": [],
   "name": "Assignment_8_Solution.ipynb",
   "provenance": []
  },
  "kernelspec": {
   "display_name": "Python 3 (ipykernel)",
   "language": "python",
   "name": "python3"
  },
  "language_info": {
   "codemirror_mode": {
    "name": "ipython",
    "version": 3
   },
   "file_extension": ".py",
   "mimetype": "text/x-python",
   "name": "python",
   "nbconvert_exporter": "python",
   "pygments_lexer": "ipython3",
   "version": "3.12.3"
  }
 },
 "nbformat": 4,
 "nbformat_minor": 4
}
