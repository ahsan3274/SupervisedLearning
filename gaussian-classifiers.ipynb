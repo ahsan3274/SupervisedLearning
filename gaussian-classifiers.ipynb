{
 "cells": [
  {
   "cell_type": "markdown",
   "metadata": {
    "deletable": false,
    "editable": false,
    "nbgrader": {
     "cell_type": "markdown",
     "checksum": "febdecb013bfa5b10c2a81d34c7b221e",
     "grade": false,
     "grade_id": "cell-34b0bc481a6bdcc2",
     "locked": true,
     "schema_version": 3,
     "solution": false,
     "task": false
    },
    "slideshow": {
     "slide_type": ""
    },
    "tags": []
   },
   "source": [
    "<h1 style=\"color:rgb(0,120,170)\">Assignment 2: Gaussian Classifier, Bias-Variance Decomposition, Evaluation Measures </h1>"
   ]
  },
  {
   "cell_type": "markdown",
   "metadata": {
    "deletable": false,
    "editable": false,
    "nbgrader": {
     "cell_type": "markdown",
     "checksum": "96114f6527b3b38988764fce73818c1d",
     "grade": false,
     "grade_id": "cell-8a0a6463e2b54651",
     "locked": true,
     "schema_version": 3,
     "solution": false,
     "task": false
    }
   },
   "source": [
    "This material, no matter whether in printed or electronic form,\n",
    "may be used for personal and non-commercial educational use\n",
    "only. Any reproduction of this material, no matter whether as a\n",
    "whole or in parts, no matter whether in printed or in electronic\n",
    "form, requires explicit prior acceptance of the authors."
   ]
  },
  {
   "cell_type": "markdown",
   "metadata": {
    "deletable": false,
    "editable": false,
    "nbgrader": {
     "cell_type": "markdown",
     "checksum": "6212bf71b32902d7f9b91955b8840569",
     "grade": false,
     "grade_id": "cell-053f5926d9a67431",
     "locked": true,
     "schema_version": 3,
     "solution": false,
     "task": false
    }
   },
   "source": [
    "<h2 style=\"color:rgb(0,120,170)\">Automatic Testing Guidelines</h2>\n",
    "\n",
    "Automatic unittesting requires you to submit a notebook which contains strictly defined objects.\n",
    "Strictness of definition consists of unified shapes, dtypes, variable names and more.\n",
    "\n",
    "Within the notebook, we provide detailed instruction which you should follow in order to maximise your final grade.\n",
    "\n",
    "**Name your notebook properly**, follow the pattern in the template name:\n",
    "\n",
    "**Assignment_N_NameSurname_matrnumber**\n",
    "<ol>\n",
    "    <li>N - number of assignment</li>\n",
    "    <li>NameSurname - your full name where every part of the name starts with a capital letter, no spaces</li>\n",
    "    <li>matrnumber - you student number on ID card (with k, potenitially with a leading zero)</li>\n",
    "</ol>\n",
    "\n",
    "Don't add any cells but use the ones provided by us. All cells have a unique ID so that the unit test can find it, so please do not add or remove any cell!\n",
    "\n",
    "Always make sure that implemented functions have the correct output and given variables contain the correct data type. In the descriptions for every function you can find information on what datatype an output should have and you should stick to that in order to minimize conflicts with the unittest. Don't import any other packages than listed in the cell with the \"imports\" tag.\n",
    "\n",
    "Questions are usually multiple choice (except the task description says otherwise) and can be answered by changing the given variables to either \"True\" or \"False\". \"None\" is counted as a wrong answer in any case!\n",
    "\n",
    "**Note:** Never use variables you defined in another cell in your functions directly; always pass them to the function as a parameter. In the unitest, they won't be available either. If you want to make sure that everything is executable for the unittest, try executing cells/functions individually (instead of running the whole notebook)."
   ]
  },
  {
   "cell_type": "markdown",
   "metadata": {
    "deletable": false,
    "editable": false,
    "nbgrader": {
     "cell_type": "markdown",
     "checksum": "17e8870c196900b10376f353282f96e1",
     "grade": false,
     "grade_id": "cell-5c942d13ed2eb2b9",
     "locked": true,
     "schema_version": 3,
     "solution": false,
     "task": false
    }
   },
   "source": [
    "<h2 style=\"color:rgb(0,120,170)\">Task 1: Gaussian classifier: visualization & parameter estimation</h2>\n",
    "\n",
    "The goal of this task is to explore the given (artificial) data before diving into the classification function. To do this, we will use `matplotlib` to plot the data set and `numpy` to estimate the means & covariance matrices of the classes as well as the probability of encountering a positive/negative example.\n",
    "\n",
    "* **Plot 1.1**: Visualize the data stored in `normal.csv` with two different colors using a scatter plot and store it in the given variable. Always label the axes of all your plots. We also suggest to make a plot legend indicating which color belongs to\n",
    "which label.\n",
    "* **Question 1.1**: Answer 2 questions regarding the data depicted in the plot.\n",
    "* **Code 1.2**: We assume that the data is distributed according to a two-dimensional (bivariate) normal distribution:\n",
    "    - Write a function that estimates the mean and covariance matrix for the entire dataset, the means and covariance matrices for each class, and the probabilities $p(y=+1)$ and $p(y=-1)$.\n",
    "    - Return a tuple containing the results (the resulting list should be of length 8). The datatype for `meanX`, `covX`, `meanXpos`, `covXpos`, `meanXneg`, and `covXneg` should be a numpy array, for $p(y=+1)$ and $p(y=-1)$ it should be float."
   ]
  },
  {
   "cell_type": "markdown",
   "metadata": {
    "deletable": false,
    "editable": false,
    "nbgrader": {
     "cell_type": "markdown",
     "checksum": "6fdfb87d84ac7d99fa5f79952f8f6fab",
     "grade": false,
     "grade_id": "cell-aeb980e00defe449",
     "locked": true,
     "schema_version": 3,
     "solution": false,
     "task": false
    }
   },
   "source": [
    "<h3 style=\"color:rgb(210,90,80)\">Plot 1.1 (2 Points):</h3>"
   ]
  },
  {
   "cell_type": "code",
   "metadata": {
    "deletable": false,
    "editable": false,
    "nbgrader": {
     "cell_type": "code",
     "checksum": "d102efada6e3c43e15018b078c9d6ee4",
     "grade": false,
     "grade_id": "cell-a59051e8cae617e6",
     "locked": true,
     "schema_version": 3,
     "solution": false,
     "task": false
    },
    "slideshow": {
     "slide_type": ""
    },
    "tags": [],
    "ExecuteTime": {
     "end_time": "2024-11-07T16:27:34.859494Z",
     "start_time": "2024-11-07T16:27:34.854626Z"
    }
   },
   "source": [
    "# Nothing to do here, just run the cell.\n",
    "import sklearn\n",
    "import numpy as np\n",
    "import pandas as pd\n",
    "import matplotlib.pyplot as plt\n",
    "from sklearn.linear_model import LinearRegression\n",
    "from sklearn.preprocessing import PolynomialFeatures"
   ],
   "outputs": [],
   "execution_count": 33
  },
  {
   "cell_type": "code",
   "metadata": {
    "deletable": false,
    "editable": false,
    "nbgrader": {
     "cell_type": "code",
     "checksum": "6829d739c551d2a0e7396813a793ba6e",
     "grade": false,
     "grade_id": "cell-70e7762af05002dd",
     "locked": true,
     "schema_version": 3,
     "solution": false,
     "task": false
    },
    "slideshow": {
     "slide_type": ""
    },
    "tags": [],
    "ExecuteTime": {
     "end_time": "2024-11-07T16:27:36.719806Z",
     "start_time": "2024-11-07T16:27:36.712389Z"
    }
   },
   "source": [
    "# Nothing to do here, just run the cell.\n",
    "Z = np.genfromtxt('normal.csv', delimiter=',')\n",
    "X, y = Z[:,:-1].astype(np.float32), Z[:,-1].astype(int)"
   ],
   "outputs": [],
   "execution_count": 34
  },
  {
   "cell_type": "code",
   "metadata": {
    "deletable": false,
    "editable": true,
    "nbgrader": {
     "cell_type": "code",
     "checksum": "78ca4fecf9dcddb93360c0ccc411ac40",
     "grade": true,
     "grade_id": "plot_1_1",
     "locked": false,
     "points": 2,
     "schema_version": 3,
     "solution": true,
     "task": false
    },
    "slideshow": {
     "slide_type": ""
    },
    "tags": [],
    "ExecuteTime": {
     "end_time": "2024-11-07T16:27:36.832656Z",
     "start_time": "2024-11-07T16:27:36.827562Z"
    }
   },
   "source": [
    "def scatter_plot(X: np.ndarray, y: np.ndarray):\n",
    "    \"\"\"Creates a scatter-plot for the dataset X with labels y.\n",
    "\n",
    "    Parameters\n",
    "    ----------\n",
    "    X : (N, K) np.ndarray\n",
    "        Data to plot.\n",
    "    y : (N,) np.ndarray\n",
    "        labels of the data.\n",
    "    \"\"\"\n",
    "    # Unique labels in y\n",
    "    unique_labels = np.unique(y)\n",
    "    for label in unique_labels:\n",
    "        # Select points corresponding to the current label\n",
    "        points = X[y == label]\n",
    "        # Scatter plot for current label with label-based color\n",
    "        plt.scatter(points[:, 0], points[:, 1], label=f'Label {label}')\n",
    "    \n",
    "    # Adding plot details\n",
    "    plt.xlabel(\"Feature 1\")\n",
    "    plt.ylabel(\"Feature 2\")\n",
    "    plt.title(\"Scatter Plot of Dataset X with Labels y\")\n",
    "    plt.legend()\n",
    "    plt.show()\n"
   ],
   "outputs": [],
   "execution_count": 35
  },
  {
   "cell_type": "code",
   "metadata": {
    "deletable": false,
    "editable": false,
    "nbgrader": {
     "cell_type": "code",
     "checksum": "13ccbc55c99efbd23e36029cba582518",
     "grade": false,
     "grade_id": "cell-9ce19789e96f47d1",
     "locked": true,
     "schema_version": 3,
     "solution": false,
     "task": false
    },
    "slideshow": {
     "slide_type": ""
    },
    "tags": [],
    "ExecuteTime": {
     "end_time": "2024-11-07T16:27:37.229327Z",
     "start_time": "2024-11-07T16:27:36.966395Z"
    }
   },
   "source": [
    "# Nothing to do here, just run the cell.\n",
    "scatter_plot(X, y)"
   ],
   "outputs": [
    {
     "data": {
      "text/plain": [
       "<Figure size 640x480 with 1 Axes>"
      ],
      "image/png": "[encoded data removed]"
     },
     "metadata": {},
     "output_type": "display_data"
    }
   ],
   "execution_count": 36
  },
  {
   "cell_type": "markdown",
   "metadata": {
    "deletable": false,
    "editable": false,
    "nbgrader": {
     "cell_type": "markdown",
     "checksum": "055bdb0dcd7a0e7321f4ba2cb76df0f9",
     "grade": false,
     "grade_id": "cell-3633b7cb027f5d22",
     "locked": true,
     "schema_version": 3,
     "solution": false,
     "task": false
    }
   },
   "source": [
    "<h3 style=\"color:rgb(210,90,80)\">Question 1.1 (2 Points):</h3>"
   ]
  },
  {
   "cell_type": "markdown",
   "metadata": {
    "deletable": false,
    "editable": false,
    "nbgrader": {
     "cell_type": "markdown",
     "checksum": "7a62840528f03655f6c6e0c7ff546ce2",
     "grade": false,
     "grade_id": "cell-d7dda029e5f1da12",
     "locked": true,
     "schema_version": 3,
     "solution": false,
     "task": false
    },
    "slideshow": {
     "slide_type": ""
    },
    "tags": []
   },
   "source": [
    "***Answer the following yes/no questions concerning the distribution of the data:***\n",
    "\n",
    "a1_) Would a linear regression method be an optimal choice for this task?<br>\n",
    "b1_) Would a linear classifier achieve a better performance than 25% misclassification?<br>\n",
    "\n",
    "To answer the question, assign \"True\" or \"False\" boolean values to variables in the next cell. For example, if you think that **a1_)** is correct, define a variable `a1_` and set it to `True`, the same applies to **b1_)**. A non-correctly answered question as well as no answer (i.e. answer “None”) yields 0 points for a specific question.<br>\n",
    "<b>Note:</b> Do not reuse these variable names. They are used for testing."
   ]
  },
  {
   "cell_type": "code",
   "metadata": {
    "deletable": false,
    "editable": true,
    "nbgrader": {
     "cell_type": "code",
     "checksum": "5ed5a81b20172513429e3d7b0b4084ea",
     "grade": false,
     "grade_id": "question_1_1",
     "locked": false,
     "schema_version": 3,
     "solution": true,
     "task": false
    },
    "slideshow": {
     "slide_type": ""
    },
    "tags": [],
    "ExecuteTime": {
     "end_time": "2024-11-07T16:27:37.236661Z",
     "start_time": "2024-11-07T16:27:37.232721Z"
    }
   },
   "source": [
    "# YOUR CODE HERE\n",
    "a1_ = False\n",
    "b1_ = True"
   ],
   "outputs": [],
   "execution_count": 37
  },
  {
   "cell_type": "code",
   "metadata": {
    "deletable": false,
    "editable": false,
    "nbgrader": {
     "cell_type": "code",
     "checksum": "4a043f7228963c2b067623be4c018aa0",
     "grade": true,
     "grade_id": "a1",
     "locked": true,
     "points": 1,
     "schema_version": 3,
     "solution": false,
     "task": false
    },
    "slideshow": {
     "slide_type": ""
    },
    "tags": [],
    "ExecuteTime": {
     "end_time": "2024-11-07T16:27:37.299615Z",
     "start_time": "2024-11-07T16:27:37.295552Z"
    }
   },
   "source": [
    "# DO NOT DELETE THIS CELL!\n",
    "assert a1_ is not None, \"Store True/False!\"\n",
    "assert a1_ in [True, False], \"Invalid Answer!\""
   ],
   "outputs": [],
   "execution_count": 38
  },
  {
   "cell_type": "code",
   "metadata": {
    "deletable": false,
    "editable": false,
    "nbgrader": {
     "cell_type": "code",
     "checksum": "03b4cc2fb8f81a1a8fcf79ba6f7dbe36",
     "grade": true,
     "grade_id": "b1",
     "locked": true,
     "points": 1,
     "schema_version": 3,
     "solution": false,
     "task": false
    },
    "slideshow": {
     "slide_type": ""
    },
    "tags": [],
    "ExecuteTime": {
     "end_time": "2024-11-07T16:27:37.367760Z",
     "start_time": "2024-11-07T16:27:37.364393Z"
    }
   },
   "source": [
    "# DO NOT DELETE THIS CELL!\n",
    "assert b1_ is not None, \"Store True/False!\"\n",
    "assert b1_ in [True, False], \"Invalid Answer!\""
   ],
   "outputs": [],
   "execution_count": 39
  },
  {
   "cell_type": "markdown",
   "metadata": {
    "deletable": false,
    "editable": false,
    "nbgrader": {
     "cell_type": "markdown",
     "checksum": "b362c02819f5c1c847a47f0053162c67",
     "grade": false,
     "grade_id": "cell-f8298c2d96af5efa",
     "locked": true,
     "schema_version": 3,
     "solution": false,
     "task": false
    },
    "slideshow": {
     "slide_type": ""
    },
    "tags": []
   },
   "source": [
    "<h3 style=\"color:rgb(210,90,80)\">Code 1.2 (6 Points):</h3>"
   ]
  },
  {
   "cell_type": "code",
   "metadata": {
    "deletable": false,
    "editable": true,
    "nbgrader": {
     "cell_type": "code",
     "checksum": "d66e0e8ecb210e095e13b8977bcf47cd",
     "grade": false,
     "grade_id": "est_mean_cov",
     "locked": false,
     "schema_version": 3,
     "solution": true,
     "task": false
    },
    "slideshow": {
     "slide_type": ""
    },
    "tags": [],
    "ExecuteTime": {
     "end_time": "2024-11-07T16:27:37.779263Z",
     "start_time": "2024-11-07T16:27:37.774357Z"
    }
   },
   "source": [
    "def est_mean_cov(X: np.ndarray, y: np.ndarray) -> tuple[np.ndarray, np.ndarray, np.ndarray, np.ndarray, np.ndarray, np.ndarray, float, float]:\n",
    "    \"\"\"Estimate means and covariance matrices from the given data, as well as the probability of encountering a positive or negative example.\n",
    "    Utilize numpy functions for calculating the results.\n",
    "\n",
    "    Parameters\n",
    "    ----------\n",
    "    X : (N, K) np.ndarray\n",
    "        Data matrix of shape (n_samples, n_features).\n",
    "    y : (N,) np.ndarray\n",
    "        Data vector of shape (n_samples,), with binary labels (e.g., +1 or -1).\n",
    "\n",
    "    Returns\n",
    "    -------\n",
    "    meanX : (K,) np.ndarray\n",
    "        Mean vector (one entry per feature) for the entire dataset. \n",
    "    covX : (K, K) np.ndarray\n",
    "        Covariance matrix for the entire dataset.\n",
    "    meanXpos : (K,) np.ndarray\n",
    "        Mean vector (one entry per feature) for positive samples.\n",
    "    covXpos : (K, K) np.ndarray\n",
    "        Covariance matrix for positive samples.\n",
    "    meanXneg : (K,) np.ndarray\n",
    "        Mean vector (one entry per feature) for negative samples.\n",
    "    covXneg : (K, K) np.ndarray\n",
    "        Covariance matrix for negative samples.\n",
    "    p_ypos : float\n",
    "        Probability of a positive example, p(y = +1).\n",
    "    p_yneg : float\n",
    "        Probability of a negative example, p(y = -1).\n",
    "    \"\"\"\n",
    "    # YOUR CODE HERE\n",
    "    # Mean and covariance for the entire dataset\n",
    "    meanX = np.mean(X, axis=0)\n",
    "    covX = np.cov(X, rowvar=False)\n",
    "\n",
    "    # Positive and negative samples\n",
    "    Xpos = X[y == 1]\n",
    "    Xneg = X[y == -1]\n",
    "\n",
    "    # Mean and covariance for positive samples\n",
    "    meanXpos = np.mean(Xpos, axis=0)\n",
    "    covXpos = np.cov(Xpos, rowvar=False)\n",
    "\n",
    "    # Mean and covariance for negative samples\n",
    "    meanXneg = np.mean(Xneg, axis=0)\n",
    "    covXneg = np.cov(Xneg, rowvar=False)\n",
    "\n",
    "    # Probability of positive and negative examples\n",
    "    p_ypos = np.mean(y == 1)\n",
    "    p_yneg = np.mean(y == -1)\n",
    "\n",
    "    return meanX, covX, meanXpos, covXpos, meanXneg, covXneg, p_ypos, p_yneg"
   ],
   "outputs": [],
   "execution_count": 40
  },
  {
   "cell_type": "code",
   "metadata": {
    "deletable": false,
    "editable": false,
    "nbgrader": {
     "cell_type": "code",
     "checksum": "a6647fd0378f8abe82ffc9a80af1250b",
     "grade": true,
     "grade_id": "est_mean_cov_test_shape",
     "locked": true,
     "points": 1,
     "schema_version": 3,
     "solution": false,
     "task": false
    },
    "slideshow": {
     "slide_type": ""
    },
    "tags": [],
    "ExecuteTime": {
     "end_time": "2024-11-07T16:27:37.997129Z",
     "start_time": "2024-11-07T16:27:37.991837Z"
    }
   },
   "source": [
    "# DO NOT DELETE THIS CELL!\n",
    "res = est_mean_cov(X, y)\n",
    "assert len(res) == 8, \"The number of outputs is wrong!\"\n",
    "meanX, covX, meanXpos, covXpos, meanXneg, covXneg, p_ypos, p_yneg = res"
   ],
   "outputs": [],
   "execution_count": 41
  },
  {
   "cell_type": "code",
   "metadata": {
    "deletable": false,
    "editable": false,
    "nbgrader": {
     "cell_type": "code",
     "checksum": "f48d6f55eeeac222154721e6efb61905",
     "grade": true,
     "grade_id": "est_mean_cov_test_meanX",
     "locked": true,
     "points": 0.625,
     "schema_version": 3,
     "solution": false,
     "task": false
    },
    "ExecuteTime": {
     "end_time": "2024-11-07T16:27:38.087266Z",
     "start_time": "2024-11-07T16:27:38.084056Z"
    }
   },
   "source": [
    "# DO NOT DELETE THIS CELL!\n",
    "assert isinstance(meanX, np.ndarray), \"The mean of the whole data is not a np.ndarray!\"\n",
    "np.testing.assert_array_almost_equal(meanX, np.array([-0.057087306,  0.064688794], dtype=np.float32), 4)"
   ],
   "outputs": [],
   "execution_count": 42
  },
  {
   "cell_type": "code",
   "metadata": {
    "deletable": false,
    "editable": false,
    "nbgrader": {
     "cell_type": "code",
     "checksum": "f44df9ab0ab3982e453a68d8b066919a",
     "grade": true,
     "grade_id": "est_mean_cov_test_covX",
     "locked": true,
     "points": 0.625,
     "schema_version": 3,
     "solution": false,
     "task": false
    },
    "ExecuteTime": {
     "end_time": "2024-11-07T16:27:38.160775Z",
     "start_time": "2024-11-07T16:27:38.155320Z"
    }
   },
   "source": [
    "# DO NOT DELETE THIS CELL!\n",
    "assert isinstance(covX, np.ndarray), \"The covariance of the whole data is not a np.ndarray!\"\n",
    "np.testing.assert_array_almost_equal(covX, np.array([[4.321541110644044, 0.9361894568083656], [0.9361894568083656, 6.752613915214139]], dtype=np.float32), 4)"
   ],
   "outputs": [],
   "execution_count": 43
  },
  {
   "cell_type": "code",
   "metadata": {
    "deletable": false,
    "editable": false,
    "nbgrader": {
     "cell_type": "code",
     "checksum": "86d3574623ad9aa5477b0798eff14f9e",
     "grade": true,
     "grade_id": "est_mean_cov_test_meanXpos",
     "locked": true,
     "points": 0.625,
     "schema_version": 3,
     "solution": false,
     "task": false
    },
    "ExecuteTime": {
     "end_time": "2024-11-07T16:27:38.255565Z",
     "start_time": "2024-11-07T16:27:38.251938Z"
    }
   },
   "source": [
    "# DO NOT DELETE THIS CELL!\n",
    "assert isinstance(meanXpos, np.ndarray), \"The mean of the positive samples is not a np.ndarray!\"\n",
    "np.testing.assert_array_almost_equal(meanXpos, np.array([-0.14820707, -0.037901126], dtype=np.float32), 4)"
   ],
   "outputs": [],
   "execution_count": 44
  },
  {
   "cell_type": "code",
   "metadata": {
    "deletable": false,
    "editable": false,
    "nbgrader": {
     "cell_type": "code",
     "checksum": "cc2119ccb72722d81bbec24b1ae3052a",
     "grade": true,
     "grade_id": "est_mean_cov_test_covXpos",
     "locked": true,
     "points": 0.625,
     "schema_version": 3,
     "solution": false,
     "task": false
    },
    "ExecuteTime": {
     "end_time": "2024-11-07T16:27:38.326402Z",
     "start_time": "2024-11-07T16:27:38.320755Z"
    }
   },
   "source": [
    "# DO NOT DELETE THIS CELL!\n",
    "assert isinstance(covXpos, np.ndarray), \"The covariance of the positive sample is not a np.ndarray!\"\n",
    "np.testing.assert_array_almost_equal(covXpos, np.array([[8.44226725, 2.01781502], [2.01781502, 0.95332618]], dtype=np.float32), 4)"
   ],
   "outputs": [],
   "execution_count": 45
  },
  {
   "cell_type": "code",
   "metadata": {
    "deletable": false,
    "editable": false,
    "nbgrader": {
     "cell_type": "code",
     "checksum": "31e27d2990a649f5e6b6ca9975900961",
     "grade": true,
     "grade_id": "est_mean_cov_test_meanXneg",
     "locked": true,
     "points": 0.625,
     "schema_version": 3,
     "solution": false,
     "task": false
    },
    "ExecuteTime": {
     "end_time": "2024-11-07T16:27:38.419804Z",
     "start_time": "2024-11-07T16:27:38.416189Z"
    }
   },
   "source": [
    "# DO NOT DELETE THIS CELL!\n",
    "assert isinstance(meanXneg, np.ndarray), \"The mean of the negative samples is not a np.ndarray!\"\n",
    "np.testing.assert_array_almost_equal(meanXneg, np.array([0.03403238, 0.16727877], dtype=np.float32), 4)"
   ],
   "outputs": [],
   "execution_count": 46
  },
  {
   "cell_type": "code",
   "metadata": {
    "deletable": false,
    "editable": false,
    "nbgrader": {
     "cell_type": "code",
     "checksum": "c3060c5b79416d63a1f71baf1a66b825",
     "grade": true,
     "grade_id": "est_mean_cov_test_covXneg",
     "locked": true,
     "points": 0.625,
     "schema_version": 3,
     "solution": false,
     "task": false
    },
    "ExecuteTime": {
     "end_time": "2024-11-07T16:27:38.475908Z",
     "start_time": "2024-11-07T16:27:38.470065Z"
    }
   },
   "source": [
    "# DO NOT DELETE THIS CELL!\n",
    "assert isinstance(covXneg, np.ndarray), \"The covariance of the negative sample is not a np.ndarray!\"\n",
    "np.testing.assert_array_almost_equal(covXneg, np.array([[ 0.19860714, -0.16106351], [-0.16106351, 12.55336585]], dtype=np.float32), 4)"
   ],
   "outputs": [],
   "execution_count": 47
  },
  {
   "cell_type": "code",
   "metadata": {
    "deletable": false,
    "editable": false,
    "nbgrader": {
     "cell_type": "code",
     "checksum": "e691796bc693452c7d524abf32d298db",
     "grade": true,
     "grade_id": "est_mean_cov_test_p_ypos",
     "locked": true,
     "points": 0.625,
     "schema_version": 3,
     "solution": false,
     "task": false
    },
    "slideshow": {
     "slide_type": ""
    },
    "tags": [],
    "ExecuteTime": {
     "end_time": "2024-11-07T16:27:38.594384Z",
     "start_time": "2024-11-07T16:27:38.590040Z"
    }
   },
   "source": [
    "# DO NOT DELETE THIS CELL!\n",
    "assert isinstance(p_ypos, float), \"The probably of a positive sample is not a float!\"\n",
    "assert p_ypos == 0.5, \"The probability of a positive sample is not correct!\""
   ],
   "outputs": [],
   "execution_count": 48
  },
  {
   "cell_type": "code",
   "metadata": {
    "deletable": false,
    "editable": false,
    "nbgrader": {
     "cell_type": "code",
     "checksum": "d695115698fcf2868f60f4b41a4e4712",
     "grade": true,
     "grade_id": "est_mean_cov_test_p_yneg",
     "locked": true,
     "points": 0.625,
     "schema_version": 3,
     "solution": false,
     "task": false
    },
    "slideshow": {
     "slide_type": ""
    },
    "tags": [],
    "ExecuteTime": {
     "end_time": "2024-11-07T16:27:38.634476Z",
     "start_time": "2024-11-07T16:27:38.631454Z"
    }
   },
   "source": [
    "# DO NOT DELETE THIS CELL!\n",
    "assert isinstance(p_yneg, float), \"The probability of a negative sample is not a float!\"\n",
    "assert p_yneg == 0.5, \"The probability of a negative sample is not correct!\""
   ],
   "outputs": [],
   "execution_count": 49
  },
  {
   "cell_type": "code",
   "metadata": {
    "deletable": false,
    "editable": false,
    "nbgrader": {
     "cell_type": "code",
     "checksum": "d74b5a59ff20177068ee6893ef81e40a",
     "grade": false,
     "grade_id": "cell-a90a2a23f96bec14",
     "locked": true,
     "schema_version": 3,
     "solution": false,
     "task": false
    },
    "slideshow": {
     "slide_type": ""
    },
    "tags": [],
    "ExecuteTime": {
     "end_time": "2024-11-07T16:27:38.773227Z",
     "start_time": "2024-11-07T16:27:38.762114Z"
    }
   },
   "source": [
    "# Nothing to do here, just run the cell.\n",
    "print(\"Entire dataset:\\n\")\n",
    "print(\"Mean = \", meanX, \"\\n\")\n",
    "print(\"Covariance:\")\n",
    "print(pd.DataFrame(covX,columns=[\"x1\",\"x2\"],index=[\"x1\",\"x2\"]),\"\\n\")\n",
    "print(30 * \"=\")\n",
    "print(\"Positive class:\\n\")\n",
    "print(\"Mean = \", meanXpos, \"\\n\")\n",
    "print(\"Covariance:\")\n",
    "print(pd.DataFrame(covXpos,columns=[\"x1\",\"x2\"],index=[\"x1\",\"x2\"]),\"\\n\")\n",
    "print(\"p(y=+1) =\", p_ypos, \"\\n\")\n",
    "print(30 * \"=\")\n",
    "print(\"Negative class:\\n\")\n",
    "print(\"Mean =\", meanXneg, \"\\n\")\n",
    "print(\"Covariance:\")\n",
    "print(pd.DataFrame(covXneg,columns=[\"x1\",\"x2\"],index=[\"x1\",\"x2\"]),\"\\n\")\n",
    "print(\"p(y=-1) =\", p_yneg)"
   ],
   "outputs": [
    {
     "name": "stdout",
     "output_type": "stream",
     "text": [
      "Entire dataset:\n",
      "\n",
      "Mean =  [-0.05708731  0.06468879] \n",
      "\n",
      "Covariance:\n",
      "          x1        x2\n",
      "x1  4.321541  0.936189\n",
      "x2  0.936189  6.752614 \n",
      "\n",
      "==============================\n",
      "Positive class:\n",
      "\n",
      "Mean =  [-0.14820707 -0.03790113] \n",
      "\n",
      "Covariance:\n",
      "          x1        x2\n",
      "x1  8.442267  2.017815\n",
      "x2  2.017815  0.953326 \n",
      "\n",
      "p(y=+1) = 0.5 \n",
      "\n",
      "==============================\n",
      "Negative class:\n",
      "\n",
      "Mean = [0.03403238 0.16727877] \n",
      "\n",
      "Covariance:\n",
      "          x1         x2\n",
      "x1  0.198607  -0.161064\n",
      "x2 -0.161064  12.553366 \n",
      "\n",
      "p(y=-1) = 0.5\n"
     ]
    }
   ],
   "execution_count": 50
  },
  {
   "cell_type": "markdown",
   "metadata": {
    "deletable": false,
    "editable": false,
    "nbgrader": {
     "cell_type": "markdown",
     "checksum": "c634d527635fc9d895cf04fd458c0ac3",
     "grade": false,
     "grade_id": "cell-4f26b0a8117dfe50",
     "locked": true,
     "schema_version": 3,
     "solution": false,
     "task": false
    },
    "slideshow": {
     "slide_type": ""
    },
    "tags": []
   },
   "source": [
    "<h2 style=\"color:rgb(0,120,170)\">Task 2: Gaussian classifier: compute classifier & visualization</h2>\n",
    "\n",
    "Now that we got a good idea of the data, we want to implement a classifier and visualize it.\n",
    "\n",
    "- **Code 2.1**: Compute an optimal classification function $g_opt$ in `calc_g_opt()`. To do this, you should:\n",
    "    - Calculate the values of the corresponding parameters $\\mathbf{A}$, $\\mathbf{b}$ and $c$ in the provided functions (have a look at the lecture slides).\n",
    "    - Store the results in the given parameters `A` (np.ndarray), `b` (np.ndarray), `c` (float), and `g_opt` (np.ndarray).\n",
    "    - Print the values of $\\mathbf{A}$, $\\mathbf{b}$ and $c$ that you have calculated with their respective shapes.\n",
    "    - Note: You can reuse items from the previous task.\n",
    "* **Plot 2.2**: Visualize the classification function and the original data samples from Task 1.1. in **one** two-dimensional plot. I.e., the plot should show the data samples -- blue for positive and orange for negative -- and also show the classification function (500x500 grid points) in the corresponding (or similar) colors. For the grid points: use alpha=0.05 for opaquness and s=1 for the marker size. The decision boundary will become visible as the line separating the two classification territories. Again: Label the axes and plot a legend.\n",
    "* **Question 2.2**: Answer 2 questions about the result."
   ]
  },
  {
   "cell_type": "markdown",
   "metadata": {
    "deletable": false,
    "editable": false,
    "nbgrader": {
     "cell_type": "markdown",
     "checksum": "0ffdb7eebc037c3f58308ce4b949f6ed",
     "grade": false,
     "grade_id": "cell-1503ddf0ff6b0633",
     "locked": true,
     "schema_version": 3,
     "solution": false,
     "task": false
    },
    "slideshow": {
     "slide_type": ""
    },
    "tags": []
   },
   "source": [
    "<h3 style=\"color:rgb(210,90,80)\">Code 2.1 (10 Points):</h3>"
   ]
  },
  {
   "cell_type": "code",
   "metadata": {
    "deletable": false,
    "editable": true,
    "nbgrader": {
     "cell_type": "code",
     "checksum": "39d05352d561b7ff9bbf49a9bbd196df",
     "grade": false,
     "grade_id": "calc_A",
     "locked": false,
     "schema_version": 3,
     "solution": true,
     "task": false
    },
    "slideshow": {
     "slide_type": ""
    },
    "tags": [],
    "ExecuteTime": {
     "end_time": "2024-11-07T16:27:38.819654Z",
     "start_time": "2024-11-07T16:27:38.816124Z"
    }
   },
   "source": [
    "def calc_A(covXpos: np.ndarray, covXneg: np.ndarray) -> np.ndarray:\n",
    "    \"\"\"Calculate the desired parameter A based on covariance matrices and return the result.\n",
    "\n",
    "    Parameters\n",
    "    ----------\n",
    "    covXpos : (K, K) np.ndarray\n",
    "        Covariance matrix of positive samples.\n",
    "    covXneg : (K, K) np.ndarray\n",
    "        Covariance matrix of negative samples.\n",
    "        \n",
    "    Returns\n",
    "    -------\n",
    "    A : (K, K) np.ndarray\n",
    "        Result of the parameter calculation.\n",
    "    \"\"\"\n",
    "    # YOUR CODE HERE\n",
    "    # Ensure we're working with float32\n",
    "    covXpos = covXpos.astype(np.float32)\n",
    "    covXneg = covXneg.astype(np.float32)\n",
    "    \n",
    "    # Calculate inverse covariance matrices\n",
    "    inv_pos = np.linalg.inv(covXpos)\n",
    "    inv_neg = np.linalg.inv(covXneg)\n",
    "    \n",
    "    # Calculate A = -1/2 * (Σ₁⁻¹ - Σ₂⁻¹)\n",
    "    A = inv_pos - inv_neg\n",
    "    \n",
    "    return A"
   ],
   "outputs": [],
   "execution_count": 51
  },
  {
   "cell_type": "code",
   "metadata": {
    "deletable": false,
    "editable": false,
    "nbgrader": {
     "cell_type": "code",
     "checksum": "f31c930ef69397078188584d6ffcec85",
     "grade": true,
     "grade_id": "calc_A_test",
     "locked": true,
     "points": 2.5,
     "schema_version": 3,
     "solution": false,
     "task": false
    },
    "slideshow": {
     "slide_type": ""
    },
    "tags": [],
    "ExecuteTime": {
     "end_time": "2024-11-07T16:27:38.923121Z",
     "start_time": "2024-11-07T16:27:38.917647Z"
    }
   },
   "source": [
    "# DO NOT DELETE THIS CELL!\n",
    "A = calc_A(\n",
    "    np.array([[8.44226725, 2.01781502], [2.01781502, 0.95332618]], dtype=np.float32),\n",
    "    np.array([[ 0.19860714, -0.16106351], [-0.16106351, 12.55336585]], dtype=np.float32)\n",
    ")\n",
    "assert isinstance(A, np.ndarray), \"Parameter A is not a np.ndarray!\"\n",
    "assert A.shape == (2, 2), \"Parameter A does not have the correct shape!\"\n",
    "np.testing.assert_array_almost_equal(A, np.array([[-4.8482757, -0.5726957], [-0.5726957,  2.0424585]], dtype=np.float32), 4)"
   ],
   "outputs": [],
   "execution_count": 52
  },
  {
   "cell_type": "code",
   "metadata": {
    "deletable": false,
    "editable": true,
    "nbgrader": {
     "cell_type": "code",
     "checksum": "e6aff59dfb7002d5e2b18e55aa1c1f84",
     "grade": false,
     "grade_id": "calc_b",
     "locked": false,
     "schema_version": 3,
     "solution": true,
     "task": false
    },
    "slideshow": {
     "slide_type": ""
    },
    "tags": [],
    "ExecuteTime": {
     "end_time": "2024-11-07T16:27:39.033678Z",
     "start_time": "2024-11-07T16:27:39.027216Z"
    }
   },
   "source": [
    "def calc_b(meanXpos: np.ndarray, covXpos: np.ndarray, meanXneg: np.ndarray, covXneg: np.ndarray) -> np.ndarray:\n",
    "    \"\"\"This function should contain the calculations for the respective b parameter and return the result.\n",
    "    \n",
    "    Parameters\n",
    "    ----------\n",
    "    meanXpos : (K,) np.ndarray\n",
    "        Mean vector of positive samples.\n",
    "    covXpos : (K, K) np.ndarray\n",
    "        Covariance matrix of positive samples.\n",
    "    meanXneg : (K,) np.ndarray\n",
    "        Mean vector of negative samples.\n",
    "    covXneg : (K, K) np.ndarray\n",
    "        Covariance matrix of negative samples.\n",
    "\n",
    "    Returns\n",
    "    -------\n",
    "    b : (K,) np.ndarray\n",
    "        Result of the parameter calculation.\n",
    "    \"\"\"\n",
    "    # YOUR CODE HERE\n",
    "    # Ensure float32 dtype\n",
    "    meanXpos = meanXpos.astype(np.float32)\n",
    "    meanXneg = meanXneg.astype(np.float32)\n",
    "    covXpos = covXpos.astype(np.float32)\n",
    "    covXneg = covXneg.astype(np.float32)\n",
    "    \n",
    "    # Calculate inverse covariance matrices\n",
    "    inv_pos = np.linalg.inv(covXpos)\n",
    "    inv_neg = np.linalg.inv(covXneg)\n",
    "    \n",
    "    # Calculate b = Σ₂⁻¹μ₂ - Σ₁⁻¹μ₁\n",
    "    b = inv_pos @ meanXpos - inv_neg @ meanXneg \n",
    "    \n",
    "    return b"
   ],
   "outputs": [],
   "execution_count": 53
  },
  {
   "cell_type": "code",
   "metadata": {
    "deletable": false,
    "editable": false,
    "nbgrader": {
     "cell_type": "code",
     "checksum": "460775e6193915a0bf58eab901c298b8",
     "grade": true,
     "grade_id": "calc_b_test",
     "locked": true,
     "points": 2.5,
     "schema_version": 3,
     "solution": false,
     "task": false
    },
    "slideshow": {
     "slide_type": ""
    },
    "tags": [],
    "ExecuteTime": {
     "end_time": "2024-11-07T16:27:39.148771Z",
     "start_time": "2024-11-07T16:27:39.141977Z"
    }
   },
   "source": [
    "# DO NOT DELETE THIS CELL!\n",
    "b = calc_b(\n",
    "    np.array([-0.14820707, -0.037901126], dtype=np.float32),\n",
    "    np.array([[8.44226725, 2.01781502], [2.01781502, 0.95332618]], dtype=np.float32),\n",
    "    np.array([0.03403238, 0.16727877], dtype=np.float32),\n",
    "    np.array([[ 0.19860714, -0.16106351], [-0.16106351, 12.55336585]], dtype=np.float32)\n",
    ")\n",
    "assert isinstance(b, np.ndarray), \"Parameter b is not a np.ndarray!\"\n",
    "assert b.shape == (2,), \"Parameter b does not have the correct shape!\"\n",
    "np.testing.assert_array_almost_equal(b, np.array([-0.2003752 , -0.02094711], dtype=np.float32), 4)"
   ],
   "outputs": [],
   "execution_count": 54
  },
  {
   "cell_type": "code",
   "metadata": {
    "deletable": false,
    "editable": true,
    "nbgrader": {
     "cell_type": "code",
     "checksum": "d804f3ee0943fb305f7c90f082181667",
     "grade": false,
     "grade_id": "calc_c",
     "locked": false,
     "schema_version": 3,
     "solution": true,
     "task": false
    },
    "slideshow": {
     "slide_type": ""
    },
    "tags": [],
    "ExecuteTime": {
     "end_time": "2024-11-07T16:27:39.246946Z",
     "start_time": "2024-11-07T16:27:39.241147Z"
    }
   },
   "source": [
    "def calc_c(meanXpos: np.ndarray, covXpos: np.ndarray, meanXneg: np.ndarray, covXneg: np.ndarray, p_ypos: float, p_yneg: float) -> float:\n",
    "    \"\"\"This function should contain the calculations for the respective c parameter and return the result.\n",
    "    \n",
    "    Parameters\n",
    "    ----------\n",
    "    meanXpos : (K,) np.ndarray\n",
    "        Mean vector of positive samples.\n",
    "    covXpos : (K, K) np.ndarray\n",
    "        Covariance matrix of positive samples.\n",
    "    meanXneg : (K,) np.ndarray\n",
    "        Mean vector of negative samples.\n",
    "    covXneg : (K, K) np.ndarray\n",
    "        Covariance matrix of negative samples.\n",
    "    p_ypos : float\n",
    "        Probability of encountering a positive sample.\n",
    "    p_yneg : float\n",
    "        Probability of encountering a negative sample.\n",
    "\n",
    "    Returns\n",
    "    -------\n",
    "    c : float\n",
    "        Result of the parameter calculation.\n",
    "    \"\"\" \n",
    "    # YOUR CODE HERE\n",
    "    # Compute the individual terms in the formula\n",
    "    term1 = -0.5 * meanXpos.T @ np.linalg.inv(covXpos) @ meanXpos\n",
    "    term2 = 0.5 * meanXneg.T @ np.linalg.inv(covXneg) @ meanXneg\n",
    "    term3 = -0.5 * np.log(np.linalg.det(covXpos))\n",
    "    term4 = 0.5 * np.log(np.linalg.det(covXneg))\n",
    "    term5 = np.log(p_ypos) - np.log(p_yneg)\n",
    "    \n",
    "    # Combine terms to get the result\n",
    "    c = term1 + term2 + term3 + term4 + term5\n",
    "    \n",
    "    return c"
   ],
   "outputs": [],
   "execution_count": 55
  },
  {
   "cell_type": "code",
   "metadata": {
    "deletable": false,
    "editable": false,
    "nbgrader": {
     "cell_type": "code",
     "checksum": "26722c8756a97033c747ea8c2e824e33",
     "grade": true,
     "grade_id": "calc_c_test",
     "locked": true,
     "points": 2.5,
     "schema_version": 3,
     "solution": false,
     "task": false
    },
    "slideshow": {
     "slide_type": ""
    },
    "tags": [],
    "ExecuteTime": {
     "end_time": "2024-11-07T16:27:39.401416Z",
     "start_time": "2024-11-07T16:27:39.396399Z"
    }
   },
   "source": [
    "# DO NOT DELETE THIS CELL!\n",
    "c = calc_c(\n",
    "    np.array([-0.14820707, -0.037901126], dtype=np.float32),\n",
    "    np.array([[8.44226725, 2.01781502], [2.01781502, 0.95332618]], dtype=np.float32),\n",
    "    np.array([0.03403238, 0.16727877], dtype=np.float32),\n",
    "    np.array([[ 0.19860714, -0.16106351], [-0.16106351, 12.55336585]], dtype=np.float32),\n",
    "    0.5,\n",
    "    0.5\n",
    ")\n",
    "assert isinstance(c, float), \"Parameter c is not a float!\"\n",
    "assert np.isclose(c, -0.2355323516530916, atol=1e-4), \"Parameter c is not correct!\""
   ],
   "outputs": [],
   "execution_count": 56
  },
  {
   "cell_type": "code",
   "metadata": {
    "deletable": false,
    "editable": true,
    "nbgrader": {
     "cell_type": "code",
     "checksum": "ef5f27e0d7699c454f005d7cf53318c4",
     "grade": false,
     "grade_id": "calc_g_classification",
     "locked": false,
     "schema_version": 3,
     "solution": true,
     "task": false
    },
    "slideshow": {
     "slide_type": ""
    },
    "tags": [],
    "ExecuteTime": {
     "end_time": "2024-11-07T16:27:39.445599Z",
     "start_time": "2024-11-07T16:27:39.440441Z"
    }
   },
   "source": [
    "def calc_g_opt(A: np.ndarray, b: np.ndarray, c: float, gridpoints: np.ndarray) -> np.ndarray:\n",
    "    \"\"\"Compute the optimal classification function `g_opt` using the parameters A, b, and c.\n",
    "\n",
    "    This function applies the classification function `g_hat` to each point in `gridpoints`, using the provided parameters.\n",
    "    Afterwards the sign function is applied using `np.sign` resulting in `g_opt`.\n",
    "    \n",
    "    Parameters\n",
    "    ----------\n",
    "    A : (K, K) np.ndarray\n",
    "        A matrix representing quadratic terms in the classification function `g_hat`.\n",
    "    b : (K,) np.ndarray\n",
    "        A vector representing linear terms in the classification function `g_hat`.\n",
    "    c : float\n",
    "        A scalar bias term in the classification function `g_hat`.\n",
    "    gridpoints : (N, K) np.ndarray\n",
    "        Array containing the points to which `g_hat` should be applied.\n",
    "\n",
    "    Returns\n",
    "    -------\n",
    "    classification : (N,) np.ndarray\n",
    "        A 1D array containing the +1 and -1 values of the classification function `g_opt` applied to each sample in `gridpoints`.\n",
    "    \"\"\"\n",
    "    # YOUR CODE HERE\n",
    "    # Compute the quadratic term: x^T A x for each gridpoint\n",
    "    quad_term = np.sum(np.dot(gridpoints, A) * gridpoints, axis=1)\n",
    "    \n",
    "    # Compute the linear term: b^T x for each gridpoint\n",
    "    linear_term = np.dot(gridpoints, b)\n",
    "    \n",
    "    # Compute the classification function: g_hat = x^T A x + b^T x + c\n",
    "    g_hat = quad_term + linear_term + c\n",
    "    \n",
    "    # Apply the sign function to classify the gridpoints\n",
    "    classification = np.sign(g_hat)\n",
    "    \n",
    "    return classification"
   ],
   "outputs": [],
   "execution_count": 57
  },
  {
   "cell_type": "code",
   "metadata": {
    "deletable": false,
    "editable": false,
    "nbgrader": {
     "cell_type": "code",
     "checksum": "176d1f4a2a4821c7a0d411e7ebd3aae1",
     "grade": true,
     "grade_id": "calc_g_classification_test",
     "locked": true,
     "points": 2.5,
     "schema_version": 3,
     "solution": false,
     "task": false
    },
    "slideshow": {
     "slide_type": ""
    },
    "tags": [],
    "ExecuteTime": {
     "end_time": "2024-11-07T16:27:39.604201Z",
     "start_time": "2024-11-07T16:27:39.586801Z"
    }
   },
   "source": [
    "# DO NOT DELETE THIS CELL!\n",
    "X1, X2 = np.mgrid[-11:11:500j, -11:11:500j]\n",
    "X1, X2 = X1.ravel(), X2.ravel()\n",
    "gridpoints = np.c_[X1, X2]\n",
    "A = np.array([[-4.8482757, -0.5726957], [-0.5726957,  2.0424585]], dtype=np.float32)\n",
    "b = np.array([-0.2003752 , -0.02094711], dtype=np.float32)\n",
    "c = -0.2355323516530916\n",
    "\n",
    "g_opt = calc_g_opt(A, b, c, gridpoints)\n",
    "assert g_opt.shape == X1.shape, \"The output has a wrong shape!\"\n",
    "assert np.isin(g_opt, [1, -1]).all(), \"Some values in g_opt are unequal to 1 or -1!\""
   ],
   "outputs": [],
   "execution_count": 58
  },
  {
   "cell_type": "code",
   "metadata": {
    "deletable": false,
    "editable": false,
    "nbgrader": {
     "cell_type": "code",
     "checksum": "5f8c4d8a2bbd7908b04d11f856336e8b",
     "grade": false,
     "grade_id": "cell-f585c1a6eae25ccd",
     "locked": true,
     "schema_version": 3,
     "solution": false,
     "task": false
    },
    "slideshow": {
     "slide_type": ""
    },
    "tags": [],
    "ExecuteTime": {
     "end_time": "2024-11-07T16:27:39.667007Z",
     "start_time": "2024-11-07T16:27:39.660378Z"
    }
   },
   "source": [
    "# Nothing to do here, just run the cell.\n",
    "print(\"gridponts.shape =\", gridpoints.shape, \"\\n\")\n",
    "print(30*\"=\")\n",
    "print(\"g_opt.shape =\", g_opt.shape, \"\\n\")\n",
    "print(30*\"=\")\n",
    "# Print the values of A, b and c that you have calculated with their respective shapes.\n",
    "print(\"A = \", A)\n",
    "print(\"A.shape = \", A.shape, \"\\n\")\n",
    "print(30*\"=\")\n",
    "print(\"b = \", b)\n",
    "print(\"b.shape = \", b.shape, \"\\n\")\n",
    "print(30*\"=\")\n",
    "print(\"c = \", c)"
   ],
   "outputs": [
    {
     "name": "stdout",
     "output_type": "stream",
     "text": [
      "gridponts.shape = (250000, 2) \n",
      "\n",
      "==============================\n",
      "g_opt.shape = (250000,) \n",
      "\n",
      "==============================\n",
      "A =  [[-4.8482757 -0.5726957]\n",
      " [-0.5726957  2.0424585]]\n",
      "A.shape =  (2, 2) \n",
      "\n",
      "==============================\n",
      "b =  [-0.2003752  -0.02094711]\n",
      "b.shape =  (2,) \n",
      "\n",
      "==============================\n",
      "c =  -0.2355323516530916\n"
     ]
    }
   ],
   "execution_count": 59
  },
  {
   "cell_type": "markdown",
   "metadata": {
    "deletable": false,
    "editable": false,
    "nbgrader": {
     "cell_type": "markdown",
     "checksum": "7d4ad86670a51c7c392560dbe7ea859b",
     "grade": false,
     "grade_id": "cell-72b4aa8f573702c8",
     "locked": true,
     "schema_version": 3,
     "solution": false,
     "task": false
    },
    "slideshow": {
     "slide_type": ""
    },
    "tags": []
   },
   "source": [
    "<h3 style=\"color:rgb(210,90,80)\">Plot 2.2 (8 Points):</h3>"
   ]
  },
  {
   "cell_type": "code",
   "metadata": {
    "deletable": false,
    "editable": true,
    "nbgrader": {
     "cell_type": "code",
     "checksum": "a41cc0c6dd0f9e800dbdb4d1bfdfd5d5",
     "grade": true,
     "grade_id": "plot_2_2",
     "locked": false,
     "points": 8,
     "schema_version": 3,
     "solution": true,
     "task": false
    },
    "slideshow": {
     "slide_type": ""
    },
    "tags": [],
    "ExecuteTime": {
     "end_time": "2024-11-07T16:27:39.827737Z",
     "start_time": "2024-11-07T16:27:39.820729Z"
    }
   },
   "source": [
    "def scatter_plot_g_opt(X: np.ndarray, y: np.ndarray, X1: np.ndarray, X2: np.ndarray, g_opt: np.ndarray):\n",
    "    \"\"\"Creates a scatter-plot for the dataset X with labels y and the classification function g_opt applied to X1 and X2.\n",
    "    \n",
    "    Parameters\n",
    "    ----------\n",
    "    X : (N_data, K) np.ndarray\n",
    "        The original data.\n",
    "    y : (N_data,) np.ndarray\n",
    "        The labels of the data.\n",
    "    X1: (N_grid,) np.ndarray\n",
    "        The grid values for the x-axis.\n",
    "    X2: (N_grid,) np.ndarray\n",
    "        The grid values for the y-axis.\n",
    "    g_opt : (N_grid,) np.ndarray\n",
    "        The result of applying the optimal classifier on the grid features X1 and X2.\n",
    "    \"\"\"\n",
    "def scatter_plot_g_opt(X: np.ndarray, y: np.ndarray, X1: np.ndarray, X2: np.ndarray, g_opt: np.ndarray):\n",
    "    \"\"\"Creates a scatter-plot for the dataset X with labels y and the classification function g_opt applied to X1 and X2.\n",
    "\n",
    "    Parameters\n",
    "    ----------\n",
    "    X : (N_data, K) np.ndarray\n",
    "        The original data.\n",
    "    y : (N_data,) np.ndarray\n",
    "        The labels of the data.\n",
    "    X1: (N_grid,) np.ndarray\n",
    "        The grid values for the x-axis.\n",
    "    X2: (N_grid,) np.ndarray\n",
    "        The grid values for the y-axis.\n",
    "    g_opt : (N_grid,) np.ndarray\n",
    "        The result of applying the optimal classifier on the grid features X1 and X2.\n",
    "    \"\"\"\n",
    "    # Create a figure and axes\n",
    "    fig, ax = plt.subplots(figsize=(8, 8))\n",
    "\n",
    "    #Plot the decision boundary\n",
    "    ax.contourf(X1.reshape(500, 500), X2.reshape(500, 500), g_opt.reshape(500, 500), levels=[0, 0.5, 1], colors=('red', 'blue'), alpha=0.2)\n",
    "\n",
    "    #Plot the data points\n",
    "    ax.scatter(X[:, 0], X[:, 1], c=y, cmap='viridis')\n",
    "\n",
    "    #Set labels and title\n",
    "    ax.set_xlabel('Feature 1')\n",
    "    ax.set_ylabel('Feature 2')\n",
    "    ax.set_title('Scatter Plot with Optimal Classifier')\n",
    "\n",
    "    #Show the plot\n",
    "    plt.show()"
   ],
   "outputs": [],
   "execution_count": 60
  },
  {
   "cell_type": "code",
   "metadata": {
    "deletable": false,
    "editable": false,
    "nbgrader": {
     "cell_type": "code",
     "checksum": "c659d82a19b5e56f02be5b4fe682de0a",
     "grade": false,
     "grade_id": "cell-45865763c654fd6b",
     "locked": true,
     "schema_version": 3,
     "solution": false,
     "task": false
    },
    "slideshow": {
     "slide_type": ""
    },
    "tags": [],
    "ExecuteTime": {
     "end_time": "2024-11-07T16:27:40.314733Z",
     "start_time": "2024-11-07T16:27:40.021818Z"
    }
   },
   "source": [
    "# Nothing to do here, just run the cell.\n",
    "scatter_plot_g_opt(X, y, X1, X2, g_opt)"
   ],
   "outputs": [
    {
     "data": {
      "text/plain": [
       "<Figure size 800x800 with 1 Axes>"
      ],
      "image/png": "[encoded data removed]"
     },
     "metadata": {},
     "output_type": "display_data"
    }
   ],
   "execution_count": 61
  },
  {
   "cell_type": "markdown",
   "metadata": {
    "deletable": false,
    "editable": false,
    "nbgrader": {
     "cell_type": "markdown",
     "checksum": "bdbaf75d64b4383f12199c340922cdd6",
     "grade": false,
     "grade_id": "cell-4fa3c7807b2598fd",
     "locked": true,
     "schema_version": 3,
     "solution": false,
     "task": false
    }
   },
   "source": [
    "<h3 style=\"color:rgb(210,90,80)\">Question 2.2 (2 Points):</h3>"
   ]
  },
  {
   "cell_type": "markdown",
   "metadata": {
    "deletable": false,
    "editable": false,
    "nbgrader": {
     "cell_type": "markdown",
     "checksum": "f28eb1c1b2512e7cc2d4a6a36a987b2c",
     "grade": false,
     "grade_id": "cell-a3112e06347b3519",
     "locked": true,
     "schema_version": 3,
     "solution": false,
     "task": false
    },
    "slideshow": {
     "slide_type": ""
    },
    "tags": []
   },
   "source": [
    "***Answer the following questions about the plot you just created:***\n",
    "\n",
    "a2_) Did the classifier perform well on the task i.e. do the decision boundaries seem to match the classes as plotted in Task 1.1?<br>\n",
    "b2_) Are datapoints that lie in the middle (i.e. overlapping) region of the two classes less prone to being misclassified compared to data far away from the center?<br>\n",
    "\n",
    "To answer the question, assign \"True\" or \"False\" boolean values to variables in the next cell. For example, if you think that **a2_)** is correct, define a variable `a2_` and set it to `True`, the same applies to **b2_)**. A non-correctly answered question as well as no answer (i.e. answer “None”) yields 0 points for a specific question.<br>\n",
    "<b>Note:</b> Do not reuse these variable names. They are used for testing."
   ]
  },
  {
   "cell_type": "code",
   "metadata": {
    "deletable": false,
    "editable": true,
    "nbgrader": {
     "cell_type": "code",
     "checksum": "c9aabdcd1f3fca0ca967a7abd7c683ab",
     "grade": false,
     "grade_id": "question_2_2",
     "locked": false,
     "schema_version": 3,
     "solution": true,
     "task": false
    },
    "slideshow": {
     "slide_type": ""
    },
    "tags": [],
    "ExecuteTime": {
     "end_time": "2024-11-07T16:27:40.322426Z",
     "start_time": "2024-11-07T16:27:40.318209Z"
    }
   },
   "source": [
    "# YOUR CODE HERE\n",
    "a2_ = True\n",
    "b2_ = False"
   ],
   "outputs": [],
   "execution_count": 62
  },
  {
   "cell_type": "code",
   "metadata": {
    "deletable": false,
    "editable": false,
    "nbgrader": {
     "cell_type": "code",
     "checksum": "1027f19677a6c7cfdffadd0d7ea97477",
     "grade": true,
     "grade_id": "a2",
     "locked": true,
     "points": 1,
     "schema_version": 3,
     "solution": false,
     "task": false
    },
    "ExecuteTime": {
     "end_time": "2024-11-07T16:27:40.396504Z",
     "start_time": "2024-11-07T16:27:40.391803Z"
    }
   },
   "source": [
    "# DO NOT DELETE THIS CELL!\n",
    "assert a2_ is not None, \"Store True/False!\"\n",
    "assert a2_ in [True, False], \"Invalid Answer!\""
   ],
   "outputs": [],
   "execution_count": 63
  },
  {
   "cell_type": "code",
   "metadata": {
    "deletable": false,
    "editable": false,
    "nbgrader": {
     "cell_type": "code",
     "checksum": "554d284a00a281c315b0dc8ad5888218",
     "grade": true,
     "grade_id": "b2",
     "locked": true,
     "points": 1,
     "schema_version": 3,
     "solution": false,
     "task": false
    },
    "slideshow": {
     "slide_type": ""
    },
    "tags": [],
    "ExecuteTime": {
     "end_time": "2024-11-07T16:27:40.500389Z",
     "start_time": "2024-11-07T16:27:40.496696Z"
    }
   },
   "source": [
    "# DO NOT DELETE THIS CELL!\n",
    "assert b2_ is not None, \"Store True/False!\"\n",
    "assert b2_ in [True, False], \"Invalid Answer!\""
   ],
   "outputs": [],
   "execution_count": 64
  },
  {
   "cell_type": "markdown",
   "metadata": {
    "deletable": false,
    "editable": false,
    "nbgrader": {
     "cell_type": "markdown",
     "checksum": "3cc5787c20251166ebf5bd1ff77fbeae",
     "grade": false,
     "grade_id": "cell-2553511bec98b000",
     "locked": true,
     "schema_version": 3,
     "solution": false,
     "task": false
    },
    "slideshow": {
     "slide_type": ""
    },
    "tags": []
   },
   "source": [
    "<h2 style=\"color:rgb(0,120,170)\">Task 3: Details for bias-variance decomposition for quadratic loss</h2>\n",
    "\n",
    "An explicit formula of the bias variance decomposition for the quadratic loss was mentioned in the lecture. In this task, you will prove this decomposition yourselves. To this end, let us introduce some notation:\n",
    "\n",
    "$Z_l = (X,\\mathbf{y})$ denotes a data matrix of $l$ elements, with $X$ the ($d\\times l$)-dimensional feature matrix and $\\mathbf{y}$ the $l$-dimensional (column) label vector. $g(\\mathbf{x}_0;\\mathbf{w}(Z_l)))$ denotes the model, parametrized by the vector $\\mathbf{w}(Z_l)$ trained on $Z_l$, and the variable $y$ is the label corresponding to a (new) feature vector $\\mathbf{x}_0$. \n",
    "\n",
    "Our object of interest is the expected prediction error (EPE) for\n",
    "$\\mathbf{x}_0$ in case of the quadratic loss, i.e.:\n",
    "\n",
    "$$\\mathrm{EPE}(\\mathbf{x}_0) = \\mathrm{E}_{y\\mid\n",
    "\\mathbf{x}_0,Z_l}\\big(L_{\\mathbf{q}}(y,g(\\mathbf{x}_0;\\mathbf{w}(Z_l)))\\big)\n",
    "= \\mathrm{E}_{y\\mid\n",
    "\\mathbf{x}_0,Z_l}\\big((y-g(\\mathbf{x}_0;\\mathbf{w}(Z_l)))^2\\big)$$\n",
    "\n",
    "We assume that $y\\!\\mid\\!\\mathbf{x}_0$ and the selection of training samples $Z_l$ are\n",
    "independent which results in the following reformulation of the total expected prediction error:\n",
    "\n",
    "$$\\mathrm{EPE}(\\mathbf{x}_0) = \\mathrm{E}_{y\\mid\n",
    "\\mathbf{x}_0}\\Big(\\mathrm{E}_{Z_l}\\big((y-g(\\mathbf{x}_0;\\mathbf{w}(Z_l)))^2\\big)\\Big) \\qquad \\text{(1)}$$\n",
    "\n",
    "Show that we can obtain the following bias-variance decomposition:\n",
    "\n",
    "\\begin{align}\n",
    "\\mathrm{EPE}(\\mathbf{x}_0)=&\\,\\operatorname{Var}(y\\!\\mid\\!\\mathbf{x}_0) \\\\\n",
    "&+\\Big(\\mathrm{E}_{y\\mid\\mathbf{x}_0}(y)-E_{Z_l}\\big(g(\\mathbf{x}_0;\\mathbf{w}(Z_l))\\big)\\Big)^2 & \\text{(2)}\\\\\n",
    "&+\\mathrm{E}_{Z_l}\\Big(\\big(g(\\mathbf{x}_0;\\mathbf{w}(Z_l))-E_{Z_l}(g(\\mathbf{x}_0;\\mathbf{w}(Z_l)))\\big)^2\\Big) \n",
    "\\end{align}\n",
    "\n",
    "For your calculation please use the given notation. Follow the steps indicated below."
   ]
  },
  {
   "cell_type": "markdown",
   "metadata": {
    "deletable": false,
    "editable": false,
    "nbgrader": {
     "cell_type": "markdown",
     "checksum": "191e3442b849c61ea2553c5db169310f",
     "grade": false,
     "grade_id": "cell-80c50499375cd021",
     "locked": true,
     "schema_version": 3,
     "solution": false,
     "task": false
    },
    "slideshow": {
     "slide_type": ""
    },
    "tags": []
   },
   "source": [
    "<h3 style=\"color:rgb(210,90,80)\">Calculation 3.1 (5 Points): Expand the Expected Prediction Error.</h3>\n",
    "\n",
    "Expand $\\mathrm{EPE}(\\mathbf{x}_0)$, i.e. eq. (1) above, and write it as three separate terms."
   ]
  },
  {
   "cell_type": "markdown",
   "metadata": {
    "deletable": false,
    "editable": true,
    "nbgrader": {
     "cell_type": "markdown",
     "checksum": "3663a30d0fb33c66d40e45cc48887433",
     "grade": true,
     "grade_id": "calc_3_1",
     "locked": false,
     "points": 5,
     "schema_version": 3,
     "solution": true,
     "task": false
    },
    "slideshow": {
     "slide_type": ""
    },
    "tags": []
   },
   "source": [
    "$$\\mathrm{EPE}(\\mathbf{x}0) = \\mathrm{E}{y\\mid\n",
    "\\mathbf{x}0,Z_l}\\big(L{\\mathbf{q}}(y,g(\\mathbf{x}0;\\mathbf{w}(Z_l)))\\big)\n",
    "= \\mathrm{E}{y\\mid\n",
    "\\mathbf{x}_0,Z_l}\\big((y-g(\\mathbf{x}_0;\\mathbf{w}(Z_l)))^2\\big)$$\n",
    "Expanding this expression, we can write it as three separate terms:\n",
    "\n",
    "$\\mathrm{E}_{y\\mid \\mathbf{x}_0,Z_l}[y^2]$\n",
    "$-2\\mathrm{E}_{y\\mid \\mathbf{x}_0,Z_l}[yg(\\mathbf{x}_0;\\mathbf{w}(Z_l))]$\n",
    "$\\mathrm{E}_{y\\mid \\mathbf{x}_0,Z_l}[g(\\mathbf{x}_0;\\mathbf{w}(Z_l))^2]$\n",
    "\n",
    "The expanded expression for $\\mathrm{EPE}(\\mathbf{x}_0)$ is, therefore:\n",
    "$$\\mathrm{EPE}(\\mathbf{x}0) = \\mathrm{E}{y\\mid \\mathbf{x}0,Z_l}[y^2] - 2\\mathrm{E}{y\\mid \\mathbf{x}_0,Z_l}[yg(\\mathbf{x}0;\\mathbf{w}(Z_l))] + \\mathrm{E}{y\\mid \\mathbf{x}_0,Z_l}[g(\\mathbf{x}_0;\\mathbf{w}(Z_l))^2]$$"
   ]
  },
  {
   "cell_type": "markdown",
   "metadata": {
    "deletable": false,
    "editable": false,
    "nbgrader": {
     "cell_type": "markdown",
     "checksum": "125d932dab8c0c460f0c03f1356d9101",
     "grade": false,
     "grade_id": "cell-ccd7cceb6f9be764",
     "locked": true,
     "schema_version": 3,
     "solution": false,
     "task": false
    },
    "slideshow": {
     "slide_type": ""
    },
    "tags": []
   },
   "source": [
    "<h3 style=\"color:rgb(210,90,80)\">Calculation 3.2 (5 Points): Rewrite $\\operatorname{Var}(y\\!\\mid\\!\\mathbf{x}_0)$ using expected values. </h3>\n",
    "\n",
    "Write the label variance (unavoidable error), i.e. term 1 in (2), in terms of expectation values."
   ]
  },
  {
   "cell_type": "markdown",
   "metadata": {
    "deletable": false,
    "editable": true,
    "nbgrader": {
     "cell_type": "markdown",
     "checksum": "12a249a1f35356e4f98601c5d23d3e5e",
     "grade": true,
     "grade_id": "calc_3_2",
     "locked": false,
     "points": 5,
     "schema_version": 3,
     "solution": true,
     "task": false
    },
    "slideshow": {
     "slide_type": ""
    },
    "tags": []
   },
   "source": [
    "$$\\mathrm{EPE}(\\mathbf{x}0) = \\mathrm{E}{y\\mid \\mathbf{x}0}\\Big(\\mathrm{E}{Z_l}\\big((y-g(\\mathbf{x}_0;\\mathbf{w}(Z_l)))^2\\big)\\Big)$$\n",
    "Expanding the square term, we get:\n",
    "$$\\mathrm{EPE}(\\mathbf{x}0) = \\mathrm{E}{y\\mid \\mathbf{x}0}\\Big(\\mathrm{E}{Z_l}\\big(y^2 - 2yg(\\mathbf{x}_0;\\mathbf{w}(Z_l)) + g(\\mathbf{x}_0;\\mathbf{w}(Z_l))^2\\big)\\Big)$$\n",
    "Rearranging the terms, we have:\n",
    "$$\\mathrm{EPE}(\\mathbf{x}0) = \\mathrm{E}{y\\mid \\mathbf{x}0}\\big(y^2\\big) - 2\\mathrm{E}{y\\mid \\mathbf{x}_0,Z_l}\\big(yg(\\mathbf{x}0;\\mathbf{w}(Z_l))\\big) + \\mathrm{E}{Z_l}\\big(g(\\mathbf{x}_0;\\mathbf{w}(Z_l))^2\\big)$$"
   ]
  },
  {
   "cell_type": "markdown",
   "metadata": {
    "deletable": false,
    "editable": false,
    "nbgrader": {
     "cell_type": "markdown",
     "checksum": "8c347060fdae95209a3573ecbb10f03a",
     "grade": false,
     "grade_id": "cell-84ce8efb837f4aee",
     "locked": true,
     "schema_version": 3,
     "solution": false,
     "task": false
    },
    "slideshow": {
     "slide_type": ""
    },
    "tags": []
   },
   "source": [
    "<h3 style=\"color:rgb(210,90,80)\">Calculation 3.3 (4 Points): Expand the squared bias.</h3>\n",
    "\n",
    "Expand the squared bias, i.e. term 2 in (2), and write it in three separate terms."
   ]
  },
  {
   "cell_type": "markdown",
   "metadata": {
    "deletable": false,
    "editable": true,
    "nbgrader": {
     "cell_type": "markdown",
     "checksum": "7318b16a0e3d53d47ac763ce5d217a89",
     "grade": true,
     "grade_id": "calc_3_3",
     "locked": false,
     "points": 4,
     "schema_version": 3,
     "solution": true,
     "task": false
    },
    "slideshow": {
     "slide_type": ""
    },
    "tags": []
   },
   "source": [
    "The label variance, $\\operatorname{Var}(y!\\mid!\\mathbf{x}_0)$, can be written in terms of expected values as follows:\n",
    "$$\\operatorname{Var}(y!\\mid!\\mathbf{x}0) = \\mathrm{E}{y\\mid \\mathbf{x}0}\\big(y^2\\big) - \\big(\\mathrm{E}{y\\mid \\mathbf{x}_0}(y)\\big)^2$$\n",
    "Substituting this back into the expanded EPE expression, we get:\n",
    "$$\\mathrm{EPE}(\\mathbf{x}_0) = \\operatorname{Var}(y!\\mid!\\mathbf{x}0) - 2\\mathrm{E}{y\\mid \\mathbf{x}_0,Z_l}\\big(yg(\\mathbf{x}0;\\mathbf{w}(Z_l))\\big) + \\mathrm{E}{Z_l}\\big(g(\\mathbf{x}_0;\\mathbf{w}(Z_l))^2\\big)$$\n",
    "This expression can be further simplified to obtain the bias-variance decomposition as shown in the statement of the problem."
   ]
  },
  {
   "cell_type": "markdown",
   "metadata": {
    "deletable": false,
    "editable": false,
    "nbgrader": {
     "cell_type": "markdown",
     "checksum": "847534e7e70ee80c36225337dfdc39fd",
     "grade": false,
     "grade_id": "cell-bc46e70e29f0ef96",
     "locked": true,
     "schema_version": 3,
     "solution": false,
     "task": false
    },
    "slideshow": {
     "slide_type": ""
    },
    "tags": []
   },
   "source": [
    "<h3 style=\"color:rgb(210,90,80)\">Calculation 3.4 (5 Points): Expand the variance of the model.</h3>\n",
    "\n",
    "Expand model variance, i.e. term 3 in (2), into three terms, and then simplify it to only two terms.\n",
    "\n",
    "Eventually, show that adding up your results from 3.2., 3.3., and 3.4. leads to your results from 3.1. That concludes the proof."
   ]
  },
  {
   "cell_type": "markdown",
   "metadata": {
    "deletable": false,
    "editable": true,
    "nbgrader": {
     "cell_type": "markdown",
     "checksum": "c0a7aa9fdaf94ea433a73dd9aa9e7609",
     "grade": true,
     "grade_id": "calc_3_4",
     "locked": false,
     "points": 5,
     "schema_version": 3,
     "solution": true,
     "task": false
    },
    "slideshow": {
     "slide_type": ""
    },
    "tags": []
   },
   "source": [
    "The third term in the bias-variance decomposition (2) is the variance of the model:\n",
    "$$\\mathrm{E}_{Z_l}\\Big(\\big(g(\\mathbf{x}0;\\mathbf{w}(Z_l))-\\mathrm{E}{Z_l}(g(\\mathbf{x}_0;\\mathbf{w}(Z_l)))\\big)^2\\Big)$$\n",
    "We can expand this term as follows:\n",
    "$$\\begin{align*}\n",
    "&\\mathrm{E}_{Z_l}\\Big(\\big(g(\\mathbf{x}0;\\mathbf{w}(Z_l))-\\mathrm{E}{Z_l}(g(\\mathbf{x}0;\\mathbf{w}(Z_l)))\\big)^2\\Big) \\\n",
    "&= \\mathrm{E}{Z_l}\\Big(g(\\mathbf{x}_0;\\mathbf{w}(Z_l))^2 - 2g(\\mathbf{x}0;\\mathbf{w}(Z_l))\\mathrm{E}{Z_l}(g(\\mathbf{x}0;\\mathbf{w}(Z_l))) + \\mathrm{E}{Z_l}(g(\\mathbf{x}0;\\mathbf{w}(Z_l)))^2\\Big) \\\n",
    "&= \\mathrm{E}{Z_l}\\Big(g(\\mathbf{x}0;\\mathbf{w}(Z_l))^2\\Big) - 2\\mathrm{E}{Z_l}(g(\\mathbf{x}0;\\mathbf{w}(Z_l)))\\mathrm{E}{Z_l}(g(\\mathbf{x}0;\\mathbf{w}(Z_l))) + \\mathrm{E}{Z_l}(g(\\mathbf{x}_0;\\mathbf{w}(Z_l)))^2\n",
    "\\end{align*}$$\n",
    "Simplifying further, we get:\n",
    "$$\\mathrm{E}_{Z_l}\\Big(\\big(g(\\mathbf{x}0;\\mathbf{w}(Z_l))-\\mathrm{E}{Z_l}(g(\\mathbf{x}0;\\mathbf{w}(Z_l)))\\big)^2\\Big) = \\mathrm{E}{Z_l}\\Big(g(\\mathbf{x}0;\\mathbf{w}(Z_l))^2\\Big) - \\big(\\mathrm{E}{Z_l}(g(\\mathbf{x}_0;\\mathbf{w}(Z_l)))\\big)^2$$\n",
    "Conclusion\n",
    "Now, adding up the results from Calculations 3.2, 3.3, and 3.4, we get the final bias-variance decomposition:\n",
    "$$\\mathrm{EPE}(\\mathbf{x}_0) = \\operatorname{Var}(y!\\mid!\\mathbf{x}0) + \\Big(\\mathrm{E}{y\\mid\\mathbf{x}0}(y)-\\mathrm{E}{Z_l}(g(\\mathbf{x}0;\\mathbf{w}(Z_l)))\\Big)^2 + \\mathrm{E}{Z_l}\\Big(g(\\mathbf{x}0;\\mathbf{w}(Z_l))^2\\Big) - \\big(\\mathrm{E}{Z_l}(g(\\mathbf{x}_0;\\mathbf{w}(Z_l)))\\big)^2$$\n",
    "This completes the proof of the bias-variance decomposition for the quadratic loss."
   ]
  },
  {
   "cell_type": "markdown",
   "metadata": {
    "deletable": false,
    "editable": false,
    "nbgrader": {
     "cell_type": "markdown",
     "checksum": "8700dd7df21ef3d2abe823e88ad3a788",
     "grade": false,
     "grade_id": "cell-e87429c5381fb106",
     "locked": true,
     "schema_version": 3,
     "solution": false,
     "task": false
    },
    "slideshow": {
     "slide_type": ""
    },
    "tags": []
   },
   "source": [
    "<h2 style=\"color:rgb(0,120,170)\">Task 4: Bias-variance decomposition for regression</h2>"
   ]
  },
  {
   "cell_type": "markdown",
   "metadata": {
    "editable": true,
    "slideshow": {
     "slide_type": ""
    },
    "tags": []
   },
   "source": [
    "We intend to perform polynomial regression to illustrate the bias-variance decomposition for the regression task described before. To this end, perform the following steps:\n",
    "* **Question 4.1**:<br>\n",
    "  Consider the following one-dimensional regression task: inputs $x$ are\n",
    "  sampled from the uniform distribution in $[−1, 3] \\subset \\mathbb{R}$ and targets $y$ are given as\n",
    "  \\begin{align*}\n",
    "  f(x) &= 0.5\\,x^4 + 2\\,x^3 - 8\\,x^2 \\\\\n",
    "  y &= f(x) + \\varepsilon,\n",
    "  \\end{align*}\n",
    "  where $\\varepsilon$ is independent normally distributed noise with mean $\\mu=0$ and variance $\\sigma^2 = 4$.\n",
    "  \n",
    "  Now, answer the given question.\n",
    "* **Code 4.2**:\n",
    "    * If a seed is given as function parameter, then set the seed using [np.random.seed](https://numpy.org/doc/2.0/reference/random/generated/numpy.random.seed.html).\n",
    "    * Define the function `f(x)`, using the definition in **Question 4.1**.\n",
    "    * Implement the function `create_X_train` which should return $S$ training sets with $N$ samples in the form of a `np.ndarray`. The x-values are uniformly sampled from `x_min` to `x_max`. Important: Use the function [np.random.uniform](https://numpy.org/doc/2.0/reference/random/generated/numpy.random.uniform.html) to complete this task!\n",
    "    * Implement the function `create_y_train` which generates the training y-values according to **Question 4.1**, i.e. with Gaussian noise. Define the function for general mean `mu` and standard deviation `std`. Important: Use the function [np.random.normal](https://numpy.org/doc/2.0/reference/random/generated/numpy.random.normal.html) to complete this task!\n",
    "    * Below, we provide the code for a function `pol_reg_pred` that trains a polynomial regression model with degree $m$ on a given training set and returns the prediction for a given test set (uniformly sampled $x$ values without labels). Use this to implement the function `bias_var` that estimates for each degree $m=1, ..., M$ the squared bias and the variance from the predictions for each of the $S$ training sets at $x_{test}$ and returns them in the `np.ndarrays` sqbias and variance. Each of these two arrays should then only contain $M$ elements.\n",
    "* **Plot 4.3**:<br> \n",
    "  Utilize the function `pol_reg_pred` to produce a <em>single</em> plot that simultaneously visualizes the training data as dots (plot only the <em>first</em> instance of the $S$ training sets, i.e. `X_train[0]`) and the corresponding models for $m=1,4,11$. Don't forget to label the axes and give your plot a fitting title.\n",
    "* **Plot 4.4**:<br>\n",
    "Finally, visualize your results in another <em>single</em> plot where the dependence of **(i) the unavoidable error**, **(ii) the squared bias**, **(iii) the model variance**, and **(iv) the total EPE** is shown versus $m$. Again, don't forget to label the axes and give your plot a fitting title as well as plot a legend. Feel free to plot lines to guide the eye, although the horizontal axis is discrete.\n",
    "* **Question 4.4**:<br>\n",
    "Answer some questions about **Plot 4.4**."
   ]
  },
  {
   "cell_type": "markdown",
   "metadata": {
    "deletable": false,
    "editable": false,
    "nbgrader": {
     "cell_type": "markdown",
     "checksum": "3d39851e290fdde09a3674bbb2300c71",
     "grade": false,
     "grade_id": "cell-a4e2db348b288f8e",
     "locked": true,
     "schema_version": 3,
     "solution": false,
     "task": false
    },
    "slideshow": {
     "slide_type": ""
    },
    "tags": []
   },
   "source": [
    "<h3 style=\"color:rgb(210,90,80)\">Question 4.1 (6 Points):</h3>\n",
    "\n",
    "***What are $E(y\\!\\mid\\!x_0)$ and the unavoidable error $\\operatorname{Var}(y\\!\\mid\\!x_0)$ for a fixed $x_0$ in the setting given above?***\n",
    "\n",
    "a3_)   $E(y\\!\\mid\\!x_0) = 0.5\\,\\sigma^4 + 2\\,\\sigma^3 - 8\\,\\sigma^2 \\,\\text{  and  } \\operatorname{Var}(y\\!\\mid\\!x_0) = x_0^2$. <br>\n",
    "b3_)   $E(y\\!\\mid\\!x_0) = 0.5\\,\\sigma^4 + 2\\,\\sigma^3 - 8\\,\\sigma^2 \\,\\text{  and  }  \\operatorname{Var}(y\\!\\mid\\!x_0) = \\sigma^2$. <br>\n",
    "c3_)   $E(y\\!\\mid\\!x_0) = 0.5\\,\\sigma^4 + 2\\,\\sigma^3 - 8\\,\\sigma^2 \\,\\text{  and  }  \\operatorname{Var}(y\\!\\mid\\!x_0) = 2\\sigma^2$. <br>\n",
    "d3_)   $E(y\\!\\mid\\!x_0) = 0.5\\,x_0^4 + 2\\,x_0^3 - 8\\,x_0^2 \\,\\text{  and  }\\operatorname{Var}(y\\!\\mid\\!x_0) = 2\\sigma^2$. <br>\n",
    "e3_)   $E(y\\!\\mid\\!x_0) = 0.5\\,x_0^4 + 2\\,x_0^3 - 8\\,x_0^2 \\,\\text{  and  }\\operatorname{Var}(y\\!\\mid\\!x_0) = \\sigma^2$. <br>\n",
    "f3_)   $E(y\\!\\mid\\!x_0) = 0.5\\,x_0^4 + 2\\,x_0^3 - 8\\,x_0^2 \\,\\text{  and  } \\operatorname{Var}(y\\!\\mid\\!x_0) = 0.5\\,x_0^4 + 2\\,x_0^3 - 8\\,x_0^2+\\sigma^2$.<br>\n",
    "\n",
    "To answer the question, assign \"True\" or \"False\" boolean values to variables in the next cell. For example, if you think that **a3_)** is correct, define a variable `a3_` and set it to `True`, the same applies to **b3_)** and the other options. A non-correctly answered question as well as no answer (i.e. answer “None”) yields 0 points for a specific question.<br>\n",
    "<b>Note:</b> Do not reuse these variable names. They are used for testing."
   ]
  },
  {
   "cell_type": "code",
   "metadata": {
    "deletable": false,
    "editable": true,
    "nbgrader": {
     "cell_type": "code",
     "checksum": "763ae7620bc2dc56217ab7b66cdea520",
     "grade": false,
     "grade_id": "question_4_1",
     "locked": false,
     "schema_version": 3,
     "solution": true,
     "task": false
    },
    "slideshow": {
     "slide_type": ""
    },
    "tags": [],
    "ExecuteTime": {
     "end_time": "2024-11-07T16:27:40.801049Z",
     "start_time": "2024-11-07T16:27:40.797883Z"
    }
   },
   "source": [
    "# YOUR CODE HERE\n",
    "a3_ = False\n",
    "b3_ = True\n",
    "c3_ = False\n",
    "d3_ = False\n",
    "e3_ = False\n",
    "f3_ = False"
   ],
   "outputs": [],
   "execution_count": 65
  },
  {
   "cell_type": "code",
   "metadata": {
    "deletable": false,
    "editable": false,
    "nbgrader": {
     "cell_type": "code",
     "checksum": "d3791d8d819072685a709e93cd067117",
     "grade": true,
     "grade_id": "a3",
     "locked": true,
     "points": 1,
     "schema_version": 3,
     "solution": false,
     "task": false
    },
    "slideshow": {
     "slide_type": ""
    },
    "tags": [],
    "ExecuteTime": {
     "end_time": "2024-11-07T16:27:40.880183Z",
     "start_time": "2024-11-07T16:27:40.874367Z"
    }
   },
   "source": [
    "# DO NOT DELETE THIS CELL!\n",
    "assert a3_ is not None, \"Store True/False!\"\n",
    "assert a3_ in [True, False], \"Invalid Answer!\""
   ],
   "outputs": [],
   "execution_count": 66
  },
  {
   "cell_type": "code",
   "metadata": {
    "deletable": false,
    "editable": false,
    "nbgrader": {
     "cell_type": "code",
     "checksum": "622e04eb49b794e2bf963c737dc1ce08",
     "grade": true,
     "grade_id": "b3",
     "locked": true,
     "points": 1,
     "schema_version": 3,
     "solution": false,
     "task": false
    },
    "slideshow": {
     "slide_type": ""
    },
    "tags": [],
    "ExecuteTime": {
     "end_time": "2024-11-07T16:27:41.028Z",
     "start_time": "2024-11-07T16:27:41.022583Z"
    }
   },
   "source": [
    "# DO NOT DELETE THIS CELL!\n",
    "assert b3_ is not None, \"Store True/False!\"\n",
    "assert b3_ in [True, False], \"Invalid Answer!\""
   ],
   "outputs": [],
   "execution_count": 67
  },
  {
   "cell_type": "code",
   "metadata": {
    "deletable": false,
    "editable": false,
    "nbgrader": {
     "cell_type": "code",
     "checksum": "15ac2b09ee89b5f45a9cd740217a6718",
     "grade": true,
     "grade_id": "c3",
     "locked": true,
     "points": 1,
     "schema_version": 3,
     "solution": false,
     "task": false
    },
    "ExecuteTime": {
     "end_time": "2024-11-07T16:27:41.097954Z",
     "start_time": "2024-11-07T16:27:41.093823Z"
    }
   },
   "source": [
    "# DO NOT DELETE THIS CELL!\n",
    "assert c3_ is not None, \"Store True/False!\"\n",
    "assert c3_ in [True, False], \"Invalid Answer!\""
   ],
   "outputs": [],
   "execution_count": 68
  },
  {
   "cell_type": "code",
   "metadata": {
    "deletable": false,
    "editable": false,
    "nbgrader": {
     "cell_type": "code",
     "checksum": "76b8a2b5ae58ac3b197cf14dd2734e9d",
     "grade": true,
     "grade_id": "d3",
     "locked": true,
     "points": 1,
     "schema_version": 3,
     "solution": false,
     "task": false
    },
    "ExecuteTime": {
     "end_time": "2024-11-07T16:27:41.301623Z",
     "start_time": "2024-11-07T16:27:41.298263Z"
    }
   },
   "source": [
    "# DO NOT DELETE THIS CELL!\n",
    "assert d3_ is not None, \"Store True/False!\"\n",
    "assert d3_ in [True, False], \"Invalid Answer!\""
   ],
   "outputs": [],
   "execution_count": 69
  },
  {
   "cell_type": "code",
   "metadata": {
    "deletable": false,
    "editable": false,
    "nbgrader": {
     "cell_type": "code",
     "checksum": "c066ffb7b3307b29e48d4cb910420efe",
     "grade": true,
     "grade_id": "e3",
     "locked": true,
     "points": 1,
     "schema_version": 3,
     "solution": false,
     "task": false
    },
    "ExecuteTime": {
     "end_time": "2024-11-07T16:27:41.440555Z",
     "start_time": "2024-11-07T16:27:41.436699Z"
    }
   },
   "source": [
    "# DO NOT DELETE THIS CELL!\n",
    "assert e3_ is not None, \"Store True/False!\"\n",
    "assert e3_ in [True, False], \"Invalid Answer!\""
   ],
   "outputs": [],
   "execution_count": 70
  },
  {
   "cell_type": "code",
   "metadata": {
    "deletable": false,
    "editable": false,
    "nbgrader": {
     "cell_type": "code",
     "checksum": "4de94ee3252e72a55551e94564c86ed7",
     "grade": true,
     "grade_id": "f3",
     "locked": true,
     "points": 1,
     "schema_version": 3,
     "solution": false,
     "task": false
    },
    "slideshow": {
     "slide_type": ""
    },
    "tags": [],
    "ExecuteTime": {
     "end_time": "2024-11-07T16:27:41.662002Z",
     "start_time": "2024-11-07T16:27:41.657345Z"
    }
   },
   "source": [
    "# DO NOT DELETE THIS CELL!\n",
    "assert f3_ is not None, \"Store True/False!\"\n",
    "assert f3_ in [True, False], \"Invalid Answer!\""
   ],
   "outputs": [],
   "execution_count": 71
  },
  {
   "cell_type": "markdown",
   "metadata": {
    "deletable": false,
    "editable": false,
    "nbgrader": {
     "cell_type": "markdown",
     "checksum": "f42c8248934410d237382b313403dd73",
     "grade": false,
     "grade_id": "cell-bfbb620f2f4ff1ff",
     "locked": true,
     "schema_version": 3,
     "solution": false,
     "task": false
    },
    "slideshow": {
     "slide_type": ""
    },
    "tags": []
   },
   "source": [
    "<h3 style=\"color:rgb(210,90,80)\">4.2 Code (15 points):</h3>"
   ]
  },
  {
   "cell_type": "code",
   "metadata": {
    "deletable": false,
    "editable": false,
    "nbgrader": {
     "cell_type": "code",
     "checksum": "42a5f438ba514e65f06f1f12d0c723f2",
     "grade": false,
     "grade_id": "cell-cff36f976da23d5a",
     "locked": true,
     "schema_version": 3,
     "solution": false,
     "task": false
    },
    "slideshow": {
     "slide_type": ""
    },
    "tags": [],
    "ExecuteTime": {
     "end_time": "2024-11-07T16:27:41.757876Z",
     "start_time": "2024-11-07T16:27:41.753596Z"
    }
   },
   "source": [
    "# Nothing to do here, just run the cell.\n",
    "def pol_reg_pred(X_train: np.ndarray, y_train: np.ndarray, x_test: np.ndarray, m: int, seed: int):\n",
    "    \"\"\"Train a polynomial regression model of specified degree and return predictions for test data.\n",
    "\n",
    "    This function fits a polynomial regression model to the provided training data `(X_train, y_train)`\n",
    "    with degree `m`, then uses this model to predict outputs for the test samples in `X_test`.\n",
    "\n",
    "    Parameters\n",
    "    ----------\n",
    "    X_train : (N,) np.ndarray\n",
    "        Vector of training samples.\n",
    "    y_train : (N,) np.ndarray\n",
    "        Vector of training labels.\n",
    "    x_test : np.ndarray\n",
    "        Vector of test samples for which predictions will be made.\n",
    "    m : int\n",
    "        Degree of the polynomial for regression.\n",
    "    seed : int\n",
    "        Seed for reproducibility.\n",
    "\n",
    "    Returns\n",
    "    -------\n",
    "    prediction : np.ndarray\n",
    "        Predictions for the `x_test` samples.\n",
    "    \"\"\"\n",
    "    np.random.seed(seed)\n",
    "    poly_reg = PolynomialFeatures(m)\n",
    "    X_poly_train = poly_reg.fit_transform(X_train.reshape(-1, 1))\n",
    "    X_poly_test= poly_reg.fit_transform(x_test.reshape(-1, 1))\n",
    "    \n",
    "    lin_reg = LinearRegression()\n",
    "    lin_reg.fit(X_poly_train, y_train)\n",
    "    y_pred = lin_reg.predict(X_poly_test)\n",
    "    \n",
    "    return y_pred"
   ],
   "outputs": [],
   "execution_count": 72
  },
  {
   "cell_type": "code",
   "metadata": {
    "deletable": false,
    "editable": true,
    "nbgrader": {
     "cell_type": "code",
     "checksum": "e848ae6699ff02760ba60593d1af6acc",
     "grade": false,
     "grade_id": "function_f",
     "locked": false,
     "schema_version": 3,
     "solution": true,
     "task": false
    },
    "slideshow": {
     "slide_type": ""
    },
    "tags": [],
    "ExecuteTime": {
     "end_time": "2024-11-07T16:27:41.906417Z",
     "start_time": "2024-11-07T16:27:41.902784Z"
    }
   },
   "source": [
    "def f(x: np.ndarray) -> np.ndarray:\n",
    "    \"\"\"Implementation of the polynomial from Question 4.1.\n",
    "    \n",
    "    Parameters\n",
    "    ----------\n",
    "    x : (N,) np.ndarray\n",
    "        The input of the function.\n",
    "\n",
    "    Returns\n",
    "    -------\n",
    "    output : (N,) np.ndarray\n",
    "        The output of the function.\n",
    "    \"\"\"\n",
    "    # YOUR CODE HERE\n",
    "    return 0.5 * x**4 + 2 * x**3 - 8 * x**2"
   ],
   "outputs": [],
   "execution_count": 73
  },
  {
   "cell_type": "code",
   "metadata": {
    "deletable": false,
    "editable": false,
    "nbgrader": {
     "cell_type": "code",
     "checksum": "e36e2c0a6caf56776cf35c5703c7761c",
     "grade": true,
     "grade_id": "function_f_test",
     "locked": true,
     "points": 3,
     "schema_version": 3,
     "solution": false,
     "task": false
    },
    "slideshow": {
     "slide_type": ""
    },
    "tags": [],
    "ExecuteTime": {
     "end_time": "2024-11-07T16:27:42.003060Z",
     "start_time": "2024-11-07T16:27:41.998926Z"
    }
   },
   "source": [
    "# DO NOT DELETE THIS CELL!\n",
    "x = np.array([0.5, 2, 3, -4])\n",
    "out = f(x)\n",
    "assert isinstance(out, np.ndarray), \"Output of function f is not a np.ndarray!\"\n",
    "assert out.shape == x.shape, \"Output of funcfion f has a wrong shape!\"\n",
    "np.testing.assert_array_equal(out, np.array([-1.71875, -8., 22.5, -128.]), 4)"
   ],
   "outputs": [],
   "execution_count": 74
  },
  {
   "cell_type": "code",
   "metadata": {
    "deletable": false,
    "editable": true,
    "nbgrader": {
     "cell_type": "code",
     "checksum": "5588cd98b121cb05f4f1e43479e6da6f",
     "grade": false,
     "grade_id": "create_X_train",
     "locked": false,
     "schema_version": 3,
     "solution": true,
     "task": false
    },
    "slideshow": {
     "slide_type": ""
    },
    "tags": [],
    "ExecuteTime": {
     "end_time": "2024-11-07T16:27:42.141133Z",
     "start_time": "2024-11-07T16:27:42.137079Z"
    }
   },
   "source": [
    "def create_X_train(S: int, N: int, x_min: float, x_max: float, seed: int) -> np.ndarray:\n",
    "    \"\"\"Generate `S` training sets, each containing `M` samples, within a specified interval.\n",
    "    The function creates an array of shape (S, N) where each element is a sample drawn uniformly from the interval [`x_min`, `x_max`].\n",
    "    \n",
    "    Important: Use the function `np.random.uniform` to generate the data and `np.random.seed` to set the seed before generating the data!\n",
    "\n",
    "    Parameters\n",
    "    ----------\n",
    "    S : int\n",
    "        Number of training sets to create.\n",
    "    N : int\n",
    "        Number of samples per training set.\n",
    "    x_min : float\n",
    "        Lower bound of the sampling interval.\n",
    "    x_max : float\n",
    "        Upper bound of the sampling interval.\n",
    "    seed : int\n",
    "        Seed for reproducibility.\n",
    "\n",
    "    Returns\n",
    "    -------\n",
    "    X_train : (S, N) np.ndarray\n",
    "        A np.ndarray containing the generated sets of samples.\n",
    "    \"\"\"\n",
    "    # YOUR CODE HERE\n",
    "    np.random.seed(seed)\n",
    "    X_train = np.random.uniform(x_min, x_max, size=(S, N))\n",
    "    return X_train"
   ],
   "outputs": [],
   "execution_count": 75
  },
  {
   "cell_type": "code",
   "metadata": {
    "deletable": false,
    "editable": false,
    "nbgrader": {
     "cell_type": "code",
     "checksum": "1d40eaa45088b558bb1d10a1249f4e99",
     "grade": true,
     "grade_id": "create_X_train_test",
     "locked": true,
     "points": 3,
     "schema_version": 3,
     "solution": false,
     "task": false
    },
    "slideshow": {
     "slide_type": ""
    },
    "tags": [],
    "ExecuteTime": {
     "end_time": "2024-11-07T16:27:42.186759Z",
     "start_time": "2024-11-07T16:27:42.181971Z"
    }
   },
   "source": [
    "# DO NOT DELETE THIS CELL!\n",
    "S = 300\n",
    "N = 25\n",
    "x_min = -1\n",
    "x_max = 3\n",
    "seed = 66\n",
    "\n",
    "X_train = create_X_train(S, N, x_min, x_max, seed)\n",
    "assert isinstance(X_train, np.ndarray), \"X_train is not a np.ndarray!\"\n",
    "assert X_train.shape == (S, N), \"The output shape of X_train is incorrect!\""
   ],
   "outputs": [],
   "execution_count": 76
  },
  {
   "cell_type": "code",
   "metadata": {
    "deletable": false,
    "editable": true,
    "nbgrader": {
     "cell_type": "code",
     "checksum": "0610e56611a83132f370a5848552d5bf",
     "grade": false,
     "grade_id": "create_y_train",
     "locked": false,
     "schema_version": 3,
     "solution": true,
     "task": false
    },
    "slideshow": {
     "slide_type": ""
    },
    "tags": [],
    "ExecuteTime": {
     "end_time": "2024-11-07T16:27:42.312494Z",
     "start_time": "2024-11-07T16:27:42.306573Z"
    }
   },
   "source": [
    "def create_y_train(X_train: np.ndarray, mu: float, std: float, f: callable, seed: int) -> np.ndarray:\n",
    "    \"\"\"Generate labels from training data using a function `f` with added Gaussian noise.\n",
    "\n",
    "    This function applies `f` to the training set `X_train` to generate labels, then adds \n",
    "    Gaussian noise with specified mean `mu` and standard deviation `std` to each label. \n",
    "    A seed is used for reproducibility.\n",
    "\n",
    "    Important: Use `np.random.seed` to set the seed and np.random.normal for the Gaussian noise!\n",
    "\n",
    "    Parameters\n",
    "    ----------\n",
    "    X_train : (S, N) np.ndarray\n",
    "        The training data set to which the function `f` will be applied.\n",
    "    mu : float\n",
    "        Mean of the Gaussian noise.\n",
    "    std : float\n",
    "        Standard deviation of the Gaussian noise.\n",
    "    f : callable\n",
    "        A function to apply to `X_train` to generate labels.\n",
    "    seed : int\n",
    "        Random seed for reproducibility.\n",
    "\n",
    "    Returns\n",
    "    -------\n",
    "    y_train : (S, N) np.ndarray\n",
    "        An array containing the generated labels with added noise.\n",
    "    \"\"\"\n",
    "    # YOUR CODE HERE\n",
    "    np.random.seed(seed)\n",
    "    y_train = f(X_train) + np.random.normal(mu, std, size=X_train.shape)\n",
    "    return y_train"
   ],
   "outputs": [],
   "execution_count": 77
  },
  {
   "cell_type": "code",
   "metadata": {
    "deletable": false,
    "editable": false,
    "nbgrader": {
     "cell_type": "code",
     "checksum": "51f47db386ae39bbb8eefc7237d852d9",
     "grade": true,
     "grade_id": "create_y_train_test",
     "locked": true,
     "points": 3,
     "schema_version": 3,
     "solution": false,
     "task": false
    },
    "slideshow": {
     "slide_type": ""
    },
    "tags": [],
    "ExecuteTime": {
     "end_time": "2024-11-07T16:27:42.371455Z",
     "start_time": "2024-11-07T16:27:42.365702Z"
    }
   },
   "source": [
    "# DO NOT DELETE THIS CELL!\n",
    "seed = 66\n",
    "mu = 0\n",
    "std = 2\n",
    "ref_X_train = np.arange(10).reshape(2, -1)\n",
    "\n",
    "ref_y_train = create_y_train(ref_X_train, mu, std, lambda x: x**2, seed)\n",
    "assert isinstance(ref_y_train, np.ndarray), \"y_train is not a np.ndarray!\"\n",
    "assert ref_y_train.shape == ref_X_train.shape, \"y_train has a wrong shape!\"\n",
    "np.testing.assert_array_almost_equal(ref_y_train, np.array([[2.83122873, -1.1705728, 2.76738393, 7.48616765, 16.69409546], [28.11298221, 30.08730288, 51.71816136, 65.29669358, 81.57205749]]), 4)"
   ],
   "outputs": [],
   "execution_count": 78
  },
  {
   "cell_type": "code",
   "metadata": {
    "deletable": false,
    "editable": true,
    "nbgrader": {
     "cell_type": "code",
     "checksum": "8bba499c5f3b546f73932a6e29eb52d8",
     "grade": false,
     "grade_id": "bias_var",
     "locked": false,
     "schema_version": 3,
     "solution": true,
     "task": false
    },
    "slideshow": {
     "slide_type": ""
    },
    "tags": [],
    "ExecuteTime": {
     "end_time": "2024-11-07T16:27:42.496139Z",
     "start_time": "2024-11-07T16:27:42.488195Z"
    }
   },
   "source": [
    "def bias_var(X_train: np.ndarray, y_train: np.ndarray, x_test: np.ndarray, M: int, f: callable, seed: int) -> tuple[np.ndarray, np.ndarray]: \n",
    "    \"\"\"Compute model bias and variance for polynomial regression models of varying degrees.\n",
    "\n",
    "    This function estimates the squared bias and variance of polynomial regression models\n",
    "    of degrees ranging from 1 to `M` by sampling training sets, fitting each model, \n",
    "    and evaluating each at a specified test set `x_test`.\n",
    "\n",
    "    Important: Pass the seed to `pol_reg_pred` and use this function \n",
    "    for computing the predictions of the polynomial regression models!\n",
    "\n",
    "    Parameters\n",
    "    ----------\n",
    "    X_train : (S, N) np.ndarray\n",
    "        Array of training data sets, where each element is an array of samples.\n",
    "    y_train : (S, N) np.ndarray\n",
    "        Array of training label sets, where each element is an array of labels.\n",
    "    x_test : np.ndarray\n",
    "        A 1D test data set.\n",
    "    M : int\n",
    "        The maximum polynomial degree to evaluate.\n",
    "    f : callable\n",
    "        The true function to compare the predictions against.\n",
    "    seed : int\n",
    "        Random seed for reproducibility.\n",
    "\n",
    "    Returns\n",
    "    -------\n",
    "    tuple of np.ndarray\n",
    "        - sqbias : (M,) np.ndarray\n",
    "            Array of squared bias values for polynomial degrees from 1 to `M`.\n",
    "        - variance : (M,) np.ndarray\n",
    "            Array of variance values for polynomial degrees from 1 to `M`.\n",
    "    \"\"\"\n",
    "    S = X_train.shape[0]  # Number of training sets\n",
    "    sqbias = np.zeros(M)\n",
    "    variance = np.zeros(M)\n",
    "    \n",
    "    # Store predictions across training sets for each degree\n",
    "    for m in range(1, M + 1):\n",
    "        # Collect predictions for each training set with the given degree m\n",
    "        preds = np.array([pol_reg_pred(X_train[i], y_train[i], x_test, m, seed) for i in range(S)])\n",
    "        \n",
    "        # Expected prediction (mean of predictions across S training sets)\n",
    "        expected_pred = np.mean(preds, axis=0)\n",
    "        \n",
    "        # True function values at x_test\n",
    "        true_vals = f(x_test)\n",
    "        \n",
    "        # Calculate squared bias\n",
    "        sqbias[m - 1] = np.mean((expected_pred - true_vals) ** 2)\n",
    "        \n",
    "        # Calculate variance\n",
    "        variance[m - 1] = np.mean(np.var(preds, axis=0))\n",
    "    \n",
    "    return sqbias, variance"
   ],
   "outputs": [],
   "execution_count": 79
  },
  {
   "cell_type": "code",
   "metadata": {
    "deletable": false,
    "editable": false,
    "nbgrader": {
     "cell_type": "code",
     "checksum": "bbfa80e7dab9d9a888f34a82aaf5ee67",
     "grade": true,
     "grade_id": "bias_var_test_bias",
     "locked": true,
     "points": 3,
     "schema_version": 3,
     "solution": false,
     "task": false
    },
    "slideshow": {
     "slide_type": ""
    },
    "tags": [],
    "ExecuteTime": {
     "end_time": "2024-11-07T16:27:42.669893Z",
     "start_time": "2024-11-07T16:27:42.621333Z"
    }
   },
   "source": [
    "# DO NOT DELETE THIS CELL!\n",
    "seed = 66\n",
    "M = 11\n",
    "ref_X_train = np.arange(10).reshape(2, -1)\n",
    "ref_y_train = np.arange(10, 20).reshape(2, -1)\n",
    "ref_x_test = np.arange(5)\n",
    "\n",
    "ref_sqbias, _ = bias_var(ref_X_train, ref_y_train, ref_x_test, M, lambda x: x**2, seed)\n",
    "assert isinstance(ref_sqbias, np.ndarray), \"The returned squared bias is not a np.ndarray!\"\n",
    "assert ref_sqbias.shape == (M,), \"The returned squared bias has a wrong shape!\"\n",
    "np.testing.assert_array_almost_equal(ref_sqbias, np.array([56.8, 56.8, 56.8, 56.8, 60.8229, 64.8283, 68.2727, 71.0926, 73.3658, 75.1944, 76.6702]), 4)"
   ],
   "outputs": [],
   "execution_count": 80
  },
  {
   "cell_type": "code",
   "metadata": {
    "deletable": false,
    "editable": false,
    "nbgrader": {
     "cell_type": "code",
     "checksum": "289252fdb1e84b0ccf5e6f64cc3bb392",
     "grade": true,
     "grade_id": "bias_var_test_var",
     "locked": true,
     "points": 3,
     "schema_version": 3,
     "solution": false,
     "task": false
    },
    "slideshow": {
     "slide_type": ""
    },
    "tags": [],
    "ExecuteTime": {
     "end_time": "2024-11-07T16:27:42.763676Z",
     "start_time": "2024-11-07T16:27:42.721751Z"
    }
   },
   "source": [
    "# DO NOT DELETE THIS CELL!\n",
    "seed = 66\n",
    "M = 11\n",
    "ref_X_train = np.arange(10).reshape(2, -1)\n",
    "ref_y_train = np.arange(10, 20).reshape(2, -1)\n",
    "ref_x_test = np.arange(5)\n",
    "\n",
    "_, ref_var = bias_var(ref_X_train, ref_y_train, ref_x_test, M, lambda x: x**2, seed)\n",
    "assert isinstance(ref_var, np.ndarray), \"The returned variance is not a np.ndarray!\"\n",
    "assert ref_var.shape == (M,), \"The returned variance has a wrong shape!\"\n",
    "np.testing.assert_array_almost_equal(ref_var, np.array([0.0000e+00, 2.5244e-30, 6.2031e-25, 4.5267e-22, 9.3123e-02, 3.1799e-01, 5.9439e-01, 8.7445e-01, 1.1357e+00, 1.3697e+00, 1.5748e+00]), 4)"
   ],
   "outputs": [],
   "execution_count": 81
  },
  {
   "cell_type": "code",
   "metadata": {
    "deletable": false,
    "editable": false,
    "nbgrader": {
     "cell_type": "code",
     "checksum": "6a7ba25ccb97231bfb6b2f4cd099248e",
     "grade": false,
     "grade_id": "cell-61726ec0d81fc143",
     "locked": true,
     "schema_version": 3,
     "solution": false,
     "task": false
    },
    "slideshow": {
     "slide_type": ""
    },
    "tags": [],
    "ExecuteTime": {
     "end_time": "2024-11-07T16:27:49.314848Z",
     "start_time": "2024-11-07T16:27:42.784686Z"
    }
   },
   "source": [
    "# Nothing to do here, just run the cell.\n",
    "seed = 12\n",
    "S = 300\n",
    "N = 25\n",
    "M = 11\n",
    "x_min = -1\n",
    "x_max = 3\n",
    "mu = 0\n",
    "sigma_squared = 4\n",
    "std = np.sqrt(sigma_squared)\n",
    "x_test = np.array([1.7])\n",
    "\n",
    "X_train = create_X_train(S,N,x_min,x_max,seed)\n",
    "y_train = create_y_train(X_train,mu,std,f,seed)\n",
    "sqbias, variance = bias_var(X_train,y_train,x_test,M,f,seed)\n",
    "print(\"Shapes of X and y: \\n\",X_train.shape,y_train.shape)\n",
    "print(\"\\nSquared Bias over m: \\n\", sqbias)\n",
    "print(\"\\nVariance over m: \\n\", variance)"
   ],
   "outputs": [
    {
     "name": "stdout",
     "output_type": "stream",
     "text": [
      "Shapes of X and y: \n",
      " (300, 25) (300, 25)\n",
      "\n",
      "Squared Bias over m: \n",
      " [5.50461692e+01 2.58892159e+01 6.39322745e-03 1.51847647e-06\n",
      " 8.31015750e-05 3.52859200e-03 9.14787903e-03 1.74217969e-03\n",
      " 1.61017488e-02 1.01851959e-03 4.57567286e-02]\n",
      "\n",
      "Variance over m: \n",
      " [ 4.43612857  2.30715582  0.6861143   0.72331817  1.03163253  1.28427733\n",
      "  1.79658367  2.78252631  2.84032616  6.33845148 19.35307884]\n"
     ]
    }
   ],
   "execution_count": 82
  },
  {
   "cell_type": "markdown",
   "metadata": {
    "deletable": false,
    "editable": false,
    "nbgrader": {
     "cell_type": "markdown",
     "checksum": "f66a465d922aad42ab939be5ba16bfab",
     "grade": false,
     "grade_id": "cell-17488274aef16e18",
     "locked": true,
     "schema_version": 3,
     "solution": false,
     "task": false
    },
    "slideshow": {
     "slide_type": ""
    },
    "tags": []
   },
   "source": [
    "<h3 style=\"color:rgb(210,90,80)\">Plot 4.3 (5 Points):</h3>"
   ]
  },
  {
   "cell_type": "code",
   "metadata": {
    "deletable": false,
    "editable": false,
    "nbgrader": {
     "cell_type": "code",
     "checksum": "e59f390069fad069398b2441e1f9f9ae",
     "grade": false,
     "grade_id": "cell-2c849bc5ca778316",
     "locked": true,
     "schema_version": 3,
     "solution": false,
     "task": false
    },
    "slideshow": {
     "slide_type": ""
    },
    "tags": [],
    "ExecuteTime": {
     "end_time": "2024-11-07T16:27:49.322121Z",
     "start_time": "2024-11-07T16:27:49.318331Z"
    }
   },
   "source": [
    "# Nothing to do here, just run the cell.\n",
    "x_test = np.arange(x_min, x_max, 0.01)"
   ],
   "outputs": [],
   "execution_count": 83
  },
  {
   "cell_type": "code",
   "metadata": {
    "deletable": false,
    "editable": true,
    "nbgrader": {
     "cell_type": "code",
     "checksum": "275e2840cd43326e0b25fae84fc86b59",
     "grade": true,
     "grade_id": "plot_4_3_regression",
     "locked": false,
     "points": 5,
     "schema_version": 3,
     "solution": true,
     "task": false
    },
    "slideshow": {
     "slide_type": ""
    },
    "tags": [],
    "ExecuteTime": {
     "end_time": "2024-11-07T16:27:49.330718Z",
     "start_time": "2024-11-07T16:27:49.324170Z"
    }
   },
   "source": [
    "def plot_regression(X_train: np.ndarray, y_train: np.ndarray, x_test: np.ndarray, seed: int):\n",
    "    \"\"\"\n",
    "    Creates a plot for the first set of training data and the corresponding regression models with m = {1, 4, 11}.\n",
    "    \n",
    "    Parameters\n",
    "    ----------\n",
    "    X_train : (S, N) np.ndarray\n",
    "        Sets of training data.\n",
    "    y_train : (S, N) np.ndarray\n",
    "        Sets of training labels.\n",
    "    x_test : np.ndarray\n",
    "        Vector of test data.\n",
    "    seed : int\n",
    "        Random seed for reproducibility in the `pol_reg_pred` function.\n",
    "    \"\"\"\n",
    "    \n",
    "    X_train_0 = X_train[0]\n",
    "    y_train_0 = y_train[0]\n",
    "    \n",
    "    degrees = [1, 4, 11]\n",
    "    \n",
    "    plt.scatter(X_train_0, y_train_0, color='black', label='Training data')\n",
    "    \n",
    "    for m in degrees:\n",
    "        y_pred = pol_reg_pred(X_train_0, y_train_0, x_test, m, seed)\n",
    "        plt.plot(x_test, y_pred, label=f'm = {m}')\n",
    "    \n",
    "    plt.xlabel('x')\n",
    "    plt.ylabel('y')\n",
    "    plt.title('Polynomial Regression Models for Different Degrees')\n",
    "    plt.legend()\n",
    "    plt.show()\n"
   ],
   "outputs": [],
   "execution_count": 84
  },
  {
   "cell_type": "code",
   "metadata": {
    "deletable": false,
    "editable": false,
    "nbgrader": {
     "cell_type": "code",
     "checksum": "92f3bd46e011dbc9e8dde989c39e2fc2",
     "grade": false,
     "grade_id": "cell-f0db9189d5342c55",
     "locked": true,
     "schema_version": 3,
     "solution": false,
     "task": false
    },
    "slideshow": {
     "slide_type": ""
    },
    "tags": [],
    "ExecuteTime": {
     "end_time": "2024-11-07T16:27:49.639698Z",
     "start_time": "2024-11-07T16:27:49.334313Z"
    }
   },
   "source": [
    "# Nothing to do here, just run the cell.\n",
    "plot_regression(X_train, y_train, x_test, seed)"
   ],
   "outputs": [
    {
     "data": {
      "text/plain": [
       "<Figure size 640x480 with 1 Axes>"
      ],
      "image/png": "[encoded data removed]"
     },
     "metadata": {},
     "output_type": "display_data"
    }
   ],
   "execution_count": 85
  },
  {
   "cell_type": "markdown",
   "metadata": {
    "deletable": false,
    "editable": false,
    "nbgrader": {
     "cell_type": "markdown",
     "checksum": "262736af83eab9beee7b0281ab9df7a3",
     "grade": false,
     "grade_id": "cell-9b0d771decb2713f",
     "locked": true,
     "schema_version": 3,
     "solution": false,
     "task": false
    },
    "slideshow": {
     "slide_type": ""
    },
    "tags": []
   },
   "source": [
    "<h3 style=\"color:rgb(210,90,80)\">Plot 4.4 (5 Points):</h3>"
   ]
  },
  {
   "cell_type": "code",
   "metadata": {
    "deletable": false,
    "editable": true,
    "nbgrader": {
     "cell_type": "code",
     "checksum": "f6e871ed6e61dda4680ac7b9929cd308",
     "grade": true,
     "grade_id": "plot_4_4",
     "locked": false,
     "points": 5,
     "schema_version": 3,
     "solution": true,
     "task": false
    },
    "slideshow": {
     "slide_type": ""
    },
    "tags": [],
    "ExecuteTime": {
     "end_time": "2024-11-07T16:27:49.648414Z",
     "start_time": "2024-11-07T16:27:49.641484Z"
    }
   },
   "source": [
    "def plot_combination(M: int, sigma: float, bias: np.ndarray, var: np.ndarray):\n",
    "    \"\"\"Creates a plot for the unavoidable error, bias, variance, and Expected Prediction Error (EPE) versus polynomial degree `m` in the range [1, M].\n",
    "\n",
    "    Parameters\n",
    "    ----------\n",
    "    M : int\n",
    "        The maximum polynomial degree for which to plot the error components, with `m` ranging from 1 to `M`.\n",
    "    sigma : float\n",
    "        The unavoidable error level, representing noise in the data.\n",
    "    bias : np.ndarray\n",
    "        Array of squared bias values for polynomial degrees in [1, M].\n",
    "    var : np.ndarray\n",
    "        Array of variance values for polynomial degrees in [1, M].\n",
    "    \"\"\"\n",
    "    # YOUR CODE HERE\n",
    "    # Polynomial degrees ranging from 1 to M\n",
    "    degrees = np.arange(1, M + 1)\n",
    "    \n",
    "    # Compute EPE as the sum of unavoidable error, bias, and variance\n",
    "    unavoidable_error = np.full_like(degrees, sigma**2)\n",
    "    epe = unavoidable_error + bias + var\n",
    "    \n",
    "    # Plot the components\n",
    "    plt.figure(figsize=(10, 6))\n",
    "    plt.plot(degrees, unavoidable_error, label=\"Unavoidable Error (Noise)\", color=\"gray\", linestyle=\"--\")\n",
    "    plt.plot(degrees, bias, label=\"Bias^2\", color=\"blue\")\n",
    "    plt.plot(degrees, var, label=\"Variance\", color=\"orange\")\n",
    "    plt.plot(degrees, epe, label=\"Expected Prediction Error (EPE)\", color=\"red\")\n",
    "    \n",
    "    # Set plot details\n",
    "    plt.xlabel(\"Polynomial Degree (m)\")\n",
    "    plt.ylabel(\"Error\")\n",
    "    plt.title(\"Bias-Variance Decomposition and EPE vs. Polynomial Degree\")\n",
    "    plt.legend()\n",
    "    plt.grid(True)\n",
    "    plt.show()"
   ],
   "outputs": [],
   "execution_count": 86
  },
  {
   "cell_type": "code",
   "metadata": {
    "deletable": false,
    "editable": false,
    "nbgrader": {
     "cell_type": "code",
     "checksum": "0d488380700de68ed8925d86d7dc1cfe",
     "grade": false,
     "grade_id": "cell-b845d7336594aed3",
     "locked": true,
     "schema_version": 3,
     "solution": false,
     "task": false
    },
    "slideshow": {
     "slide_type": ""
    },
    "tags": [],
    "ExecuteTime": {
     "end_time": "2024-11-07T16:27:49.926605Z",
     "start_time": "2024-11-07T16:27:49.650284Z"
    }
   },
   "source": [
    "# Nothing to do here, just run the cell.\n",
    "plot_combination(M, sigma_squared, sqbias, variance)"
   ],
   "outputs": [
    {
     "data": {
      "text/plain": [
       "<Figure size 1000x600 with 1 Axes>"
      ],
      "image/png": "[encoded data removed]"
     },
     "metadata": {},
     "output_type": "display_data"
    }
   ],
   "execution_count": 87
  },
  {
   "attachments": {
    "9de352ae-f814-439f-880b-6f51a3830d56.png": {
     "image/png": "[encoded data removed]"
    }
   },
   "cell_type": "markdown",
   "metadata": {
    "deletable": false,
    "editable": false,
    "nbgrader": {
     "cell_type": "markdown",
     "checksum": "c6b879332511d139d6e52c94ae7216d2",
     "grade": false,
     "grade_id": "cell-e702a252ff85817a",
     "locked": true,
     "schema_version": 3,
     "solution": false,
     "task": false
    },
    "slideshow": {
     "slide_type": ""
    },
    "tags": []
   },
   "source": [
    "<h3 style=\"color:rgb(210,90,80)\">Question 4.4 (5 Points):</h3>\n",
    "\n",
    "If you did the previous task correctly, the resulting plot should have many similarities or should be identical to the following plot:\n",
    "\n",
    "![combined.png](attachment:9de352ae-f814-439f-880b-6f51a3830d56.png)\n",
    "\n",
    "***What observations can you make from this plot? Answer which of the following statements are correct (several may be correct):***\n",
    "\n",
    "a4_) The variance is low for models which are too complex, i.e. $m \\leq 2$. <br>\n",
    "b4_) For appropriate complexity, i.e. $3 \\leq m \\leq 6$, both model variance and bias are low, which can indicate good generalization abilities.<br>\n",
    "c4_) As the model becomes too complex, i.e. $m \\geq 9$, the variance increases again while the bias stays low. This is an indication for overfitting.<br>\n",
    "d4_) For models with $m \\geq 9$, the variance is high (i.e. significantly larger than $0$) because the independent noise has zero mean and high individual biases cancel in expectation. <br>\n",
    "e4_) For models with $m \\geq 9$, the bias is still low (i.e. close to $0$) because the independent noise has zero mean and high individual biases cancel in expectation. <br>\n",
    "\n",
    "To answer the question, assign \"True\" or \"False\" boolean values to variables in the next cell. For example, if you think that **a4_)** is correct, define a variable `a4_` and set it to `True`, the same applies to **b4_)** and the other statements. A non-correctly answered statement as well as no answer (i.e. answer “None”) yields 0 points for a specific statement.<br>\n",
    "<b>Note:</b> Do not reuse these variable names. They are used for testing."
   ]
  },
  {
   "cell_type": "code",
   "metadata": {
    "deletable": false,
    "editable": true,
    "nbgrader": {
     "cell_type": "code",
     "checksum": "3dc1c6927e809388cffb21856b7cba1d",
     "grade": false,
     "grade_id": "question_4_4",
     "locked": false,
     "schema_version": 3,
     "solution": true,
     "task": false
    },
    "slideshow": {
     "slide_type": ""
    },
    "tags": [],
    "ExecuteTime": {
     "end_time": "2024-11-07T16:27:49.934106Z",
     "start_time": "2024-11-07T16:27:49.929703Z"
    }
   },
   "source": [
    "# YOUR CODE HERE\n",
    "a4_ = False\n",
    "b4_ = True\n",
    "c4_ = True\n",
    "d4_ = True\n",
    "e4_ = True"
   ],
   "outputs": [],
   "execution_count": 88
  },
  {
   "cell_type": "code",
   "metadata": {
    "deletable": false,
    "editable": false,
    "nbgrader": {
     "cell_type": "code",
     "checksum": "f7ed2bc2676ec18cdab1a2a6233b5769",
     "grade": true,
     "grade_id": "a4",
     "locked": true,
     "points": 1,
     "schema_version": 3,
     "solution": false,
     "task": false
    },
    "slideshow": {
     "slide_type": ""
    },
    "tags": [],
    "ExecuteTime": {
     "end_time": "2024-11-07T16:27:49.938806Z",
     "start_time": "2024-11-07T16:27:49.935682Z"
    }
   },
   "source": [
    "# DO NOT DELETE THIS CELL!\n",
    "assert a4_ is not None, \"Store True/False!\"\n",
    "assert a4_ in [True, False], \"Invalid Answer!\""
   ],
   "outputs": [],
   "execution_count": 89
  },
  {
   "cell_type": "code",
   "metadata": {
    "deletable": false,
    "editable": false,
    "nbgrader": {
     "cell_type": "code",
     "checksum": "733b97cff192949cb94403509f0e780f",
     "grade": true,
     "grade_id": "b4",
     "locked": true,
     "points": 1,
     "schema_version": 3,
     "solution": false,
     "task": false
    },
    "slideshow": {
     "slide_type": ""
    },
    "tags": [],
    "ExecuteTime": {
     "end_time": "2024-11-07T16:27:49.945766Z",
     "start_time": "2024-11-07T16:27:49.940862Z"
    }
   },
   "source": [
    "# DO NOT DELETE THIS CELL!\n",
    "assert b4_ is not None, \"Store True/False!\"\n",
    "assert b4_ in [True, False], \"Invalid Answer!\""
   ],
   "outputs": [],
   "execution_count": 90
  },
  {
   "cell_type": "code",
   "metadata": {
    "deletable": false,
    "editable": false,
    "nbgrader": {
     "cell_type": "code",
     "checksum": "1eeac874ac90348dcdbe4fbd8b52cf7b",
     "grade": true,
     "grade_id": "c4",
     "locked": true,
     "points": 1,
     "schema_version": 3,
     "solution": false,
     "task": false
    },
    "slideshow": {
     "slide_type": ""
    },
    "tags": [],
    "ExecuteTime": {
     "end_time": "2024-11-07T16:27:49.954659Z",
     "start_time": "2024-11-07T16:27:49.951582Z"
    }
   },
   "source": [
    "# DO NOT DELETE THIS CELL!\n",
    "assert c4_ is not None, \"Store True/False!\"\n",
    "assert c4_ in [True, False], \"Invalid Answer!\""
   ],
   "outputs": [],
   "execution_count": 91
  },
  {
   "cell_type": "code",
   "metadata": {
    "deletable": false,
    "editable": false,
    "nbgrader": {
     "cell_type": "code",
     "checksum": "729ebed3a0211b8038e7b645581111b6",
     "grade": true,
     "grade_id": "d4",
     "locked": true,
     "points": 1,
     "schema_version": 3,
     "solution": false,
     "task": false
    },
    "slideshow": {
     "slide_type": ""
    },
    "tags": [],
    "ExecuteTime": {
     "end_time": "2024-11-07T16:27:49.960037Z",
     "start_time": "2024-11-07T16:27:49.956434Z"
    }
   },
   "source": [
    "# DO NOT DELETE THIS CELL!\n",
    "assert d4_ is not None, \"Store True/False!\"\n",
    "assert d4_ in [True, False], \"Invalid Answer!\""
   ],
   "outputs": [],
   "execution_count": 92
  },
  {
   "cell_type": "code",
   "metadata": {
    "deletable": false,
    "editable": false,
    "nbgrader": {
     "cell_type": "code",
     "checksum": "8bc08709723b293953a1cac4c505a1e0",
     "grade": true,
     "grade_id": "e4",
     "locked": true,
     "points": 1,
     "schema_version": 3,
     "solution": false,
     "task": false
    },
    "slideshow": {
     "slide_type": ""
    },
    "tags": [],
    "ExecuteTime": {
     "end_time": "2024-11-07T16:27:49.967420Z",
     "start_time": "2024-11-07T16:27:49.962679Z"
    }
   },
   "source": [
    "# DO NOT DELETE THIS CELL!\n",
    "assert e4_ is not None, \"Store True/False!\"\n",
    "assert e4_ in [True, False], \"Invalid Answer!\""
   ],
   "outputs": [],
   "execution_count": 93
  },
  {
   "cell_type": "markdown",
   "metadata": {
    "deletable": false,
    "editable": false,
    "nbgrader": {
     "cell_type": "markdown",
     "checksum": "df928f98b9ac9ed83d976f308062e8cf",
     "grade": false,
     "grade_id": "cell-2dad1cd2ad99364e",
     "locked": true,
     "schema_version": 3,
     "solution": false,
     "task": false
    },
    "slideshow": {
     "slide_type": ""
    },
    "tags": []
   },
   "source": [
    "<h2 style=\"color:rgb(0,120,170)\">Task 5: Evaluation metrics for imbalanced data sets</h2>"
   ]
  },
  {
   "cell_type": "markdown",
   "metadata": {
    "deletable": false,
    "editable": false,
    "nbgrader": {
     "cell_type": "markdown",
     "checksum": "92b622b1efaae748a8ac1b6793a3dfde",
     "grade": false,
     "grade_id": "cell-3a8efb7ad8635c5f",
     "locked": true,
     "schema_version": 3,
     "solution": false,
     "task": false
    },
    "slideshow": {
     "slide_type": ""
    },
    "tags": []
   },
   "source": [
    "Consider a classifier with discriminant function $\\bar g$.\n",
    "For a given labeled data set, the following results are obtained:\n",
    "$$\\begin{array}{|r|r|}\n",
    "\\hline\n",
    "y & \\bar g(x)\\\\\n",
    "\\hline \\hline\n",
    " +1 & 0.93 \\\\\n",
    " +1 & 0.51 \\\\\n",
    " -1 & 0.48 \\\\\n",
    " -1 & 0.13 \\\\\n",
    " +1 & 0.02 \\\\\n",
    " -1 & -0.11 \\\\\n",
    " -1 & -0.25 \\\\\n",
    " -1 & -0.37 \\\\\n",
    " +1 & -0.41 \\\\\n",
    " -1 & -1.68 \\\\\n",
    " +1 & -2.23 \\\\\n",
    " +1 & -3.41 \\\\\n",
    "\\hline\n",
    "\\end{array}$$\n",
    "\n",
    "* **Code 5.1**:\n",
    "  * Compute the confusion matrix using the usual $\\theta = 0$ threshold.\n",
    "  * Complete the function `evaluation_metrics` to calculate the following evaluation measures: TPR, TNR, FPR, FNR, ACC, BACC, PREC, and $F_1$.\n",
    "\n",
    "Let's say we have a population of 1000 people and we know that 50 are infected with the corona virus.\n",
    "* **Code 5.2**: Assume that the population is tested with an assay that has a certain specificity and sensitivity.\n",
    "\n",
    "  * (1) What is the probability $p_1$ that a person is *not* infected if they are diagnosed as ill by the test? <br>\n",
    "  * (2) What is the probability $p_2$ that a person is infected if they are diagnosed as healthy by the test?\n",
    "\n",
    "Write a function that returns both values. Then check your calculation using specificity of $90 \\%$ and sensitivity of $95 \\%$.\n",
    "\n",
    "**Important**: Round your result to 4 decimal points, i.e. 0.9871 if it is 98.71%."
   ]
  },
  {
   "cell_type": "markdown",
   "metadata": {
    "editable": true,
    "slideshow": {
     "slide_type": ""
    },
    "tags": []
   },
   "source": [
    "<h3 style=\"color:rgb(210,90,80)\">Code 5.1 (8 Points):</h3>"
   ]
  },
  {
   "cell_type": "markdown",
   "metadata": {
    "deletable": false,
    "editable": false,
    "nbgrader": {
     "cell_type": "markdown",
     "checksum": "dec06335864001ed92369e057440d367",
     "grade": false,
     "grade_id": "cell-04867d35a514fc4b",
     "locked": true,
     "schema_version": 3,
     "solution": false,
     "task": false
    },
    "slideshow": {
     "slide_type": ""
    },
    "tags": []
   },
   "source": [
    "* <b>Reminder:</b> Confusion Matrix structure:\n",
    "\n",
    "$$\n",
    "\\begin{array}{|c|c|c|}\n",
    "\\hline\n",
    " & g(x)=+1  & g(x)=-1\\\\\n",
    " \\hline\n",
    " y=+1 & \\text{TP}  & \\text{FN} \\\\\n",
    " \\hline\n",
    " y=-1 & \\text{FP} & \\text{TN} \\\\\n",
    "\\hline\n",
    "\\end{array}\n",
    "$$\n",
    "\n",
    "Define 4 variables `TP_`, `FN_`, `FP_` and `TN_` and assign the correct number assuming the usual $\\theta = 0$ threshold."
   ]
  },
  {
   "cell_type": "code",
   "metadata": {
    "deletable": false,
    "editable": true,
    "nbgrader": {
     "cell_type": "code",
     "checksum": "d65183a3ea14d5e94f3f1b8dc7feda3b",
     "grade": false,
     "grade_id": "confusion_matrix",
     "locked": false,
     "schema_version": 3,
     "solution": true,
     "task": false
    },
    "slideshow": {
     "slide_type": ""
    },
    "tags": [],
    "ExecuteTime": {
     "end_time": "2024-11-07T16:27:49.972365Z",
     "start_time": "2024-11-07T16:27:49.969264Z"
    }
   },
   "source": [
    "# YOUR CODE HERE\n",
    "TP_ = 3\n",
    "FN_ = 3\n",
    "FP_ = 2\n",
    "TN_ = 4"
   ],
   "outputs": [],
   "execution_count": 94
  },
  {
   "cell_type": "code",
   "metadata": {
    "deletable": false,
    "editable": false,
    "nbgrader": {
     "cell_type": "code",
     "checksum": "98708d03a948d019d993254f1ec823d1",
     "grade": true,
     "grade_id": "tp",
     "locked": true,
     "points": 1,
     "schema_version": 3,
     "solution": false,
     "task": false
    },
    "ExecuteTime": {
     "end_time": "2024-11-07T16:27:49.979363Z",
     "start_time": "2024-11-07T16:27:49.974782Z"
    }
   },
   "source": [
    "# DO NOT DELETE THIS CELL!\n",
    "assert isinstance(TP_, int), \"The number of TP is not an integer!\""
   ],
   "outputs": [],
   "execution_count": 95
  },
  {
   "cell_type": "code",
   "metadata": {
    "deletable": false,
    "editable": false,
    "nbgrader": {
     "cell_type": "code",
     "checksum": "322dded7458ba18a3eb82fdde9006fb6",
     "grade": true,
     "grade_id": "fn",
     "locked": true,
     "points": 1,
     "schema_version": 3,
     "solution": false,
     "task": false
    },
    "ExecuteTime": {
     "end_time": "2024-11-07T16:27:49.984414Z",
     "start_time": "2024-11-07T16:27:49.980797Z"
    }
   },
   "source": [
    "# DO NOT DELETE THIS CELL!\n",
    "assert isinstance(FN_, int), \"The number of FN is not an integer!\""
   ],
   "outputs": [],
   "execution_count": 96
  },
  {
   "cell_type": "code",
   "metadata": {
    "deletable": false,
    "editable": false,
    "nbgrader": {
     "cell_type": "code",
     "checksum": "294c9fdb76ac19e8842ac61bd26c9a00",
     "grade": true,
     "grade_id": "fp",
     "locked": true,
     "points": 1,
     "schema_version": 3,
     "solution": false,
     "task": false
    },
    "slideshow": {
     "slide_type": ""
    },
    "tags": [],
    "ExecuteTime": {
     "end_time": "2024-11-07T16:27:49.988984Z",
     "start_time": "2024-11-07T16:27:49.986045Z"
    }
   },
   "source": [
    "# DO NOT DELETE THIS CELL!\n",
    "assert isinstance(FP_, int), \"The number of FP is not an integer!\""
   ],
   "outputs": [],
   "execution_count": 97
  },
  {
   "cell_type": "code",
   "metadata": {
    "deletable": false,
    "editable": false,
    "nbgrader": {
     "cell_type": "code",
     "checksum": "ad9bd6fc8418baa4c640ad1a7126e6d5",
     "grade": true,
     "grade_id": "tn",
     "locked": true,
     "points": 1,
     "schema_version": 3,
     "solution": false,
     "task": false
    },
    "slideshow": {
     "slide_type": ""
    },
    "tags": [],
    "ExecuteTime": {
     "end_time": "2024-11-07T16:27:49.994534Z",
     "start_time": "2024-11-07T16:27:49.991140Z"
    }
   },
   "source": [
    "# DO NOT DELETE THIS CELL!\n",
    "assert isinstance(TN_, int), \"The number of TN is not an integer!\""
   ],
   "outputs": [],
   "execution_count": 98
  },
  {
   "cell_type": "code",
   "metadata": {
    "deletable": false,
    "editable": true,
    "nbgrader": {
     "cell_type": "code",
     "checksum": "8f05ce859370b87b46d6235276aa3c3f",
     "grade": false,
     "grade_id": "eval_metrics",
     "locked": false,
     "schema_version": 3,
     "solution": true,
     "task": false
    },
    "slideshow": {
     "slide_type": ""
    },
    "tags": [],
    "ExecuteTime": {
     "end_time": "2024-11-07T16:27:50.003523Z",
     "start_time": "2024-11-07T16:27:49.998010Z"
    }
   },
   "source": [
    "def evaluation_meatrics(TP: int, TN: int, FP: int, FN: int) -> tuple[float, float, float, float, float, float, float, float]:\n",
    "    \"\"\"Calculate evaluation metrics for a binary classification model.\n",
    "\n",
    "    This function computes common evaluation metrics, including True Positive Rate (TPR),\n",
    "    True Negative Rate (TNR), False Positive Rate (FPR), False Negative Rate (FNR), \n",
    "    Accuracy (ACC), Balanced Accuracy (BACC), Precision (PREC), and F1 Score (F1), \n",
    "    based on the counts of true positives, true negatives, false positives, and false negatives.\n",
    "\n",
    "    Parameters\n",
    "    ----------\n",
    "    TP : int\n",
    "        Number of true positive cases.\n",
    "    TN : int\n",
    "        Number of true negative cases.\n",
    "    FP : int\n",
    "        Number of false positive cases.\n",
    "    FN : int\n",
    "        Number of false negative cases.\n",
    "\n",
    "    Returns\n",
    "    -------\n",
    "    tuple of float\n",
    "        - TPR : float\n",
    "            True Positive Rate, or Recall.\n",
    "        - TNR : float\n",
    "            True Negative Rate, or Specificity.\n",
    "        - FPR : float\n",
    "            False Positive Rate.\n",
    "        - FNR : float\n",
    "            False Negative Rate.\n",
    "        - ACC : float\n",
    "            Accuracy of the model.\n",
    "        - BACC : float\n",
    "            Balanced Accuracy, the average of TPR and TNR.\n",
    "        - PREC : float\n",
    "            Precision of the model.\n",
    "        - F1 : float\n",
    "            F1 Score, the harmonic mean of Precision and Recall\n",
    "    \"\"\"    \n",
    "    # YOUR CODE HERE\n",
    "    # Calculate metrics\n",
    "    TPR = TP / (TP + FN) if (TP + FN) != 0 else 0  # Recall\n",
    "    TNR = TN / (TN + FP) if (TN + FP) != 0 else 0  # Specificity\n",
    "    FPR = FP / (TN + FP) if (TN + FP) != 0 else 0\n",
    "    FNR = FN / (TP + FN) if (TP + FN) != 0 else 0\n",
    "    ACC = (TP + TN) / (TP + TN + FP + FN) if (TP + TN + FP + FN) != 0 else 0\n",
    "    BACC = (TPR + TNR) / 2\n",
    "    PREC = TP / (TP + FP) if (TP + FP) != 0 else 0\n",
    "    F1 = 2 * (PREC * TPR) / (PREC + TPR) if (PREC + TPR) != 0 else 0\n",
    "\n",
    "    return TPR, TNR, FPR, FNR, ACC, BACC, PREC, F1"
   ],
   "outputs": [],
   "execution_count": 99
  },
  {
   "cell_type": "code",
   "metadata": {
    "deletable": false,
    "editable": false,
    "nbgrader": {
     "cell_type": "code",
     "checksum": "07b303be29fb343425729b80656e6cc4",
     "grade": true,
     "grade_id": "tpr",
     "locked": true,
     "points": 0.5,
     "schema_version": 3,
     "solution": false,
     "task": false
    },
    "slideshow": {
     "slide_type": ""
    },
    "tags": [],
    "ExecuteTime": {
     "end_time": "2024-11-07T16:27:50.008627Z",
     "start_time": "2024-11-07T16:27:50.004906Z"
    }
   },
   "source": [
    "# DO NOT DELETE THIS CELL!\n",
    "TPR_, TNR_, FPR_, FNR_, ACC_, BACC_, PREC_, F1_ = evaluation_meatrics(TP_, TN_, FP_, FN_)\n",
    "assert isinstance(TPR_, float), \"The TPR is not a float!\"\n",
    "assert TPR_ == 0.5, \"The TPR is wrong!\""
   ],
   "outputs": [],
   "execution_count": 100
  },
  {
   "cell_type": "code",
   "metadata": {
    "deletable": false,
    "editable": false,
    "nbgrader": {
     "cell_type": "code",
     "checksum": "3a674be8764966eef1fbef8e8f58d199",
     "grade": true,
     "grade_id": "tnr",
     "locked": true,
     "points": 0.5,
     "schema_version": 3,
     "solution": false,
     "task": false
    },
    "ExecuteTime": {
     "end_time": "2024-11-07T16:27:50.015673Z",
     "start_time": "2024-11-07T16:27:50.012010Z"
    }
   },
   "source": [
    "# DO NOT DELETE THIS CELL!\n",
    "assert isinstance(TNR_, float), \"The TNR is not a float!\"\n",
    "assert TNR_ == 2/3, \"The TNR is wrong!\""
   ],
   "outputs": [],
   "execution_count": 101
  },
  {
   "cell_type": "code",
   "metadata": {
    "deletable": false,
    "editable": false,
    "nbgrader": {
     "cell_type": "code",
     "checksum": "7f48b43bdd7ef1b128e24f5c8a666397",
     "grade": true,
     "grade_id": "fpr",
     "locked": true,
     "points": 0.5,
     "schema_version": 3,
     "solution": false,
     "task": false
    },
    "ExecuteTime": {
     "end_time": "2024-11-07T16:27:50.020747Z",
     "start_time": "2024-11-07T16:27:50.017679Z"
    }
   },
   "source": [
    "# DO NOT DELETE THIS CELL!\n",
    "assert isinstance(FPR_, float), \"The FPR is not a float!\"\n",
    "assert FPR_ == 1/3, \"The FPR is wrong!\""
   ],
   "outputs": [],
   "execution_count": 102
  },
  {
   "cell_type": "code",
   "metadata": {
    "deletable": false,
    "editable": false,
    "nbgrader": {
     "cell_type": "code",
     "checksum": "f64c07f335e40f2aa28de88dc1b1187a",
     "grade": true,
     "grade_id": "fnr",
     "locked": true,
     "points": 0.5,
     "schema_version": 3,
     "solution": false,
     "task": false
    },
    "ExecuteTime": {
     "end_time": "2024-11-07T16:27:50.026877Z",
     "start_time": "2024-11-07T16:27:50.022941Z"
    }
   },
   "source": [
    "# DO NOT DELETE THIS CELL!\n",
    "assert isinstance(FNR_, float), \"The FNR is not a float!\"\n",
    "assert FNR_ == 0.5, \"The FNR is wrong!\""
   ],
   "outputs": [],
   "execution_count": 103
  },
  {
   "cell_type": "code",
   "metadata": {
    "deletable": false,
    "editable": false,
    "nbgrader": {
     "cell_type": "code",
     "checksum": "c2ab947221cd5d418fc75b60d47e6575",
     "grade": true,
     "grade_id": "acc",
     "locked": true,
     "points": 0.5,
     "schema_version": 3,
     "solution": false,
     "task": false
    },
    "slideshow": {
     "slide_type": ""
    },
    "tags": [],
    "ExecuteTime": {
     "end_time": "2024-11-07T16:27:50.033992Z",
     "start_time": "2024-11-07T16:27:50.030279Z"
    }
   },
   "source": [
    "# DO NOT DELETE THIS CELL!\n",
    "assert isinstance(ACC_, float), \"The ACC is not a float!\"\n",
    "assert round(ACC_, 3) == 0.583, \"The ACC is wrong!\""
   ],
   "outputs": [],
   "execution_count": 104
  },
  {
   "cell_type": "code",
   "metadata": {
    "deletable": false,
    "editable": false,
    "nbgrader": {
     "cell_type": "code",
     "checksum": "ee53692175681d3e029c905783cd5d6c",
     "grade": true,
     "grade_id": "bacc",
     "locked": true,
     "points": 0.5,
     "schema_version": 3,
     "solution": false,
     "task": false
    },
    "slideshow": {
     "slide_type": ""
    },
    "tags": [],
    "ExecuteTime": {
     "end_time": "2024-11-07T16:27:50.039134Z",
     "start_time": "2024-11-07T16:27:50.035593Z"
    }
   },
   "source": [
    "# DO NOT DELETE THIS CELL!\n",
    "assert isinstance(BACC_, float), \"The BACC is not a float!\"\n",
    "assert round(BACC_, 3) == 0.583, \"The BACC is wrong!\""
   ],
   "outputs": [],
   "execution_count": 105
  },
  {
   "cell_type": "code",
   "metadata": {
    "deletable": false,
    "editable": false,
    "nbgrader": {
     "cell_type": "code",
     "checksum": "9e874fec1eccb6c28c40e966b60d3b3f",
     "grade": true,
     "grade_id": "prec",
     "locked": true,
     "points": 0.5,
     "schema_version": 3,
     "solution": false,
     "task": false
    },
    "slideshow": {
     "slide_type": ""
    },
    "tags": [],
    "ExecuteTime": {
     "end_time": "2024-11-07T16:27:50.045626Z",
     "start_time": "2024-11-07T16:27:50.040750Z"
    }
   },
   "source": [
    "# DO NOT DELETE THIS CELL!\n",
    "assert isinstance(PREC_, float), \"The PREC is not a float!\"\n",
    "assert PREC_ == 0.6, \"The PREC is wrong!\""
   ],
   "outputs": [],
   "execution_count": 106
  },
  {
   "cell_type": "code",
   "metadata": {
    "deletable": false,
    "editable": false,
    "nbgrader": {
     "cell_type": "code",
     "checksum": "0c9b82d6b0dcfbda71825ec040002f8e",
     "grade": true,
     "grade_id": "f1_score",
     "locked": true,
     "points": 0.5,
     "schema_version": 3,
     "solution": false,
     "task": false
    },
    "slideshow": {
     "slide_type": ""
    },
    "tags": [],
    "ExecuteTime": {
     "end_time": "2024-11-07T16:27:50.050985Z",
     "start_time": "2024-11-07T16:27:50.047293Z"
    }
   },
   "source": [
    "# DO NOT DELETE THIS CELL!\n",
    "assert isinstance(F1_, float), \"The F1 is not a float!\"\n",
    "assert F1_ == 6/11, \"The F1 is wrong!\""
   ],
   "outputs": [],
   "execution_count": 107
  },
  {
   "cell_type": "code",
   "metadata": {
    "deletable": false,
    "editable": false,
    "nbgrader": {
     "cell_type": "code",
     "checksum": "96d681b6e3ec93e9b619ec415d5e8e5c",
     "grade": false,
     "grade_id": "cell-1d7900fe313c290c",
     "locked": true,
     "schema_version": 3,
     "solution": false,
     "task": false
    },
    "slideshow": {
     "slide_type": ""
    },
    "tags": [],
    "ExecuteTime": {
     "end_time": "2024-11-07T16:27:50.056472Z",
     "start_time": "2024-11-07T16:27:50.052694Z"
    }
   },
   "source": [
    "# Nothing to do here, just run the cell.\n",
    "print(\" TPR = {:.3f}\\n TNR = {:.3f}\\n FPR = {:.3f}\\n FNR = {:.3f}\\n ACC = {:.3f}\\nBACC = {:.3f}\\nPREC = {:.3f}\\n  F1 = {:.3f}\".format(TPR_, TNR_, FPR_, FNR_, ACC_, BACC_, PREC_, F1_))"
   ],
   "outputs": [
    {
     "name": "stdout",
     "output_type": "stream",
     "text": [
      " TPR = 0.500\n",
      " TNR = 0.667\n",
      " FPR = 0.333\n",
      " FNR = 0.500\n",
      " ACC = 0.583\n",
      "BACC = 0.583\n",
      "PREC = 0.600\n",
      "  F1 = 0.545\n"
     ]
    }
   ],
   "execution_count": 108
  },
  {
   "cell_type": "markdown",
   "metadata": {
    "deletable": false,
    "editable": false,
    "nbgrader": {
     "cell_type": "markdown",
     "checksum": "b4d414eabdcc408db919183bee189f31",
     "grade": false,
     "grade_id": "cell-b13aaa9b1cba0872",
     "locked": true,
     "schema_version": 3,
     "solution": false,
     "task": false
    },
    "slideshow": {
     "slide_type": ""
    },
    "tags": []
   },
   "source": [
    "<h3 style=\"color:rgb(210,90,80)\">Calculation 5.2 (7 Points):</h3>"
   ]
  },
  {
   "cell_type": "code",
   "metadata": {
    "deletable": false,
    "editable": true,
    "nbgrader": {
     "cell_type": "code",
     "checksum": "bbddb53270eb1243652d03f4400a1a79",
     "grade": false,
     "grade_id": "calc_prob",
     "locked": false,
     "schema_version": 3,
     "solution": true,
     "task": false
    },
    "slideshow": {
     "slide_type": ""
    },
    "tags": [],
    "ExecuteTime": {
     "end_time": "2024-11-07T16:27:50.068755Z",
     "start_time": "2024-11-07T16:27:50.064177Z"
    }
   },
   "source": [
    "def calc_prob(spec: float, sens: float, pop: int, inf: int) -> tuple[float, float]:\n",
    "    \"\"\"Calculate the rounded probabilities of false positives and false negatives.\n",
    "\n",
    "    This function computes two probabilities: \n",
    "    - `p1`: the probability of a false positive given a positive test result.\n",
    "    - `p2`: the probability of a false negative given a negative test result.\n",
    "\n",
    "    Parameters\n",
    "    ----------\n",
    "    spec : float\n",
    "        Specificity of the test (True Negative Rate).\n",
    "    sens : float\n",
    "        Sensitivity of the test (True Positive Rate).\n",
    "    pop : int\n",
    "        Total population size.\n",
    "    inf : int\n",
    "        Number of infected individuals in the population.\n",
    "\n",
    "    Returns\n",
    "    -------\n",
    "    tuple of float\n",
    "        - p1 : float\n",
    "            Probability of a false positive given a positive test result, rounded to 4 decimal places.\n",
    "        - p2 : float\n",
    "            Probability of a false negative given a negative test result, rounded to 4 decimal places.\n",
    "    \"\"\"\n",
    "    # YOUR CODE HERE\n",
    "    # Number of infected and non-infected people\n",
    "    non_inf = pop - inf\n",
    "    \n",
    "    # True Positives and False Negatives for infected people\n",
    "    TP = sens * inf\n",
    "    FN = (1 - sens) * inf\n",
    "    \n",
    "    # True Negatives and False Positives for non-infected people\n",
    "    TN = spec * non_inf\n",
    "    FP = (1 - spec) * non_inf\n",
    "    \n",
    "    # Probability of a false positive given a positive test result\n",
    "    p1 = FP / (TP + FP) if (TP + FP) != 0 else 0\n",
    "    # Probability of a false negative given a negative test result\n",
    "    p2 = FN / (TN + FN) if (TN + FN) != 0 else 0\n",
    "    \n",
    "    # Round the results to 4 decimal places\n",
    "    return round(p1, 4), round(p2, 4)"
   ],
   "outputs": [],
   "execution_count": 109
  },
  {
   "cell_type": "code",
   "metadata": {
    "deletable": false,
    "editable": false,
    "nbgrader": {
     "cell_type": "code",
     "checksum": "60e7cf80653aac7ab57b3d53f693bf7f",
     "grade": true,
     "grade_id": "calc_prob_p1",
     "locked": true,
     "points": 3.5,
     "schema_version": 3,
     "solution": false,
     "task": false
    },
    "ExecuteTime": {
     "end_time": "2024-11-07T16:27:50.073766Z",
     "start_time": "2024-11-07T16:27:50.070674Z"
    }
   },
   "source": [
    "# DO NOT DELETE THIS CELL!\n",
    "p1, _ = calc_prob(0.90, 0.95, 1000, 50)\n",
    "assert isinstance(p1, float), \"The probability of a false positive is not a float!\"\n",
    "assert p1 == 0.6667, \"The probability of a false positive is not correct!\""
   ],
   "outputs": [],
   "execution_count": 110
  },
  {
   "cell_type": "code",
   "metadata": {
    "deletable": false,
    "editable": false,
    "nbgrader": {
     "cell_type": "code",
     "checksum": "3f92df2841550527d3359bcbdd2b4056",
     "grade": true,
     "grade_id": "calc_prob_p2",
     "locked": true,
     "points": 3.5,
     "schema_version": 3,
     "solution": false,
     "task": false
    },
    "ExecuteTime": {
     "end_time": "2024-11-07T16:27:50.078909Z",
     "start_time": "2024-11-07T16:27:50.075449Z"
    }
   },
   "source": [
    "# DO NOT DELETE THIS CELL!\n",
    "_, p2 = calc_prob(0.90, 0.95, 1000, 50)\n",
    "assert isinstance(p2, float), \"The probability of a false negative is not a float!\"\n",
    "assert p2 == 0.0029, \"The probability of a false negative is not correct!\""
   ],
   "outputs": [],
   "execution_count": 111
  },
  {
   "cell_type": "code",
   "metadata": {
    "deletable": false,
    "editable": false,
    "nbgrader": {
     "cell_type": "code",
     "checksum": "68191d701dae41a6b7300f9bfd98239a",
     "grade": false,
     "grade_id": "cell-f8cf19102bee2009",
     "locked": true,
     "schema_version": 3,
     "solution": false,
     "task": false
    },
    "slideshow": {
     "slide_type": ""
    },
    "tags": [],
    "ExecuteTime": {
     "end_time": "2024-11-07T16:27:50.084606Z",
     "start_time": "2024-11-07T16:27:50.080708Z"
    }
   },
   "source": [
    "print(\"The probability that a person who is tested positive is in fact not infected is {}\".format(p1))\n",
    "print(\"The probability that a person who is tested negative is in fact infected is {}\".format(p2))"
   ],
   "outputs": [
    {
     "name": "stdout",
     "output_type": "stream",
     "text": [
      "The probability that a person who is tested positive is in fact not infected is 0.6667\n",
      "The probability that a person who is tested negative is in fact infected is 0.0029\n"
     ]
    }
   ],
   "execution_count": 112
  },
  {
   "cell_type": "code",
   "metadata": {
    "ExecuteTime": {
     "end_time": "2024-11-07T16:27:50.088669Z",
     "start_time": "2024-11-07T16:27:50.085937Z"
    }
   },
   "source": [],
   "outputs": [],
   "execution_count": 112
  },
  {
   "cell_type": "code",
   "metadata": {
    "ExecuteTime": {
     "end_time": "2024-11-07T16:27:50.092362Z",
     "start_time": "2024-11-07T16:27:50.089952Z"
    }
   },
   "source": [],
   "outputs": [],
   "execution_count": 112
  }
 ],
 "metadata": {
  "kernelspec": {
   "display_name": "Python 3 (ipykernel)",
   "language": "python",
   "name": "python3"
  },
  "language_info": {
   "codemirror_mode": {
    "name": "ipython",
    "version": 3
   },
   "file_extension": ".py",
   "mimetype": "text/x-python",
   "name": "python",
   "nbconvert_exporter": "python",
   "pygments_lexer": "ipython3",
   "version": "3.11.10"
  },
  "vscode": {
   "interpreter": {
    "hash": "356734b0b4e05b3af569ed06eb258f6ef66038e7268c6bdbb97ecd1a1c609e88"
   }
  }
 },
 "nbformat": 4,
 "nbformat_minor": 4
}
